{
 "cells": [
  {
   "cell_type": "markdown",
   "metadata": {},
   "source": [
    "## Etude des sujets des amendements PLFSS\n",
    "\n",
    "## Préparation des données"
   ]
  },
  {
   "cell_type": "code",
   "execution_count": 1,
   "metadata": {},
   "outputs": [],
   "source": [
    "#!python -m pip install --upgrade pip"
   ]
  },
  {
   "cell_type": "code",
   "execution_count": 2,
   "metadata": {},
   "outputs": [],
   "source": [
    "#!pip install -q --upgrade pandas  spacy  more_itertools"
   ]
  },
  {
   "cell_type": "code",
   "execution_count": 3,
   "metadata": {},
   "outputs": [],
   "source": [
    "# Put these at the top of every notebook, to get automatic reloading and inline plotting\n",
    "%reload_ext autoreload\n",
    "%autoreload 2\n",
    "from IPython.core.interactiveshell import InteractiveShell\n",
    "InteractiveShell.ast_node_interactivity = \"all\""
   ]
  },
  {
   "cell_type": "code",
   "execution_count": 4,
   "metadata": {},
   "outputs": [],
   "source": [
    "#!python -m spacy download fr_core_news_sm > /dev/null"
   ]
  },
  {
   "cell_type": "code",
   "execution_count": 5,
   "metadata": {},
   "outputs": [
    {
     "data": {
      "text/html": [
       "<div>\n",
       "<style scoped>\n",
       "    .dataframe tbody tr th:only-of-type {\n",
       "        vertical-align: middle;\n",
       "    }\n",
       "\n",
       "    .dataframe tbody tr th {\n",
       "        vertical-align: top;\n",
       "    }\n",
       "\n",
       "    .dataframe thead th {\n",
       "        text-align: right;\n",
       "    }\n",
       "</style>\n",
       "<table border=\"1\" class=\"dataframe\">\n",
       "  <thead>\n",
       "    <tr style=\"text-align: right;\">\n",
       "      <th></th>\n",
       "      <th>texteLegislatifUid</th>\n",
       "      <th>uid</th>\n",
       "      <th>dispositif</th>\n",
       "      <th>exposeSommaire</th>\n",
       "    </tr>\n",
       "  </thead>\n",
       "  <tbody>\n",
       "    <tr>\n",
       "      <th>0</th>\n",
       "      <td>PRJLANR5L15B2296</td>\n",
       "      <td>AMANR5L15PO420120B2296P0D1N000002</td>\n",
       "      <td>À la première phrase du premier alinéa de l’ar...</td>\n",
       "      <td>L’article L 531‑2 du Code de la Sécurité Socia...</td>\n",
       "    </tr>\n",
       "    <tr>\n",
       "      <th>1</th>\n",
       "      <td>PRJLANR5L15B2296</td>\n",
       "      <td>AMANR5L15PO420120B2296P0D1N000010</td>\n",
       "      <td>Le premier alinéa de l’article L. 521‑1 du cod...</td>\n",
       "      <td>Pendant plus de cinquante ans, notre politique...</td>\n",
       "    </tr>\n",
       "    <tr>\n",
       "      <th>2</th>\n",
       "      <td>PRJLANR5L15B2296</td>\n",
       "      <td>AMANR5L15PO420120B2296P0D1N000011</td>\n",
       "      <td>Dans les douze mois à compter de la promulgati...</td>\n",
       "      <td>Alors que depuis cinquante ans le principe mêm...</td>\n",
       "    </tr>\n",
       "    <tr>\n",
       "      <th>3</th>\n",
       "      <td>PRJLANR5L15B2296</td>\n",
       "      <td>AMANR5L15PO420120B2296P0D1N000012</td>\n",
       "      <td>Dans les six mois suivant la promulgation de l...</td>\n",
       "      <td>Depuis 2012, un grand nombre de mesures ont ét...</td>\n",
       "    </tr>\n",
       "    <tr>\n",
       "      <th>4</th>\n",
       "      <td>PRJLANR5L15B2296</td>\n",
       "      <td>AMANR5L15PO420120B2296P0D1N000015</td>\n",
       "      <td>Dans les six mois suivant la promulgation de l...</td>\n",
       "      <td>Depuis 2012, un grand nombre de mesures ont ét...</td>\n",
       "    </tr>\n",
       "  </tbody>\n",
       "</table>\n",
       "</div>"
      ],
      "text/plain": [
       "  texteLegislatifUid                                uid  \\\n",
       "0   PRJLANR5L15B2296  AMANR5L15PO420120B2296P0D1N000002   \n",
       "1   PRJLANR5L15B2296  AMANR5L15PO420120B2296P0D1N000010   \n",
       "2   PRJLANR5L15B2296  AMANR5L15PO420120B2296P0D1N000011   \n",
       "3   PRJLANR5L15B2296  AMANR5L15PO420120B2296P0D1N000012   \n",
       "4   PRJLANR5L15B2296  AMANR5L15PO420120B2296P0D1N000015   \n",
       "\n",
       "                                          dispositif  \\\n",
       "0  À la première phrase du premier alinéa de l’ar...   \n",
       "1  Le premier alinéa de l’article L. 521‑1 du cod...   \n",
       "2  Dans les douze mois à compter de la promulgati...   \n",
       "3  Dans les six mois suivant la promulgation de l...   \n",
       "4  Dans les six mois suivant la promulgation de l...   \n",
       "\n",
       "                                      exposeSommaire  \n",
       "0  L’article L 531‑2 du Code de la Sécurité Socia...  \n",
       "1  Pendant plus de cinquante ans, notre politique...  \n",
       "2  Alors que depuis cinquante ans le principe mêm...  \n",
       "3  Depuis 2012, un grand nombre de mesures ont ét...  \n",
       "4  Depuis 2012, un grand nombre de mesures ont ét...  "
      ]
     },
     "execution_count": 5,
     "metadata": {},
     "output_type": "execute_result"
    }
   ],
   "source": [
    "# Importing modules\n",
    "import pandas as pd\n",
    "amdt = pd.read_csv('textes_amendements_nouveaux_articles_plfss_2020-2021.csv')\n",
    "#amdt = pd.read_csv('https://github.com/leximpact/donnees-extraites-assemblee/raw/main/textes_amendements_nouveaux_articles_plfss_2020-2021.csv')\n",
    "amdt.head(5)"
   ]
  },
  {
   "cell_type": "code",
   "execution_count": 6,
   "metadata": {},
   "outputs": [
    {
     "data": {
      "text/plain": [
       "1608"
      ]
     },
     "execution_count": 6,
     "metadata": {},
     "output_type": "execute_result"
    }
   ],
   "source": [
    "len(amdt) #Nombre total d'amendements"
   ]
  },
  {
   "cell_type": "code",
   "execution_count": 7,
   "metadata": {},
   "outputs": [],
   "source": [
    "#On regroupe dans un même texte chaque dispositif et son exposé sommaire\n",
    "amdt['texte'] = amdt['dispositif'] + amdt['exposeSommaire'] "
   ]
  },
  {
   "cell_type": "markdown",
   "metadata": {},
   "source": [
    "## Nettoyage"
   ]
  },
  {
   "cell_type": "code",
   "execution_count": 8,
   "metadata": {},
   "outputs": [],
   "source": [
    "#pip install nltk"
   ]
  },
  {
   "cell_type": "code",
   "execution_count": 9,
   "metadata": {},
   "outputs": [
    {
     "name": "stderr",
     "output_type": "stream",
     "text": [
      "[nltk_data] Error loading stopwords: <urlopen error [Errno 8] nodename\n",
      "[nltk_data]     nor servname provided, or not known>\n"
     ]
    },
    {
     "data": {
      "text/plain": [
       "False"
      ]
     },
     "execution_count": 9,
     "metadata": {},
     "output_type": "execute_result"
    }
   ],
   "source": [
    "import nltk\n",
    "nltk.download('stopwords')"
   ]
  },
  {
   "cell_type": "code",
   "execution_count": 10,
   "metadata": {},
   "outputs": [],
   "source": [
    "#Tokenisation := découpage du texte en listes de mots\n",
    "from nltk.tokenize import word_tokenize\n",
    "tokenized = [ word_tokenize(text) for text in amdt['texte'] ] #return_token"
   ]
  },
  {
   "cell_type": "markdown",
   "metadata": {},
   "source": [
    "# Normalization"
   ]
  },
  {
   "cell_type": "markdown",
   "metadata": {},
   "source": [
    "### Retrait des mots de liaison (_stopword_) et de la ponctuation"
   ]
  },
  {
   "cell_type": "code",
   "execution_count": 11,
   "metadata": {},
   "outputs": [],
   "source": [
    "# #Removing punctuation AND Casing\n",
    "#( Casing: Est-ce vraiment utile ? Est-ce qu'on ne va pas perdre les Acronymes de vue ?)\n",
    "new_tokenized = []\n",
    "for token in tokenized:\n",
    "    new_tokenized.append([ word.lower() for word in token if word.isalpha()])"
   ]
  },
  {
   "cell_type": "code",
   "execution_count": 12,
   "metadata": {},
   "outputs": [
    {
     "name": "stdout",
     "output_type": "stream",
     "text": [
      "['dans', 'les', 'six', 'mois', 'suivant', 'la', 'promulgation', 'de', 'la', 'loi', 'le', 'gouvernement', 'remet', 'un', 'rapport', 'au', 'parlement', 'qui', 'évalue', 'les', 'conséquences', 'des', 'mesures', 'adoptées', 'entre', 'et', 'sur', 'la', 'politique', 'rapport', 'porte', 'notamment', 'sur', 'le', 'quotient', 'familial', 'les', 'allocations', 'familiales', 'le', 'congé', 'parental', 'la', 'prime', 'de', 'naissance', 'l', 'allocation', 'de', 'base', 'de', 'la', 'prestation', 'd', 'accueil', 'du', 'jeune', 'enfant', 'et', 'les', 'modes', 'de', 'un', 'grand', 'nombre', 'de', 'mesures', 'ont', 'été', 'adoptées', 'au', 'détriment', 'des', 'familles', 'baisse', 'répétée', 'du', 'quotient', 'modulation', 'des', 'allocations', 'congé', 'parental', 'partagé', 'limitant', 'la', 'durée', 'maximale', 'pour', 'parent', 'à', 'ans', 'au', 'lieu', 'de', 'de', 'naissance', 'versée', 'après', 'la', 'naissance', 'et', 'non', 'non', 'tenues', 'en', 'termes', 'de', 'modes', 'de', 'conditions', 'plus', 'drastiques', 'et', 'baisse', 'des', 'montants', 'pour', 'l', 'allocation', 'de', 'base', 'de', 'la', 'paje', 'ainsi', 'que', 'pour', 'le', 'complément', 'modes', 'de', 'garde', 'or', 'force', 'est', 'de', 'constater', 'que', 'le', 'nombre', 'de', 'naissances', 'en', 'france', 'métropolitaine', 'a', 'baissé', 'depuis', 'ans', 'ainsi', 'selon', 'les', 'statistiques', 'de', 'l', 'insee', 'première', 'parues', 'en', 'août', 'enfants', 'de', 'moins', 'sont', 'nés', 'au', 'cours', 'de', 'ces', 'dernières', 'années', 'aussi', 'toutes', 'les', 'dispositions', 'adoptées', 'doivent', 'être', 'évaluées', 'afin', 'd', 'en', 'mesurer', 'la', 'portée', 'sur', 'la', 'politique', 'familiale', 'tel', 'est', 'l', 'objet', 'de', 'cet', 'amendement']\n"
     ]
    }
   ],
   "source": [
    "print(new_tokenized[4])"
   ]
  },
  {
   "cell_type": "code",
   "execution_count": 13,
   "metadata": {},
   "outputs": [
    {
     "name": "stdout",
     "output_type": "stream",
     "text": [
      "['au', 'aux', 'avec', 'ce', 'ces', 'dans', 'de', 'des', 'du', 'elle', 'en', 'et', 'eux', 'il', 'ils', 'je', 'la', 'le', 'les', 'leur']\n"
     ]
    }
   ],
   "source": [
    "#Stop words\n",
    "\n",
    "#On importe les mots \"inutiles\" (stopwords) du langage français\n",
    "from nltk.corpus import stopwords \n",
    "stop_words = stopwords.words(\"french\")\n",
    "print(stop_words[:20])"
   ]
  },
  {
   "cell_type": "code",
   "execution_count": 14,
   "metadata": {},
   "outputs": [
    {
     "name": "stdout",
     "output_type": "stream",
     "text": [
      "NOS MOTS 'INUTILES' : \n",
      " ['alinéa', 'amendement', 'º', 'L.', 'loi', 'présent', 'rapport', '1', '2020', 'II', 'phrase', '2', 'Gouvernement', 'I.', '575', 'organismes', '3', '2019', 'secteur', 'non', 'mot', 'mesure', 'Etat', 'Objet', 'objet', 'compte', 'situation', 'ans', 'propose', '4', 'III', 'également', 'congé', 'ainsi', 'afin', 'tel', 'cet']\n"
     ]
    }
   ],
   "source": [
    "#On importe nos propres stopwords\n",
    "SW = pd.read_csv('Added_stop_words.csv')\n",
    "SW = list(SW['StopWords'])\n",
    "print(\"NOS MOTS 'INUTILES' : \\n\", SW)"
   ]
  },
  {
   "cell_type": "code",
   "execution_count": 15,
   "metadata": {},
   "outputs": [
    {
     "name": "stdout",
     "output_type": "stream",
     "text": [
      "AVANT : \n",
      " ['Dans', 'les', 'six', 'mois', 'suivant', 'la', 'promulgation', 'de', 'la', 'loi', ',', 'le', 'Gouvernement', 'remet', 'un', 'rapport', 'au', 'Parlement', 'qui', 'évalue', 'les', 'conséquences', 'des', 'mesures', 'adoptées', 'entre', '2012', 'et', '2018', 'sur', 'la', 'politique', 'familiale.Ce', 'rapport', 'porte', 'notamment', 'sur', 'le', 'quotient', 'familial', ',', 'les', 'allocations', 'familiales', ',', 'le', 'congé', 'parental', ',', 'la', 'prime', 'de', 'naissance', ',', 'l', '’', 'allocation', 'de', 'base', 'de', 'la', 'prestation', 'd', '’', 'accueil', 'du', 'jeune', 'enfant', 'et', 'les', 'modes', 'de', 'garde.Depuis', '2012', ',', 'un', 'grand', 'nombre', 'de', 'mesures', 'ont', 'été', 'adoptées', 'au', 'détriment', 'des', 'familles', ':', '-', 'Baisse', 'répétée', 'du', 'quotient', 'familial-', 'Modulation', 'des', 'allocations', 'familiales-', 'Congé', 'parental', 'partagé', 'limitant', 'la', 'durée', 'maximale', 'pour', '1', 'parent', 'à', '2', 'ans', 'au', 'lieu', 'de', '3-Prime', 'de', 'naissance', 'versée', 'après', 'la', 'naissance', 'et', 'non', 'avant-Promesses', 'non', 'tenues', 'en', 'termes', 'de', 'modes', 'de', 'garde-', 'Conditions', 'plus', 'drastiques', 'et', 'baisse', 'des', 'montants', 'pour', 'l', '’', 'allocation', 'de', 'base', 'de', 'la', 'PAJE', 'ainsi', 'que', 'pour', 'le', 'complément', 'modes', 'de', 'garde', '.', 'Or', 'force', 'est', 'de', 'constater', 'que', 'le', 'nombre', 'de', 'naissances', 'en', 'France', 'métropolitaine', 'a', 'baissé', 'depuis', '6', 'ans', '.', 'Ainsi', ',', 'selon', 'les', 'statistiques', 'de', 'l', '’', 'Insee', 'Première', 'parues', 'en', 'août', '2018', '185.000', 'enfants', 'de', 'moins', 'sont', 'nés', 'au', 'cours', 'de', 'ces', '6', 'dernières', 'années', '(', '2012‑2018', ')', '.', 'Aussi', ',', 'toutes', 'les', 'dispositions', 'adoptées', 'doivent', 'être', 'évaluées', 'afin', 'd', '’', 'en', 'mesurer', 'la', 'portée', 'sur', 'la', 'politique', 'familiale', '.', 'Tel', 'est', 'l', '’', 'objet', 'de', 'cet', 'amendement', '.'] \n",
      "\n",
      "APRÈS : \n",
      " ['six', 'mois', 'suivant', 'promulgation', 'gouvernement', 'remet', 'parlement', 'évalue', 'conséquences', 'mesures', 'adoptées', 'entre', 'politique', 'porte', 'notamment', 'quotient', 'familial', 'allocations', 'familiales', 'parental', 'prime', 'naissance', 'allocation', 'base', 'prestation', 'accueil', 'jeune', 'enfant', 'modes', 'grand', 'nombre', 'mesures', 'adoptées', 'détriment', 'familles', 'baisse', 'répétée', 'quotient', 'modulation', 'allocations', 'parental', 'partagé', 'limitant', 'durée', 'maximale', 'parent', 'lieu', 'naissance', 'versée', 'après', 'naissance', 'tenues', 'termes', 'modes', 'conditions', 'plus', 'drastiques', 'baisse', 'montants', 'allocation', 'base', 'paje', 'complément', 'modes', 'garde', 'or', 'force', 'constater', 'nombre', 'naissances', 'france', 'métropolitaine', 'a', 'baissé', 'depuis', 'selon', 'statistiques', 'insee', 'première', 'parues', 'août', 'enfants', 'moins', 'nés', 'cours', 'dernières', 'années', 'aussi', 'toutes', 'dispositions', 'adoptées', 'doivent', 'être', 'évaluées', 'mesurer', 'portée', 'politique', 'familiale'] \n",
      "\n",
      "MOT ENLEVÉS : \n",
      " ['alinéa', 'amendement', 'º', 'L.', 'loi', 'présent', 'rapport', '1', '2020', 'II', 'phrase', '2', 'Gouvernement', 'I.', '575', 'organismes', '3', '2019', 'secteur', 'non', 'mot', 'mesure', 'Etat', 'Objet', 'objet', 'compte', 'situation', 'ans', 'propose', '4', 'III', 'également', 'congé', 'ainsi', 'afin', 'tel', 'cet', 'au', 'aux', 'avec', 'ce', 'ces', 'dans', 'de', 'des', 'du', 'elle', 'en', 'et', 'eux', 'il', 'ils', 'je', 'la', 'le', 'les', 'leur', 'lui', 'ma', 'mais', 'me', 'même', 'mes', 'moi', 'mon', 'ne', 'nos', 'notre', 'nous', 'on', 'ou', 'par', 'pas', 'pour', 'qu', 'que', 'qui', 'sa', 'se', 'ses', 'son', 'sur', 'ta', 'te', 'tes', 'toi', 'ton', 'tu', 'un', 'une', 'vos', 'votre', 'vous', 'c', 'd', 'j', 'l', 'à', 'm', 'n', 's', 't', 'y', 'été', 'étée', 'étées', 'étés', 'étant', 'étante', 'étants', 'étantes', 'suis', 'es', 'est', 'sommes', 'êtes', 'sont', 'serai', 'seras', 'sera', 'serons', 'serez', 'seront', 'serais', 'serait', 'serions', 'seriez', 'seraient', 'étais', 'était', 'étions', 'étiez', 'étaient', 'fus', 'fut', 'fûmes', 'fûtes', 'furent', 'sois', 'soit', 'soyons', 'soyez', 'soient', 'fusse', 'fusses', 'fût', 'fussions', 'fussiez', 'fussent', 'ayant', 'ayante', 'ayantes', 'ayants', 'eu', 'eue', 'eues', 'eus', 'ai', 'as', 'avons', 'avez', 'ont', 'aurai', 'auras', 'aura', 'aurons', 'aurez', 'auront', 'aurais', 'aurait', 'aurions', 'auriez', 'auraient', 'avais', 'avait', 'avions', 'aviez', 'avaient', 'eut', 'eûmes', 'eûtes', 'eurent', 'aie', 'aies', 'ait', 'ayons', 'ayez', 'aient', 'eusse', 'eusses', 'eût', 'eussions', 'eussiez', 'eussent']\n"
     ]
    }
   ],
   "source": [
    "#Stop Word removal\n",
    "print(\"AVANT : \\n\", tokenized[4], \"\\n\")\n",
    "final_SW = SW + stop_words\n",
    "tokenized = []\n",
    "for token in new_tokenized:\n",
    "    tokenized.append([ word for word in token if word not in final_SW])\n",
    "print(\"APRÈS : \\n\", tokenized[4], \"\\n\")\n",
    "\n",
    "print(\"MOT ENLEVÉS : \\n\", final_SW) # On affiche ci-dessous tous les mots que l'on a retirés"
   ]
  },
  {
   "cell_type": "code",
   "execution_count": 16,
   "metadata": {},
   "outputs": [
    {
     "name": "stderr",
     "output_type": "stream",
     "text": [
      "[nltk_data] Error loading wordnet: <urlopen error [Errno 8] nodename\n",
      "[nltk_data]     nor servname provided, or not known>\n"
     ]
    },
    {
     "data": {
      "text/plain": [
       "False"
      ]
     },
     "execution_count": 16,
     "metadata": {},
     "output_type": "execute_result"
    }
   ],
   "source": [
    "import nltk\n",
    "nltk.download('wordnet')"
   ]
  },
  {
   "cell_type": "code",
   "execution_count": 17,
   "metadata": {},
   "outputs": [
    {
     "name": "stdout",
     "output_type": "stream",
     "text": [
      "['six', 'mois', 'suivant', 'promulgation', 'gouvernement', 'remet', 'parlement', 'évalue', 'conséquences', 'mesures', 'adoptées', 'entre', 'politique', 'porte', 'notamment', 'quotient', 'familial', 'allocation', 'familiales', 'parental', 'prime', 'naissance', 'allocation', 'base', 'prestation', 'accueil', 'jeune', 'enfant', 'mode', 'grand', 'nombre', 'mesures', 'adoptées', 'détriment', 'familles', 'baisse', 'répétée', 'quotient', 'modulation', 'allocation', 'parental', 'partagé', 'limitant', 'durée', 'maximale', 'parent', 'lieu', 'naissance', 'versée', 'après', 'naissance', 'tenues', 'termes', 'mode', 'condition', 'plus', 'drastiques', 'baisse', 'montants', 'allocation', 'base', 'paje', 'complément', 'mode', 'garde', 'or', 'force', 'constater', 'nombre', 'naissances', 'france', 'métropolitaine', 'a', 'baissé', 'depuis', 'selon', 'statistiques', 'insee', 'première', 'parues', 'août', 'enfants', 'moins', 'nés', 'cours', 'dernières', 'années', 'aussi', 'toutes', 'disposition', 'adoptées', 'doivent', 'être', 'évaluées', 'mesurer', 'portée', 'politique', 'familiale']\n"
     ]
    }
   ],
   "source": [
    "#Lemmatization: on reduit les mots à leur racine\n",
    "from nltk.stem import WordNetLemmatizer\n",
    "lemmatizer = WordNetLemmatizer()\n",
    "\n",
    "amdt_clean= []\n",
    "for token in tokenized:\n",
    "    amdt_clean.append([lemmatizer.lemmatize(word) for word in token])\n",
    "print(amdt_clean[4])"
   ]
  },
  {
   "cell_type": "code",
   "execution_count": 18,
   "metadata": {},
   "outputs": [],
   "source": [
    "df = pd.DataFrame(amdt_clean)\n",
    "#print(df.head(10))\n",
    "df.to_csv('amdt_clean.csv')  #Chaque ligne est un amendement"
   ]
  },
  {
   "cell_type": "markdown",
   "metadata": {},
   "source": [
    "# Les mots les plus cités"
   ]
  },
  {
   "cell_type": "code",
   "execution_count": 19,
   "metadata": {},
   "outputs": [
    {
     "name": "stdout",
     "output_type": "stream",
     "text": [
      "                    0                 1                    2   \\\n",
      "0      (naissance, 15)      (enfant, 14)           (prime, 9)   \n",
      "1       (politique, 5)      (sociale, 4)       (familiale, 4)   \n",
      "2      (allocation, 6)   (familiales, 5)      (modulation, 5)   \n",
      "3      (allocation, 4)     (adoptées, 3)       (naissance, 3)   \n",
      "4      (allocation, 4)     (adoptées, 3)       (naissance, 3)   \n",
      "5          (charge, 9)      (patient, 8)            (pied, 6)   \n",
      "6     (médicalisée, 4)     (produits, 4)         (article, 3)   \n",
      "7  (professionnels, 6)        (santé, 5)        (libéraux, 4)   \n",
      "8        (activité, 4)         (taux, 4)      (occupation, 4)   \n",
      "9            (mode, 3)  (financement, 3)  (établissements, 3)   \n",
      "\n",
      "                   3                  4                  5               6   \\\n",
      "0        (sociale, 6)     (politique, 6)       (article, 5)       (date, 5)   \n",
      "1              (a, 4)      (principe, 4)  (universalité, 4)     (enfant, 3)   \n",
      "2         (revenu, 4)  (universalité, 4)       (sociale, 4)          (a, 4)   \n",
      "3           (mode, 3)       (mesures, 2)     (politique, 2)   (quotient, 2)   \n",
      "4           (mode, 3)       (mesures, 2)     (politique, 2)   (quotient, 2)   \n",
      "5          (prise, 5)    (diabétique, 5)       (diabète, 4)  (assurance, 3)   \n",
      "6       (maîtrise, 3)         (santé, 3)          (ceps, 3)     (comité, 2)   \n",
      "7       (affiliés, 4)        (régime, 4)          (taxe, 4)   (sécurité, 3)   \n",
      "8  (établissement, 3)          (être, 3)         (offre, 3)       (sans, 3)   \n",
      "9   (gouvernement, 2)     (parlement, 2)          (plus, 2)       (état, 2)   \n",
      "\n",
      "                  7              8                    9   ...  \\\n",
      "0     (versement, 5)     (avant, 5)        (familles, 5)  ...   \n",
      "1      (sécurité, 2)      (sans, 2)            (quel, 2)  ...   \n",
      "2       (revenus, 4)      (plus, 4)           (impôt, 4)  ...   \n",
      "3      (parental, 2)      (base, 2)          (nombre, 2)  ...   \n",
      "4      (parental, 2)      (base, 2)          (nombre, 2)  ...   \n",
      "5       (maladie, 3)    (cahier, 3)  (établissements, 3)  ...   \n",
      "6        (action, 2)    (permet, 2)      (régulation, 2)  ...   \n",
      "7       (sociale, 3)      (taux, 3)     (cotisations, 3)  ...   \n",
      "8       (article, 2)      (peut, 2)           (aucun, 2)  ...   \n",
      "9  (tarification, 2)  (activité, 2)       (avantages, 2)  ...   \n",
      "\n",
      "                  20             21                 22               23  \\\n",
      "0       (arrivée, 3)      (bien, 3)         (après, 2)      (versée, 2)   \n",
      "1  (universelles, 1)   (pendant, 1)          (plus, 1)   (cinquante, 1)   \n",
      "2           (sou, 2)    (retour, 2)        (prévue, 2)   (familiale, 2)   \n",
      "3         (entre, 1)     (porte, 1)     (notamment, 1)    (familial, 1)   \n",
      "4         (entre, 1)     (porte, 1)     (notamment, 1)    (familial, 1)   \n",
      "5         (alors, 2)  (pratique, 2)          (plus, 2)        (déjà, 2)   \n",
      "6      (sécurité, 1)   (sociale, 1)       (modifié, 1)    (deuxième, 1)   \n",
      "7         (tirés, 2)  (activité, 2)  (dépassements, 2)  (honoraires, 2)   \n",
      "8         (titre, 1)       (ier, 1)         (livre, 1)          (ii, 1)   \n",
      "9  (hospitaliers, 1)    (public, 1)        (privés, 1)        (fait, 1)   \n",
      "\n",
      "                  24               25               26              27  \\\n",
      "0    (ressources, 2)        (doit, 2)      (décret, 2)   (décembre, 2)   \n",
      "1        (reposé, 1)        (cela, 1)    (signifie, 1)  (adressait, 1)   \n",
      "2       (système, 2)       (effet, 2)     (montant, 2)      (foyer, 2)   \n",
      "3    (familiales, 1)       (prime, 1)  (prestation, 1)    (accueil, 1)   \n",
      "4    (familiales, 1)       (prime, 1)  (prestation, 1)    (accueil, 1)   \n",
      "5  (représentent, 2)     (élèvent, 2)        (donc, 2)      (soins, 2)   \n",
      "6      (complété, 1)      (parune, 1)     (rédigée, 1)      (toute, 1)   \n",
      "7         (entre, 2)           (i, 1)       (perte, 1)   (recettes, 1)   \n",
      "8          (code, 1)      (action, 1)     (sociale, 1)    (famille, 1)   \n",
      "9    (financière, 1)  (différents, 1)       (crise, 1)   (urgences, 1)   \n",
      "\n",
      "                    28              29  \n",
      "0            (mois, 2)      (choix, 2)  \n",
      "1            (tous, 1)   (français, 1)  \n",
      "2  (redistribution, 2)    (partage, 2)  \n",
      "3           (jeune, 1)     (enfant, 1)  \n",
      "4           (jeune, 1)     (enfant, 1)  \n",
      "5         (million, 2)  (améliorer, 1)  \n",
      "6         (assurer, 1)    (respect, 1)  \n",
      "7       (compensée, 1)        (due, 1)  \n",
      "8        (modifiée, 1)      (après, 1)  \n",
      "9          (permis, 1)     (mettre, 1)  \n",
      "\n",
      "[10 rows x 30 columns]\n"
     ]
    }
   ],
   "source": [
    "#Counting\n",
    "from collections import Counter\n",
    "\n",
    "most = []\n",
    "for token in amdt_clean:\n",
    "    bow = Counter(token)\n",
    "    most.append(bow.most_common(30))\n",
    "\n",
    "\n",
    "df = pd.DataFrame(most)\n",
    "print(df.head(10))\n",
    "df.to_csv('most_common_word_per_amdt.csv')  #Chaque ligne est un amendement \n"
   ]
  },
  {
   "cell_type": "markdown",
   "metadata": {},
   "source": [
    "# TF IDF\n",
    "Term frequency - inverse document frequency"
   ]
  },
  {
   "cell_type": "code",
   "execution_count": 20,
   "metadata": {},
   "outputs": [
    {
     "name": "stdout",
     "output_type": "stream",
     "text": [
      "['douze mois compter promulgation présente gouvernement remet parlement évaluant conséquence intégration allocation familiales revenu fiscal sou condition retour universalité totale suppression modulation prévue décembre financement sécurité sociale depuis cinquante principe politique familiale reposait universalité savoir chaque famille quelles condition ressources bénéficiaient mêmes prestations leurs enfants charge financement sécurité sociale a mi place système modulation allocation modulation a effet échelonner montant allocation familiales fonction revenus fiscaux foyer donc transformer politique familiale basée redistribution horizontale partage fait familles sans enfants vers familles enfants politique sociale système redistribution verticale où partage fait foyer revenus plus élevés vers ceux revenus plus faibles pouvoir prononcer toute connaissance cause parlementaires groupe républicains sollicitent gouvernement intégration allocation familiales revenu fiscal sou condition retour universalité total suppression modulation prévue financement sécurité sociale option génèrerait surplus impôt revenu million euro an selon cour comptes très peu coûteuse finance publiques puisque suppression modulation coûterait million euro an comme conséquence faire entrer nouveaux contribuables impôt comme a vu permettrait effet rétablir véritable universalité allocation familiales option fiscalisation limiterait reconstitution courbe u puisqu partie montant allocation familiales redonné plus hauts déciles revenus quelque sorte rattrapée impôt autant plus niveau revenu élevé tenu progressivité impôt précisons demandé gouvernement a autre objectif permettre parlementaires prononcer toute connaissance cause aucun ca valeur décision', 'six mois suivant promulgation gouvernement remet parlement évalue conséquences mesures adoptées entre politique porte notamment quotient familial allocation familiales parental prime naissance allocation base prestation accueil jeune enfant mode grand nombre mesures adoptées détriment familles baisse répétée quotient modulation allocation parental partagé limitant durée maximale parent lieu naissance versée après naissance tenues termes mode condition plus drastiques baisse montants allocation base paje complément mode garde or force constater nombre naissances france métropolitaine a baissé depuis selon statistiques insee première parues août enfants moins nés cours dernières années aussi toutes disposition adoptées doivent être évaluées mesurer portée politique familiale']\n"
     ]
    }
   ],
   "source": [
    "#Mise sous forme 'corpus'\n",
    "corpus = []\n",
    "for amdt1 in amdt_clean:\n",
    "    temp = ' '.join(amdt1)\n",
    "    corpus.append(temp)\n",
    "    temp = ''\n",
    "    \n",
    "#Vectorization - Term Frequency in Global Corpus\n",
    "from sklearn.feature_extraction.text import CountVectorizer\n",
    "vectorizer = CountVectorizer()\n",
    "tf = vectorizer.fit_transform(corpus)\n",
    "\n",
    "print(corpus[2:4])"
   ]
  },
  {
   "cell_type": "code",
   "execution_count": 21,
   "metadata": {},
   "outputs": [
    {
     "name": "stdout",
     "output_type": "stream",
     "text": [
      "['aah', 'aasctel', 'abaissant', 'abaissement', 'abaisser', 'abandon', 'abandonnant', 'abandonne', 'abandonner', 'abandonnée', 'abandonnées', 'abandonnés', 'abattement', 'abattements', 'aberration', 'aboli', 'abondante', 'abondement', 'abonder', 'abondé', 'abonnement', 'abonnements', 'abord', 'aborder', 'abordées', 'abouti', 'abouties', 'aboutir', 'aboutira', 'aboutissant', 'aboutissement', 'aboutissent', 'aboutit', 'abrogation', 'abroger', 'abrogé', 'abrogée', 'abrogés', 'absence', 'absentes', 'absentéisme', 'absolue', 'absolument', 'absorber', 'absorbés', 'abstinent', 'abstraction', 'absurdité', 'abus', 'abuser', 'abusifs', 'abusive', 'ac', 'académique', 'académiques', 'accablants', 'accablement', 'accent', 'accentue', 'accentuées', 'acceptabilité', 'acceptable', 'acceptant', 'acceptation', 'accepte', 'accepter', 'access', 'accessibilité', 'accessible', 'accessibles', 'accession', 'accessoire', 'accessoires', 'accident', 'accise', 'accises', 'accompagnaient', 'accompagnant', 'accompagne', 'accompagnement', 'accompagnements', 'accompagnent', 'accompagner', 'accompagné', 'accompagnée', 'accompagnées', 'accompagnés', 'accomplie', 'accomplies', 'accomplir', 'accomplissement', 'accord', 'accordant', 'accordent', 'accorder', 'accordé', 'accordée', 'accordées', 'accordés', 'accouchement', 'accre', 'accrochent', 'accroissement', 'accroitre', 'accroître', 'accru', 'accrue', 'accrues', 'accréditation', 'accrédités', 'accueil', 'accueillant', 'accueillent', 'accueilli', 'accueillies', 'accueillir', 'accumulent', 'accumulées', 'accusant', 'accuse', 'accuser', 'accès', 'accéder', 'accédé', 'accélération', 'accélérer', 'acharnement', 'achat', 'achats', 'acheminement', 'acheter', 'achever', 'acheverée', 'achevée', 'achètent', 'achève', 'achèvement', 'acoss', 'acquis', 'acquise', 'acquises', 'acquisition', 'acquitte', 'acquittent', 'acquitter', 'acquittée', 'acquièrent', 'acquérir', 'acre', 'acte', 'actes', 'actesmédicaux', 'acteur', 'acteurs', 'actif', 'actifs', 'action', 'actionnaires', 'actionné', 'active', 'activement', 'activité', 'activités', 'actualisant', 'actualisation', 'actualisé', 'actualisée', 'actualité', 'actuel', 'actuelle', 'actuellement', 'actuelles', 'actuels', 'actup', 'acté', 'actée', 'actées', 'acuité', 'ad', 'adapt', 'adaptant', 'adaptation', 'adapte', 'adapter', 'adapté', 'adaptée', 'adaptées', 'adaptés', 'addiction', 'addictologie', 'additifs', 'addition', 'additionnel', 'additionnelle', 'additionnelles', 'adhérent', 'adhérents', 'adhérer', 'adhésion', 'adjoindre', 'adjoints', 'admet', 'admettre', 'administratif', 'administratifs', 'administration', 'administrative', 'administratives', 'administrés', 'admis', 'admise', 'admises', 'admissibles', 'admission', 'adolescent', 'adolescentes', 'adoptant', 'adoptants', 'adopter', 'adoption', 'adopté', 'adoptée', 'adoptées', 'adoptés', 'adossé', 'adressait', 'adresse', 'adressent', 'adresser', 'adresses', 'adressé', 'adressée', 'adressés', 'adulte', 'adultes', 'adverse', 'adverses', 'adéquat', 'adéquate', 'adéquation', 'adéquats', 'affaiblir', 'affaiblirait', 'affaiblissement', 'affaiblit', 'affaire', 'affectant', 'affectation', 'affecte', 'affectent', 'affecter', 'affection', 'affective', 'affecté', 'affectée', 'affectées', 'affectés', 'affichait', 'affichent', 'affichées', 'affichés', 'affiliation', 'affilies', 'affilié', 'affiliées', 'affiliés', 'affinent', 'affiner', 'affirmait', 'affirme', 'affirmer', 'affirmé', 'affoler', 'affranchir', 'affranchis', 'affronter', 'affréter', 'afférant', 'afférent', 'afférente', 'afférentes', 'afférents', 'agdref', 'age', 'agefiph', 'agence', 'agences', 'agent', 'agglomérations', 'aggravant', 'aggravation', 'aggrave', 'aggravent', 'aggraver', 'aggravée', 'aggravées', 'agir', 'agira', 'agirait', 'agisme', 'agissait', 'agissant', 'agisse', 'agissons', 'agit', 'agnès', 'agressions', 'agressive', 'agressivité', 'agricole', 'agricoles', 'agriculteur', 'agriculteurs', 'agriculture', 'agroalimentaire', 'agrée', 'agrées', 'agrégat', 'agrégateurs', 'agrément', 'agréé', 'agréées', 'agréés', 'agées', 'agénésie', 'aid', 'aidant', 'aidante', 'aidants', 'aide', 'aider', 'aidé', 'aidées', 'aifa', 'aigus', 'aiguë', 'aigües', 'aille', 'ailleurs', 'aimerions', 'ain', 'ainsique', 'air', 'aisées', 'aisément', 'aisés', 'ajap', 'ajout', 'ajoutait', 'ajoutant', 'ajoute', 'ajoutent', 'ajouter', 'ajoutons', 'ajouté', 'ajoutée', 'ajoutés', 'ajpa', 'ajustement', 'ajustements', 'ajuster', 'ajusté', 'ajustés', 'al', 'alarmant', 'alarmante', 'alarmantes', 'alarmants', 'alarme', 'alarmistes', 'alarmé', 'alcool', 'alcoolique', 'alcooliques', 'alcoolisation', 'alcoolisme', 'alcoolisé', 'alcoolisées', 'alcoolisés', 'alcoologie', 'alcools', 'alcoolémie', 'alcoométrique', 'ald', 'alentours', 'alertait', 'alerte', 'alertent', 'alerter', 'alerté', 'algérie', 'algériens', 'alignant', 'alignement', 'aligner', 'aligné', 'alignée', 'alignés', 'aliment', 'alimentaire', 'alimentaires', 'alimentation', 'alimente', 'alimenter', 'alimenté', 'alinéas', 'allait', 'allant', 'allemagne', 'aller', 'allergy', 'allied', 'alliées', 'allocataire', 'allocataires', 'allocation', 'allonge', 'allongement', 'allongent', 'allonger', 'allongés', 'allopathique', 'allopathiques', 'allouer', 'alloué', 'allouée', 'allouées', 'alloués', 'allègement', 'allègements', 'allègrement', 'allégeant', 'allégement', 'allégements', 'alléger', 'allégé', 'allégée', 'allégés', 'alors', 'alourdir', 'alourdirait', 'alourdissant', 'alourdissement', 'alpes', 'alsace', 'alternative', 'altérer', 'aléas', 'aléatoire', 'amazon', 'ambassade', 'ambitieuse', 'ambitieuses', 'ambitieux', 'ambition', 'ambulance', 'ambulanciers', 'ambulatoire', 'ame', 'amende', 'amendements', 'amenuiserait', 'amené', 'amenées', 'amf', 'amiable', 'amiables', 'amiens', 'amm', 'amo', 'amoncellent', 'amont', 'amorce', 'amorcer', 'amortir', 'amortissement', 'amortisseur', 'amp', 'amplement', 'ampleur', 'amplifient', 'amplifier', 'amplitude', 'amputation', 'ampute', 'amputé', 'amputée', 'amputés', 'amène', 'amènent', 'amélioraient', 'améliorant', 'amélioration', 'améliorations', 'améliore', 'améliorent', 'améliorer', 'améliorerait', 'aménager', 'aménagé', 'américain', 'américains', 'an', 'analgésies', 'analyse', 'analyser', 'analysé', 'analysée', 'analytique', 'analytiques', 'ancestrale', 'ancestrales', 'ancien', 'ancienne', 'anciens', 'ancrer', 'and', 'andgm', 'andouilles', 'andouillettes', 'angdm', 'angle', 'angoisse', 'animale', 'animales', 'animation', 'anne', 'annex', 'annexe', 'annexer', 'annexé', 'annexées', 'annexés', 'annie', 'anniversaire', 'annonce', 'annoncer', 'annonces', 'annonceurs', 'annoncé', 'annoncée', 'annoncées', 'annualité', 'annuel', 'annuelle', 'annuellement', 'annuelles', 'annuels', 'annulant', 'annulation', 'annulations', 'annuler', 'année', 'années', 'anomalie', 'anomaly', 'anonymat', 'anonymisée', 'anonymisées', 'anormal', 'anormalement', 'anpaa', 'ans', 'ansm', 'antalgique', 'antarctiques', 'antenne', 'antiamarile', 'antibiotiques', 'anticancéreuses', 'anticancéreux', 'anticipant', 'anticipent', 'anticiper', 'anticipé', 'anticipée', 'anticipés', 'anticycloniques', 'antidépresseurs', 'antigrippal', 'antigrippale', 'antilles', 'anténatal', 'antépénultième', 'antérieur', 'antérieure', 'antérieurement', 'antérieures', 'anus', 'anxieux', 'anxiogène', 'anxiolytiques', 'anxiété', 'anéanti', 'aoc', 'août', 'apa', 'apajh', 'apec', 'apertus', 'apf', 'apl', 'apparaissent', 'apparait', 'apparaitre', 'apparaît', 'apparaître', 'apparent', 'apparente', 'apparentés', 'apparition', 'appartement', 'appartenant', 'appartiennent', 'appartient', 'apparu', 'apparues', 'appauvri', 'appauvrissement', 'appel', 'appelaient', 'appelait', 'appelant', 'appeler', 'appellation', 'appelle', 'appellent', 'appels', 'appelé', 'appelée', 'appelés', 'appert', 'applicabilité', 'applicable', 'applicables', 'applicatifs', 'application', 'appliquaient', 'appliquant', 'applique', 'appliquent', 'appliquer', 'appliquera', 'appliqueraient', 'appliquerait', 'appliqué', 'appliquée', 'appliquées', 'appliqués', 'appoint', 'apport', 'apportant', 'apportent', 'apporter', 'apports', 'apporté', 'apportée', 'apportées', 'apprenions', 'apprenti', 'apprentis', 'apprentissage', 'approbation', 'approche', 'approches', 'approfondie', 'approfondir', 'approfondisse', 'appropriation', 'approprié', 'appropriées', 'approuvent', 'approuvée', 'approvisionnement', 'approvisionnements', 'approvisionnent', 'approvisionner', 'appréciation', 'apprécie', 'apprécier', 'apprécié', 'appréciée', 'appréciés', 'appréhender', 'appui', 'appuie', 'appuient', 'appuierait', 'appuyant', 'appuyer', 'appuyé', 'après', 'aptes', 'apurement', 'ar', 'arables', 'arbitrage', 'arbitre', 'arboriculture', 'arbre', 'archipel', 'archivage', 'archive', 'argent', 'arguant', 'argument', 'armateurs', 'armement', 'armes', 'armorique', 'armées', 'arnault', 'aromatisées', 'aromatisés', 'arrivaient', 'arrivant', 'arrive', 'arrivent', 'arriver', 'arrivée', 'arrondie', 'arrérages', 'arrêt', 'arrête', 'arrêtent', 'arrêter', 'arrêts', 'arrêté', 'arrêtée', 'arrêtées', 'arrêtés', 'arsenal', 'art', 'article', 'articlel', 'articulaires', 'articulation', 'artificialiser', 'artificielle', 'artisan', 'artisanal', 'artisanales', 'artisanat', 'artérielle', 'as', 'asa', 'asap', 'ascenseur', 'asi', 'asie', 'asile', 'asmr', 'aspa', 'aspect', 'aspiration', 'assemblé', 'assemblée', 'assermentés', 'assez', 'assiette', 'assiettes', 'assignés', 'assimilé', 'assimilée', 'assimilés', 'assis', 'assise', 'assises', 'assistance', 'assistant', 'assistante', 'assistantes', 'assistent', 'assister', 'assistons', 'asso', 'associant', 'associatif', 'associatifs', 'association', 'associer', 'associera', 'associons', 'associé', 'associée', 'associées', 'associés', 'assorti', 'assortie', 'assos', 'assouplies', 'assouplir', 'assouplissement', 'assujetti', 'assujettie', 'assujetties', 'assujettis', 'assujettissement', 'assujettissent', 'assume', 'assumer', 'assurance', 'assurant', 'assurantielle', 'assure', 'assurent', 'assurer', 'assurera', 'assureur', 'assureurs', 'assuré', 'assurée', 'assurées', 'assurés', 'asthme', 'asthénie', 'astrazeneca', 'astreintes', 'astuces', 'astucieusement', 'at', 'atelier', 'atexa', 'atih', 'atm', 'atmosphérique', 'atout', 'atrophie', 'attac', 'attache', 'attachement', 'attachent', 'attachera', 'attaché', 'attachée', 'attachées', 'attachés', 'atteignant', 'atteignent', 'atteindrait', 'atteindre', 'atteindront', 'atteint', 'atteinte', 'atteintes', 'atteints', 'attend', 'attendant', 'attendent', 'attendra', 'attendre', 'attendu', 'attendue', 'attendues', 'attendus', 'attente', 'attentes', 'attentif', 'attention', 'attestant', 'attestation', 'attestent', 'attester', 'attirer', 'attractifs', 'attractive', 'attractives', 'attractivité', 'attribuable', 'attribuables', 'attribue', 'attribuer', 'attributaires', 'attribution', 'attribué', 'attribuée', 'attribuées', 'attribués', 'atténuer', 'atténuera', 'atténuée', 'atu', 'aube', 'aubert', 'auchan', 'aucun', 'aucune', 'audience', 'audiologie', 'audiovisuel', 'audiovisuelle', 'audiovisuelles', 'audiovisuels', 'audit', 'audition', 'auditives', 'audrey', 'augmentait', 'augmentant', 'augmentation', 'augmente', 'augmentent', 'augmenter', 'augmentions', 'augmenté', 'augmentée', 'augmentés', 'aujourd', 'auparavant', 'auprès', 'auquel', 'aurélien', 'auspex', 'aussi', 'australes', 'australie', 'austéritaire', 'austérité', 'autant', 'autel', 'auteur', 'authentifier', 'autodialyse', 'autofinancement', 'automaticité', 'automatique', 'automatiquement', 'automatiques', 'automatisant', 'automatisation', 'automatisés', 'automne', 'automobile', 'automédication', 'autonome', 'autonomes', 'autonomie', 'autoproduction', 'autorisant', 'autorisation', 'autorisations', 'autorise', 'autoriser', 'autorisé', 'autorisée', 'autorisés', 'autorité', 'autorités', 'autour', 'autre', 'autrement', 'autres', 'auvergne', 'auxdites', 'auxiliaire', 'auxiliaires', 'auxquelles', 'auxquels', 'av', 'aval', 'avance', 'avancement', 'avancent', 'avancer', 'avances', 'avancé', 'avancée', 'avancées', 'avant', 'avantage', 'avantages', 'avantageux', 'avançant', 'avenant', 'avenants', 'avenir', 'avertissement', 'aveuglé', 'avis', 'aviver', 'avk', 'avocats', 'avoir', 'avoisinant', 'avoisineraient', 'avortement', 'avpf', 'avril', 'avère', 'avèrent', 'avèrerait', 'avérer', 'avéré', 'avérée', 'ax', 'axé', 'azote', 'aérien', 'aérienne', 'aériennes', 'aéronautique', 'aéroports', 'aînés', 'ba', 'bactérienne', 'bactériennes', 'bactéries', 'baffoue', 'bai', 'bail', 'bailleurs', 'bain', 'baissant', 'baisse', 'baissent', 'baisser', 'baissé', 'balayant', 'balle', 'banalise', 'banalisé', 'banane', 'bananel', 'bancaires', 'bancs', 'bande', 'banlieue', 'banlieues', 'banques', 'baptisé', 'bar', 'bariatrique', 'bariatriques', 'baromètre', 'barre', 'barrière', 'barrières', 'barthet', 'barthélemy', 'barème', 'barèmes', 'basant', 'bascou', 'bascule', 'basculent', 'basculer', 'base', 'basiques', 'bass', 'basse', 'bassin', 'bassins', 'basso', 'basé', 'basée', 'basés', 'bataille', 'batifoulier', 'battant', 'battistel', 'bcpo', 'beau', 'beaucoup', 'beaucoups', 'belge', 'belgique', 'belle', 'bellivier', 'benzodiazépines', 'bernard', 'besoin', 'besoins', 'bettencourt', 'betterave', 'betteraves', 'bi', 'biais', 'bien', 'bienfaits', 'biens', 'bientôt', 'bienveillance', 'bienvenu', 'bifurcation', 'bii', 'bilan', 'bilans', 'billet', 'billetterie', 'binôme', 'biodiversité', 'biologie', 'biologique', 'biologiques', 'biomédical', 'biomédicale', 'biométrie', 'biométrique', 'biométriques', 'bioproduction', 'biosimilaire', 'biosimilaires', 'biothérapies', 'bioéthique', 'bisde', 'bistro', 'bière', 'bières', 'blackrock', 'blanc', 'blanquette', 'blessées', 'bleue', 'bloquer', 'bloquées', 'bnc', 'bodo', 'boire', 'boisson', 'boissons', 'bon', 'bondit', 'bonheur', 'bonification', 'bonne', 'bonnes', 'boomerang', 'bord', 'bordereaux', 'boris', 'borowczyk', 'bouches', 'boudins', 'bouffée', 'bouleversé', 'bourgogne', 'bourguignon', 'bourse', 'bousculé', 'bout', 'bouteille', 'bouteilles', 'bouygues', 'bovins', 'boîtes', 'bra', 'branch', 'branche', 'brandi', 'brasserie', 'brasseurs', 'brassicole', 'bref', 'bretagne', 'brevet', 'brevetés', 'brexit', 'bricoler', 'briet', 'brigitte', 'brindeau', 'britannique', 'britanniques', 'brittany', 'bronchique', 'brouillé', 'bruno', 'brut', 'brutal', 'brutale', 'brute', 'bruts', 'btp', 'budget', 'budgétaire', 'budgétairement', 'budgétaires', 'bulletin', 'burn', 'burnouts', 'but', 'butoir', 'buzyn', 'bva', 'bâti', 'bâtie', 'bâtiment', 'bâtiments', 'bâtir', 'bébé', 'bébés', 'bégaud', 'bénins', 'bénéfice', 'bénéfices', 'bénéficiaient', 'bénéficiaire', 'bénéficiaires', 'bénéficiait', 'bénéficiant', 'bénéficie', 'bénéficient', 'bénéficier', 'bénéficierait', 'bénéficieront', 'bénéficié', 'bénéfique', 'bénéfiques', 'bénévole', 'bénévolement', 'bénévoles', 'ca', 'cabinet', 'cac', 'cache', 'cadeau', 'cadeaux', 'cades', 'cadre', 'caduc', 'cae', 'caf', 'cafés', 'cahier', 'cahiers', 'caim', 'caisse', 'caisses', 'caissiers', 'calais', 'calcul', 'calculer', 'calculé', 'calculée', 'calculées', 'calculés', 'calendrier', 'caler', 'camieg', 'campagne', 'campagnes', 'campaign', 'canada', 'canaux', 'cancer', 'cancérigène', 'cancérologie', 'candidat', 'candidats', 'candidature', 'canette', 'canettes', 'cannabinoïdes', 'cannabis', 'cannette', 'cantal', 'cantonaise', 'cantonner', 'cap', 'capable', 'capables', 'capacité', 'capacités', 'capital', 'capitalisation', 'capitaux', 'capsule', 'captation', 'capteur', 'caqes', 'car', 'caractère', 'caractérisation', 'caractérise', 'caractéristiques', 'caractérisé', 'caractérisée', 'caractérisées', 'carbone', 'carbones', 'carburants', 'carcdsf', 'cardiologie', 'cardiovasculaires', 'cardoux', 'carence', 'carences', 'cargill', 'caritatifs', 'caritatives', 'carmf', 'carole', 'caroline', 'carpimko', 'carrez', 'carrière', 'carrières', 'carsat', 'carte', 'cartographie', 'cartographier', 'casa', 'cascade', 'casf', 'cassation', 'castex', 'catapulter', 'catastrophe', 'catastrophique', 'catastrophiques', 'catégorie', 'catégorielles', 'catégories', 'cause', 'causée', 'causées', 'causés', 'cavec', 'cbd', 'ccam', 'ccne', 'ccntu', 'cdc', 'cdca', 'cdd', 'cdi', 'cdiface', 'cdrs', 'cechoix', 'ceci', 'cee', 'ceesp', 'cela', 'cell', 'celle', 'celles', 'cellules', 'celui', 'censi', 'censure', 'censuré', 'censurée', 'censurées', 'censée', 'cent', 'centaine', 'centaines', 'centime', 'central', 'centrale', 'centrales', 'centralisation', 'centralisée', 'centre', 'centrée', 'centrées', 'cependant', 'ceps', 'cercle', 'cercles', 'cerdon', 'certain', 'certaine', 'certainement', 'certaines', 'certains', 'certes', 'certifiant', 'certificat', 'certificateurs', 'certification', 'certificats', 'certifier', 'certifié', 'certifiée', 'certifiés', 'certitude', 'cese', 'cessation', 'cesse', 'cessent', 'cesser', 'cesserait', 'cessible', 'cession', 'cessé', 'cette', 'ceux', 'cfdt', 'cfppa', 'cgi', 'cgs', 'ch', 'chacun', 'chacune', 'chaine', 'chaines', 'chambre', 'chambres', 'champ', 'champignons', 'chance', 'change', 'changement', 'changements', 'changer', 'changé', 'changées', 'chantier', 'chantiers', 'chanvre', 'chanvrière', 'chapitre', 'chaque', 'charcuterie', 'charge', 'chargé', 'chargée', 'chargées', 'chargés', 'charles', 'charque', 'charte', 'chassaigne', 'chauffer', 'chaîne', 'chef', 'cheffes', 'cher', 'cherbourg', 'cherche', 'cherchent', 'chercheurs', 'cherché', 'cherpion', 'chers', 'cheville', 'chevilles', 'chez', 'chiasme', 'chibanis', 'chiffrage', 'chiffrant', 'chiffre', 'chiffrer', 'chiffres', 'chiffré', 'chiffrée', 'chiffrées', 'chimiothérapie', 'chimiothérapies', 'chine', 'chirac', 'chirurgicale', 'chirurgicaux', 'chirurgie', 'chlordécone', 'choc', 'choisi', 'choisies', 'choisir', 'choisis', 'choisissant', 'choisissent', 'choix', 'chose', 'chr', 'chrd', 'christelle', 'christophe', 'chronique', 'chroniques', 'chrono', 'chronophage', 'chru', 'chu', 'chute', 'chutent', 'chuter', 'chuté', 'chv', 'chômage', 'chômeurs', 'ciblage', 'ciblant', 'cible', 'ciblent', 'cibler', 'cibles', 'ciblé', 'ciblées', 'ciblés', 'cicatrisation', 'cice', 'cidre', 'cidres', 'cigarette', 'cigarettestaux', 'cigarillostaux', 'cinq', 'cinquante', 'cinquième', 'cinéma', 'cinémas', 'cipav', 'cir', 'circonscrire', 'circonstances', 'circuit', 'circulaire', 'circulaires', 'circulation', 'ciseau', 'citadine', 'citant', 'citer', 'citoyen', 'citoyenne', 'citoyenneté', 'citoyens', 'cits', 'city', 'cité', 'civ', 'civil', 'civile', 'civiles', 'civique', 'cjce', 'cjue', 'cl', 'clair', 'claire', 'clairement', 'claires', 'clairette', 'clarifiant', 'clarification', 'clarifier', 'class', 'classe', 'classement', 'classification', 'classique', 'classiques', 'classé', 'classées', 'classés', 'clause', 'clausus', 'clef', 'clercs', 'client', 'clientes', 'clientèle', 'climat', 'climatiques', 'clinea', 'clinique', 'cliniques', 'clipperton', 'cloisonnements', 'clos', 'clé', 'clés', 'cmg', 'cmu', 'cmuc', 'cnaf', 'cnam', 'cnav', 'cnavpl', 'cnieg', 'cnmss', 'cnosf', 'cnr', 'cnracl', 'cnsa', 'cocktail', 'codaf', 'code', 'codefi', 'codifier', 'codifiée', 'coefficient', 'coercitives', 'coeur', 'cofinancés', 'cognitif', 'cohérence', 'cohérent', 'cohérente', 'coin', 'col', 'collaborateur', 'collaborateurs', 'collaboration', 'collaboratrices', 'collatérale', 'collecte', 'collecter', 'collecteurs', 'collectif', 'collectifs', 'collective', 'collectivement', 'collectivité', 'collectivités', 'collectées', 'collectés', 'coller', 'colloque', 'collège', 'collègue', 'collègues', 'colocations', 'colony', 'colorectal', 'coly', 'colère', 'com', 'combat', 'combattant', 'combattants', 'combattent', 'combattre', 'combien', 'combinant', 'combiner', 'combinée', 'combler', 'comité', 'comités', 'commande', 'commandes', 'commandée', 'commandés', 'comme', 'commencer', 'commencé', 'comment', 'commentaire', 'commerce', 'commercial', 'commerciale', 'commerciales', 'commercialisant', 'commercialisation', 'commercialisé', 'commercialisés', 'commerciaux', 'commerçants', 'commis', 'commise', 'commises', 'commission', 'commun', 'communauté', 'communautés', 'communaux', 'commune', 'communication', 'communique', 'communiquent', 'communiquer', 'communiquée', 'communiquées', 'communiqués', 'communément', 'compagnie', 'compagnies', 'comparable', 'comparables', 'comparaison', 'comparateurs', 'comparatifs', 'comparative', 'comparativement', 'compare', 'comparer', 'comparée', 'comparées', 'compassionnel', 'compatible', 'compatibles', 'compatriotes', 'compensant', 'compensation', 'compensatoires', 'compense', 'compensent', 'compenser', 'compensé', 'compensée', 'compensées', 'compensés', 'complet', 'complets', 'complex', 'complexe', 'complexification', 'complexifie', 'complexifierait', 'complexité', 'complication', 'compliqué', 'complète', 'complètement', 'complètera', 'complément', 'complémentaire', 'complémentaires', 'complémentarité', 'compléments', 'complétant', 'compléter', 'compléterutilement', 'complétude', 'complété', 'complétée', 'complétées', 'comportant', 'comporte', 'comportement', 'comportementale', 'comportements', 'comportent', 'composante', 'composantes', 'composants', 'compose', 'composition', 'composé', 'composée', 'composés', 'comprenant', 'comprend', 'comprendre', 'comprennent', 'comprimé', 'comprimés', 'compris', 'comprise', 'comprises', 'compromet', 'compromettre', 'compromis', 'compromise', 'compréhensible', 'comptabilisera', 'comptabilisées', 'comptabilité', 'comptable', 'comptables', 'comptait', 'comptant', 'comptent', 'compter', 'comptes', 'comptions', 'comptoir', 'compton', 'comptée', 'compétence', 'compétences', 'compétent', 'compétente', 'compétentes', 'compétents', 'compétitifs', 'compétition', 'compétitives', 'compétitivité', 'concentration', 'concentre', 'concentrent', 'concentrer', 'concentré', 'concentrées', 'concentrés', 'conception', 'concernaient', 'concernait', 'concernant', 'concerne', 'concernent', 'concerner', 'concernera', 'concernes', 'concerné', 'concernée', 'concernées', 'concernés', 'concert', 'concertation', 'concertations', 'concerter', 'concertées', 'concession', 'concevable', 'conciliant', 'conciliation', 'concilient', 'concilier', 'conciliées', 'concitoyen', 'concitoyennes', 'concitoyens', 'conclu', 'conclue', 'conclues', 'conclure', 'conclus', 'conclusion', 'conclut', 'concomitamment', 'concomitance', 'concomitante', 'concoure', 'concourent', 'concourir', 'concours', 'concrets', 'concrète', 'concrètement', 'concrètes', 'concrétisant', 'concrétiser', 'concrétisé', 'concubins', 'concurrence', 'concurrentes', 'concurrentiel', 'concurrentielles', 'concurrents', 'condamnation', 'condamnations', 'condamné', 'condition', 'conditionnalités', 'conditionne', 'conditionnement', 'conditionnent', 'conditionner', 'conditionnée', 'conditionnées', 'conditionnés', 'conducteur', 'conduira', 'conduire', 'conduisant', 'conduise', 'conduisent', 'conduit', 'conduites', 'confiance', 'confidentialité', 'confidentiel', 'confie', 'confier', 'configuration', 'confine', 'confinement', 'confions', 'confirme', 'confirment', 'confirmer', 'confirmé', 'confirmée', 'confirmées', 'confiscatoire', 'confié', 'confiée', 'confiées', 'conflit', 'conflits', 'confondues', 'confondus', 'conforme', 'conformer', 'conformes', 'conformité', 'conformément', 'confort', 'conforter', 'conforté', 'confortée', 'confrontait', 'confrontation', 'confronté', 'confrontée', 'confrontées', 'confrontés', 'confrère', 'confusion', 'confère', 'conférant', 'conférence', 'conférer', 'congolais', 'congénitales', 'congés', 'conjoins', 'conjoint', 'conjointe', 'conjointement', 'conjointes', 'conjoints', 'conjonction', 'conjoncture', 'conjoncturel', 'conjoncturelle', 'conjugales', 'conjuguant', 'conjugue', 'connaissance', 'connaissances', 'connaissent', 'connaissions', 'connaissons', 'connait', 'connaitre', 'connaît', 'connaîtrait', 'connaître', 'connaîtront', 'connexes', 'connu', 'connue', 'connues', 'connus', 'consacrer', 'consacré', 'consacrée', 'consacrées', 'conscient', 'conseil', 'conseiller', 'conseillé', 'conseillée', 'conseils', 'consensus', 'consentement', 'consenti', 'consentis', 'conservant', 'conservatoire', 'conserver', 'conservé', 'conservée', 'considère', 'considèrent', 'considérable', 'considérablement', 'considérables', 'considérant', 'considération', 'considérations', 'considérer', 'considérons', 'considéré', 'considérée', 'considérées', 'considérés', 'consignations', 'consignés', 'consistait', 'consistant', 'consiste', 'consistent', 'consolidation', 'consolide', 'consolider', 'consolidé', 'consolidée', 'consolidées', 'consommateur', 'consommateurs', 'consommation', 'consommer', 'consommée', 'consommées', 'consommés', 'constamment', 'constant', 'constante', 'constat', 'constatant', 'constatation', 'constate', 'constatent', 'constater', 'constatons', 'constats', 'constaté', 'constatée', 'constatées', 'constatés', 'constituait', 'constituant', 'constitue', 'constituent', 'constituer', 'constituera', 'constituerait', 'constitution', 'constitutionnalisation', 'constitutionnel', 'constitutionnels', 'constitutive', 'constitué', 'constituée', 'constituées', 'constitués', 'construction', 'constructive', 'construire', 'construit', 'construites', 'construits', 'consulaire', 'consulaires', 'consulat', 'consulats', 'consultatif', 'consultation', 'consultent', 'consulter', 'consulting', 'consulté', 'consultées', 'consultés', 'consécutifs', 'consécutives', 'conséquemment', 'conséquence', 'conséquences', 'conséquent', 'conséquente', 'conséquentes', 'conséquents', 'contact', 'contacter', 'contamination', 'contaminée', 'contemporains', 'contenant', 'contenants', 'contenir', 'contente', 'contentieuse', 'contentieux', 'contenu', 'contenue', 'contenues', 'contenus', 'contestable', 'contestables', 'contestation', 'conteste', 'contester', 'contesté', 'contestée', 'contexte', 'contiennent', 'contient', 'continent', 'continentale', 'contingent', 'continu', 'continuaient', 'continue', 'continuent', 'continuer', 'continuera', 'continueraient', 'continuité', 'continus', 'continué', 'contour', 'contournement', 'contourner', 'contournée', 'contraception', 'contractualisation', 'contractualisé', 'contractualisée', 'contractualisés', 'contractuel', 'contractuelle', 'contractuelles', 'contracté', 'contractée', 'contradiction', 'contradictoire', 'contradictoires', 'contraignant', 'contraignantes', 'contraignants', 'contraindre', 'contraint', 'contrainte', 'contraintes', 'contraints', 'contraire', 'contrairement', 'contraires', 'contrario', 'contrariée', 'contraste', 'contrat', 'contrats', 'contre', 'contrecarrés', 'contrepartie', 'contreparties', 'contreproductif', 'contreproductive', 'contreseing', 'contresigné', 'contribuable', 'contribuables', 'contribuant', 'contribue', 'contribuent', 'contribuer', 'contribuera', 'contribuerait', 'contributeurs', 'contributif', 'contribution', 'contributive', 'contributives', 'contribué', 'contré', 'contrôle', 'contrôler', 'contrôles', 'contrôleurs', 'contrôlée', 'contrôlées', 'contrôlés', 'convaincant', 'convenablement', 'convenance', 'convenir', 'convention', 'conventionnel', 'conventionnelle', 'conventionnelles', 'conventionnels', 'conventionnement', 'conventionner', 'conventionnes', 'conventionné', 'conventionnée', 'conventionnés', 'convergence', 'conviendrait', 'convient', 'convocation', 'convoqué', 'conçoivent', 'conçu', 'conçus', 'coopératif', 'coopératifs', 'coopération', 'coopérations', 'coopérative', 'coopératives', 'coordination', 'coordonnateur', 'coordonne', 'coordonné', 'coordonnée', 'coordonnées', 'coordonnés', 'copiaient', 'copie', 'cor', 'cordée', 'cornouaille', 'corollaire', 'coronavictimes', 'coronavirus', 'corp', 'corporel', 'corporelle', 'corporels', 'correctement', 'correcteur', 'correcteurs', 'correctif', 'correction', 'corrective', 'correspond', 'correspondait', 'correspondant', 'correspondants', 'correspondent', 'correspondre', 'corrigent', 'corriger', 'corrigé', 'corrigée', 'corroboré', 'corrélation', 'corrélativement', 'corréler', 'corrélé', 'corse', 'cortège', 'corvée', 'cotisant', 'cotisants', 'cotisation', 'cotisationminimale', 'cotisations', 'cotise', 'cotisent', 'cotisé', 'cotisés', 'cotés', 'couch', 'couleur', 'coup', 'coupable', 'coupables', 'coupe', 'couple', 'couplée', 'coupées', 'cour', 'courageusement', 'courant', 'courante', 'courants', 'courbe', 'courent', 'courir', 'courrier', 'courriers', 'cours', 'course', 'court', 'cout', 'couteux', 'couté', 'couvert', 'couvertes', 'couverts', 'couverture', 'couvrant', 'couvre', 'couvrir', 'covid', 'covoiturage', 'coïncide', 'coïncident', 'coût', 'coûte', 'coûtent', 'coûterait', 'coûteuse', 'coûteuses', 'coûteux', 'coûts', 'coûté', 'cpa', 'cpam', 'cpom', 'cpp', 'cprp', 'cpts', 'craignent', 'craindre', 'crainte', 'crcm', 'crds', 'creton', 'creusant', 'creuse', 'creux', 'cri', 'criant', 'criantes', 'crime', 'criminelles', 'crise', 'crisis', 'critique', 'critiquée', 'critère', 'critères', 'croire', 'croisement', 'croissance', 'croissant', 'croissante', 'croissantes', 'croisée', 'croit', 'croyaient', 'croître', 'cru', 'crucial', 'cruciales', 'cruel', 'cruelle', 'cruellement', 'crèche', 'crèches', 'créances', 'créancier', 'créanciers', 'créancière', 'créant', 'créateurs', 'création', 'créations', 'créatrice', 'créatrices', 'crédibilité', 'crédible', 'crédit', 'crédits', 'crée', 'créent', 'créer', 'créera', 'crées', 'créé', 'créée', 'créées', 'créés', 'crû', 'cs', 'csa', 'csg', 'csm', 'csst', 'cuisse', 'culture', 'culturelle', 'culturelles', 'culturels', 'cumul', 'cumulable', 'cumulables', 'cumulent', 'cumuler', 'cumuls', 'cumulé', 'cumulée', 'cumulés', 'curatifs', 'curative', 'cure', 'curseur', 'cutané', 'cv', 'cveg', 'cvi', 'cycle', 'cycloniques', 'cyrulnik', 'cécile', 'céder', 'cérébral', 'césarienne', 'côté', 'côtés', 'cœur', 'da', 'danemark', 'danger', 'dangereuses', 'dangereux', 'darmanin', 'dassault', 'data', 'datant', 'date', 'datée', 'daudigny', 'davantage', 'david', 'dci', 'degré', 'degrés', 'dehors', 'del', 'dela', 'delatte', 'deleurs', 'delta', 'delà', 'demain', 'demandait', 'demandant', 'demande', 'demandent', 'demander', 'demandes', 'demandeur', 'demandeurs', 'demandons', 'demandé', 'demandée', 'demandées', 'demandés', 'demeurant', 'demeure', 'demeurent', 'demeurerait', 'demi', 'den', 'denier', 'denormandie', 'densifier', 'densité', 'dentaire', 'dentaires', 'depuis', 'dereprésentants', 'dermatologues', 'dernier', 'dernieres', 'derniers', 'dernière', 'dernièrement', 'dernières', 'derrien', 'derrière', 'desanté', 'descartes', 'desdifficultés', 'desdites', 'desdits', 'desquelles', 'desquels', 'dessein', 'desservant', 'dessine', 'dessiner', 'dessous', 'dessus', 'destinataire', 'destinataires', 'destination', 'destinent', 'destiné', 'destinée', 'destinées', 'destinés', 'destructeur', 'dette', 'dettes', 'deux', 'deuxième', 'deuxièmes', 'devait', 'devant', 'devenant', 'devenir', 'devenu', 'devenue', 'devenues', 'devenus', 'deviendraient', 'devienne', 'deviennent', 'devient', 'devoir', 'devon', 'devra', 'devraient', 'devrait', 'devront', 'deçà', 'dg', 'dgcs', 'dgfip', 'dgos', 'diabète', 'diabètes', 'diabétique', 'diabétiques', 'diagnostic', 'diagnostics', 'diagnostique', 'diagnostiqués', 'dialogue', 'dialyse', 'dialysis', 'dialysés', 'dictionnaire', 'didier', 'die', 'dieppe', 'difficile', 'difficilement', 'difficiles', 'difficulté', 'difficultés', 'diffus', 'diffusant', 'diffuser', 'diffusion', 'diffèrent', 'différence', 'différences', 'différenciant', 'différenciation', 'différencié', 'différenciés', 'différend', 'différente', 'différentes', 'différentiation', 'différentiel', 'différentielle', 'différentiels', 'différentié', 'différentiés', 'différents', 'différé', 'différée', 'différées', 'digestive', 'digitale', 'digitales', 'digitalisation', 'digitaux', 'dignement', 'dignes', 'dignité', 'dijon', 'diligentée', 'diligentés', 'dimension', 'diminue', 'diminuent', 'diminuer', 'diminution', 'diminué', 'diminuée', 'dintilhac', 'diois', 'diphtérie', 'diplomatique', 'diplôme', 'diplômées', 'diplômés', 'dire', 'direct', 'directe', 'directement', 'directes', 'directeur', 'directeurs', 'direction', 'directive', 'directs', 'dirigeants', 'dirigent', 'dirigés', 'disait', 'discipline', 'discordance', 'discothèques', 'discours', 'discriminante', 'discrimination', 'discriminatoire', 'discriminatoires', 'discrétionnaire', 'discussion', 'discutable', 'discuter', 'discuté', 'discutée', 'disent', 'disparaitre', 'disparation', 'disparaît', 'disparaître', 'disparition', 'disparité', 'disparités', 'disparu', 'dispensant', 'dispensateurs', 'dispensation', 'dispense', 'dispenser', 'dispenserait', 'dispensé', 'dispensés', 'disponibilité', 'disponibilités', 'disponible', 'disponibles', 'disposait', 'disposant', 'dispose', 'disposent', 'disposer', 'disposera', 'disposeront', 'dispositif', 'dispositifd', 'dispositifs', 'disposition', 'disposons', 'disproportionnée', 'disproportionnés', 'dissimulé', 'dissuade', 'dissuader', 'dissuasive', 'dissuasives', 'distance', 'distinct', 'distinctes', 'distinction', 'distinguant', 'distingue', 'distinguent', 'distinguer', 'distorsion', 'distorsions', 'distribuant', 'distribuent', 'distributeur', 'distributeurs', 'distribution', 'distribué', 'distribuées', 'distribués', 'dit', 'dite', 'dites', 'dive', 'diver', 'divergence', 'divergentes', 'diversification', 'diversifie', 'diversité', 'dividendes', 'divisant', 'divisée', 'divulgation', 'divulgués', 'dix', 'dixit', 'dixième', 'dizaine', 'dizaines', 'diététiciens', 'dlnf', 'dm', 'dmp', 'docker', 'doctrine', 'document', 'documentaire', 'documentation', 'documente', 'documenter', 'documenté', 'documentés', 'doigt', 'doigts', 'doit', 'doive', 'doivent', 'dollar', 'dom', 'domaine', 'domaines', 'domicile', 'domiciliées', 'domiciliés', 'domiennes', 'domin', 'dominique', 'dommage', 'dommageables', 'dommages', 'don', 'donateur', 'donation', 'donc', 'donnant', 'donne', 'donnent', 'donner', 'donnerait', 'donneuses', 'donné', 'donnée', 'données', 'donnés', 'dont', 'dontc', 'dorénavant', 'dosage', 'dossier', 'dosé', 'dotation', 'dotations', 'dote', 'doter', 'doté', 'dotée', 'dotées', 'dotés', 'douaisis', 'douanes', 'douanière', 'doublant', 'double', 'doublement', 'doubler', 'doublon', 'doublé', 'doublée', 'doublés', 'douleur', 'douleurs', 'doute', 'doutes', 'douze', 'douzième', 'dr', 'dramatiques', 'drames', 'drastique', 'drastiquement', 'drastiques', 'drees', 'dress', 'dressant', 'dresse', 'dressent', 'dresser', 'dresseront', 'dressé', 'drink', 'drogue', 'droit', 'droite', 'droits', 'drom', 'drôme', 'dsn', 'dubos', 'dudit', 'due', 'dufeu', 'dumping', 'dunkerque', 'duodecies', 'duquel', 'durable', 'durablement', 'durables', 'durant', 'dure', 'durement', 'durent', 'durer', 'durée', 'durées', 'dus', 'dynamique', 'dynamisme', 'dysfonctionnement', 'dysfonctionnements', 'dès', 'débat', 'débats', 'débattue', 'débiteur', 'déblocage', 'débloquer', 'débordent', 'déboucher', 'débouchés', 'début', 'débutant', 'débute', 'débuter', 'débuts', 'décalage', 'décaler', 'décelée', 'décembre', 'décemment', 'décennie', 'décennies', 'décerner', 'décide', 'décident', 'décider', 'décidera', 'décidé', 'décidée', 'décidées', 'décile', 'déciles', 'décilitre', 'décision', 'décisionnel', 'décisions', 'décisive', 'décisives', 'déclaraient', 'déclarait', 'déclarant', 'déclarants', 'déclaratif', 'déclaration', 'déclarations', 'déclaratives', 'déclare', 'déclarent', 'déclarer', 'déclaré', 'déclarée', 'déclarées', 'déclarés', 'déclassement', 'déclenchement', 'déclinaison', 'décloisonnement', 'décloisonnée', 'décompte', 'décompter', 'décorrélé', 'découlant', 'découle', 'découlent', 'découler', 'découragement', 'décourager', 'découverte', 'découvertes', 'décret', 'décrochage', 'décroît', 'décèdent', 'décès', 'décédés', 'dédié', 'dédiée', 'dédiés', 'dédommagement', 'dédommager', 'déductible', 'déduction', 'déductions', 'déduire', 'déduit', 'défaillance', 'défaillances', 'défaut', 'défaveur', 'défavorable', 'défavorables', 'défavorisées', 'défavorisés', 'défendable', 'défendant', 'défendre', 'défendue', 'défense', 'défenseur', 'défi', 'déficit', 'déficitaire', 'déficitaires', 'déficits', 'défini', 'définie', 'définies', 'définir', 'définira', 'définis', 'définissant', 'définit', 'définitifs', 'définition', 'définitive', 'définitivement', 'défis', 'défiscalisant', 'défiscalisation', 'défiscaliser', 'défiscalisées', 'défiscalisés', 'déformations', 'dégage', 'dégageant', 'dégagent', 'dégager', 'dégagé', 'dégagées', 'dégagés', 'dégradation', 'dégradent', 'dégrader', 'dégradée', 'dégressif', 'dégressive', 'dégressives', 'dégressivité', 'dégringoler', 'déguisées', 'dégustation', 'déjà', 'délai', 'délais', 'délaissés', 'délicates', 'délimitation', 'délimitée', 'délinquance', 'délinquante', 'délirant', 'délit', 'délits', 'délivrance', 'délivrant', 'délivre', 'délivrent', 'délivrer', 'délivré', 'délivrée', 'délivrées', 'délivrés', 'délocalisation', 'délocalisations', 'délocalisent', 'délocaliser', 'délocalisée', 'délégation', 'délégations', 'déléguer', 'délégué', 'déléguée', 'délégués', 'délétère', 'délétères', 'démarche', 'démarches', 'démarrage', 'démarré', 'démarrée', 'démasqués', 'dématérialisation', 'dématérialisée', 'démission', 'démissions', 'démocrates', 'démocratie', 'démocratique', 'démographie', 'démographique', 'démographiques', 'démontrait', 'démontre', 'démontrent', 'démontrer', 'démontrerait', 'démontré', 'démontrée', 'démunis', 'dénaturation', 'dénature', 'dénaturer', 'déniées', 'dénombrait', 'dénomination', 'dénommé', 'dénommée', 'dénoncé', 'dénoncée', 'dénonçait', 'dénouement', 'déontologie', 'départ', 'département', 'départemental', 'départementale', 'départementales', 'départementalisation', 'départementaux', 'départements', 'départs', 'dépassant', 'dépasse', 'dépassement', 'dépassements', 'dépassent', 'dépasser', 'dépasserait', 'dépassé', 'dépassées', 'dépend', 'dépendance', 'dépendant', 'dépendante', 'dépendantes', 'dépendants', 'dépendent', 'dépendre', 'dépens', 'dépense', 'dépenses', 'dépensé', 'dépensés', 'dépistage', 'dépistages', 'dépister', 'dépit', 'déplacement', 'déplacements', 'déplacent', 'déplacer', 'déploiement', 'déploiements', 'déplorables', 'déplorent', 'déployer', 'déployées', 'dépose', 'déposent', 'déposer', 'déposé', 'déposée', 'déposés', 'dépourvues', 'dépourvus', 'dépression', 'dépressions', 'déprogrammation', 'déprogrammés', 'député', 'députée', 'députées', 'députés', 'dépôt', 'dépôts', 'déremboursement', 'dérembourser', 'dérisoire', 'dérive', 'dérives', 'dérivés', 'dérogation', 'dérogations', 'dérogatoire', 'dérogatoires', 'déroge', 'déroger', 'dérogé', 'déroule', 'déroulement', 'dérouler', 'déroulera', 'dérégulation', 'dés', 'désaccord', 'désamour', 'désastreuses', 'désavantage', 'déscolarisation', 'désenclavement', 'désengage', 'désengagement', 'désengorgement', 'désengorger', 'désert', 'désertification', 'déserts', 'désespérance', 'désignée', 'désignées', 'désignés', 'désincitatif', 'désinciter', 'désindustrialisation', 'désinsertion', 'désir', 'désireuse', 'désirées', 'désocialisant', 'désocialisation', 'désocialisés', 'désolidarisent', 'désormais', 'déstabilisant', 'déstabilisé', 'déséquilibre', 'déséquilibres', 'détachement', 'détaché', 'détachées', 'détachés', 'détail', 'détaillant', 'détaillent', 'détailler', 'détaillé', 'détaillée', 'détaillées', 'détaillés', 'détails', 'détecter', 'détection', 'détecté', 'détectées', 'détectés', 'détenir', 'détenteurs', 'détention', 'détentrice', 'détenue', 'détenues', 'détenus', 'déterminables', 'déterminante', 'détermination', 'détermine', 'déterminent', 'déterminer', 'déterminera', 'déterminé', 'déterminée', 'déterminées', 'déterminés', 'détiennent', 'détient', 'détournement', 'détourner', 'détournée', 'détournés', 'détriment', 'détruire', 'détruites', 'détériorant', 'détérioration', 'détériorée', 'développe', 'développement', 'développent', 'développer', 'développé', 'développée', 'développées', 'développés', 'dévoiement', 'dévoiler', 'dévoilées', 'dévolu', 'dévolue', 'déçus', 'dû', 'dûment', 'eaje', 'eau', 'economie', 'economique', 'ecout', 'education', 'eee', 'effacer', 'effectif', 'effectifs', 'effective', 'effectivement', 'effectivité', 'effectuant', 'effectue', 'effectuer', 'effectuera', 'effectué', 'effectuée', 'effectuées', 'effectués', 'effet', 'effets', 'efficace', 'efficacement', 'efficaces', 'efficacité', 'efficience', 'efficient', 'effondre', 'effondrement', 'effondrer', 'efforce', 'effort', 'efs', 'egalité', 'ehpad', 'ehpads', 'el', 'eld', 'electrosensibilités', 'elles', 'ellesmêmes', 'ema', 'embauche', 'embauchent', 'embaucher', 'embauches', 'embauchés', 'emblème', 'embouteillage', 'emmanuel', 'emmaüs', 'emoi', 'empare', 'empire', 'empiriquement', 'emploi', 'emploie', 'emploient', 'emplois', 'employabilité', 'employant', 'employer', 'employeur', 'employeurs', 'employeuses', 'employé', 'employée', 'employées', 'employés', 'emporte', 'emportent', 'empreintes', 'emprunt', 'empruntait', 'emprunte', 'emprunter', 'empruntes', 'emprunts', 'empêchant', 'empêche', 'empêchent', 'empêcher', 'empêché', 'empêchées', 'encadrant', 'encadre', 'encadrement', 'encadrer', 'encadré', 'encadrée', 'encadrées', 'encadrés', 'enceinte', 'enceintes', 'enchainement', 'enclenché', 'encontre', 'encore', 'encourage', 'encourageant', 'encourageants', 'encouragement', 'encouragent', 'encourager', 'encouragé', 'encouragées', 'encouragés', 'encourent', 'encourt', 'endettement', 'endetter', 'endetté', 'endiguer', 'endométriose', 'endurer', 'enfance', 'enfant', 'enfants', 'enfermée', 'enfermés', 'enfin', 'engage', 'engageant', 'engagement', 'engagent', 'engager', 'engageraient', 'engagé', 'engagée', 'engagées', 'engagés', 'engendrait', 'engendrant', 'engendre', 'engendrent', 'engendrer', 'engendreront', 'engendré', 'engendrée', 'engendrées', 'engendrés', 'englobant', 'englué', 'engorge', 'engorgement', 'enim', 'enjeu', 'enjeux', 'enlève', 'ennemis', 'enquête', 'enquêtes', 'enr', 'enraciner', 'enrayer', 'enregistre', 'enregistré', 'enregistrées', 'enregistrés', 'enrichis', 'enrichissement', 'enrichit', 'enrôlement', 'enseignant', 'enseignants', 'enseignement', 'enseignements', 'enseignes', 'enseigné', 'ensemble', 'ensuite', 'entamer', 'entamée', 'entamées', 'entend', 'entendait', 'entendent', 'entendons', 'entendre', 'entendu', 'entendue', 'entendus', 'entier', 'entiers', 'entité', 'entités', 'entière', 'entièrement', 'entières', 'entièreté', 'entonnoir', 'entorse', 'entourage', 'entourant', 'entraide', 'entrainant', 'entraine', 'entrainement', 'entrainent', 'entrainer', 'entrainerait', 'entrainé', 'entrant', 'entraver', 'entraînant', 'entraîne', 'entraînent', 'entraîner', 'entraînera', 'entraînerait', 'entraîné', 'entraînées', 'entre', 'entrent', 'entreprendre', 'entrepreneur', 'entreprise', 'entreprises', 'entrer', 'entrera', 'entrerait', 'entretien', 'entretiennent', 'entré', 'entrée', 'entrées', 'entérine', 'entériné', 'enveloppe', 'enveloppes', 'envergure', 'envers', 'envie', 'environ', 'environnement', 'environnemental', 'environnementale', 'environnementales', 'environnementaux', 'environs', 'envisage', 'envisageable', 'envisageant', 'envisagent', 'envisager', 'envisagera', 'envisagé', 'envisagée', 'envisagées', 'envisagéesla', 'enviée', 'envoi', 'envoie', 'envoient', 'envoyer', 'envoyé', 'epargne', 'epic', 'epnp', 'epopé', 'epp', 'equivalent', 'er', 'eric', 'eristoff', 'ernst', 'erreur', 'erreurs', 'erronée', 'erronées', 'esat', 'escarres', 'escompté', 'escomptés', 'esm', 'espace', 'espagne', 'espoir', 'espoirs', 'esprit', 'espèce', 'espèces', 'espère', 'espérance', 'espérons', 'espérée', 'essai', 'essaiment', 'essayer', 'essence', 'essential', 'essentiel', 'essentielle', 'essentiellement', 'essentielles', 'essentiels', 'essor', 'essoufflé', 'estimait', 'estimant', 'estimation', 'estime', 'estiment', 'estimer', 'estimons', 'estimé', 'estimée', 'estimées', 'estparticulièrement', 'etablissements', 'etapes', 'etat', 'etats', 'etc', 'etcc', 'eti', 'etintervenants', 'etp', 'etude', 'euphorisants', 'eure', 'euro', 'europe', 'européen', 'européenne', 'européennes', 'européenneune', 'européens', 'eurosd', 'ex', 'exact', 'exacte', 'exactement', 'exagération', 'examen', 'examinant', 'examine', 'examiner', 'examiné', 'examinée', 'excellence', 'excellente', 'excentrés', 'exception', 'exceptionnel', 'exceptionnelle', 'exceptionnellement', 'exceptionnelles', 'exceptionnels', 'excessif', 'excessive', 'excessivement', 'excessives', 'exclu', 'excluait', 'excluant', 'exclue', 'excluent', 'exclues', 'exclurait', 'exclure', 'exclus', 'exclusif', 'exclusion', 'exclusive', 'exclusivement', 'exclusivité', 'exclut', 'excède', 'excèdent', 'excès', 'excédaient', 'excédant', 'excédent', 'excédentaire', 'excéder', 'exemplaire', 'exemple', 'exemples', 'exemptant', 'exempter', 'exemption', 'exempts', 'exemptés', 'exerce', 'exercent', 'exercer', 'exercice', 'exercices', 'exercé', 'exercée', 'exercées', 'exercés', 'exergue', 'exerçant', 'exige', 'exigeant', 'exigence', 'exigences', 'exiger', 'exigibilité', 'exigible', 'exigibles', 'exigus', 'exiguïté', 'exigée', 'exigées', 'exil', 'exile', 'existait', 'existant', 'existante', 'existantes', 'existants', 'existe', 'existence', 'existent', 'existé', 'exonérant', 'exonération', 'exonérations', 'exonérationspatronales', 'exonérer', 'exonéré', 'exonérée', 'exonérées', 'exonérés', 'exorbitant', 'expansion', 'expatriés', 'expert', 'experte', 'expertise', 'expirant', 'expiration', 'explication', 'explicitement', 'explique', 'expliquent', 'expliquer', 'expliqué', 'exploitant', 'exploitantes', 'exploitants', 'exploitation', 'exploite', 'exploiter', 'exploité', 'exploitées', 'exploités', 'exploration', 'explore', 'explose', 'explosion', 'explosé', 'export', 'exportation', 'exporter', 'exportés', 'exposant', 'expose', 'exposent', 'exposition', 'exposée', 'exposées', 'exposés', 'expresse', 'expression', 'expressément', 'expriment', 'exprimer', 'exprimé', 'exprimée', 'exprimées', 'exprimés', 'expédition', 'expéditions', 'expédiés', 'expérience', 'expériences', 'expérimental', 'expérimentale', 'expérimentation', 'expérimentations', 'expérimentent', 'expérimenter', 'expérimenté', 'expérimentés', 'exsangue', 'exsangues', 'extension', 'externalisation', 'externe', 'externes', 'extinction', 'extraction', 'extraits', 'extrapolation', 'extrarénale', 'extrême', 'extrêmement', 'extrêmes', 'extérieur', 'extérieure', 'extérieures', 'exécution', 'exécuté', 'exécutée', 'exécutés', 'fabricant', 'fabricants', 'fabrication', 'fabriquant', 'fabriquer', 'face', 'facial', 'facile', 'facilement', 'faciles', 'facilitant', 'facilite', 'faciliter', 'facilité', 'facilitée', 'facteur', 'facteurs', 'factionner', 'facto', 'facturation', 'facturations', 'facturent', 'facturer', 'factures', 'facturé', 'facturée', 'facturées', 'facultatif', 'facultative', 'faculté', 'facultés', 'faible', 'faiblement', 'faibles', 'faiblesse', 'faiblesses', 'faille', 'faillible', 'faillite', 'faire', 'faisabilité', 'faisant', 'faisons', 'fait', 'faite', 'faites', 'faits', 'fameuse', 'familial', 'familiale', 'familiales', 'familiaux', 'famille', 'familles', 'fantaisie', 'fantômes', 'fasse', 'fassent', 'fatigants', 'fatigue', 'faudra', 'faudrait', 'fausse', 'faut', 'fautabsolument', 'faute', 'fautif', 'faux', 'favard', 'faveur', 'favorable', 'favorisant', 'favorise', 'favorisent', 'favoriser', 'favoriserait', 'favorisés', 'façon', 'fedom', 'fehap', 'feima', 'femme', 'femmes', 'fera', 'ferait', 'ferme', 'fermentation', 'fermer', 'fermeture', 'fermetures', 'fermé', 'fermées', 'feront', 'ferry', 'feu', 'feuille', 'feuilles', 'fhf', 'fiabilisation', 'fiabiliser', 'fiabilité', 'fiable', 'fiables', 'fiat', 'fiche', 'fiches', 'fichier', 'fichiers', 'ficoba', 'fides', 'fidèle', 'figurant', 'figurants', 'figure', 'figurent', 'fil', 'file', 'filiale', 'filiales', 'filière', 'filières', 'fille', 'fillon', 'fin', 'final', 'finale', 'finalement', 'finaliser', 'finalité', 'finalités', 'finance', 'financement', 'financements', 'financent', 'financer', 'financera', 'financeurs', 'financier', 'financière', 'financièrement', 'financières', 'financièresdans', 'financé', 'financée', 'financées', 'financés', 'finançant', 'fine', 'finement', 'fini', 'finir', 'finlande', 'fir', 'firme', 'firmes', 'firmin', 'fisc', 'fiscal', 'fiscale', 'fiscalement', 'fiscales', 'fiscalisation', 'fiscalisée', 'fiscalisés', 'fiscalité', 'fiscaux', 'fix', 'fixant', 'fixation', 'fixe', 'fixent', 'fixer', 'fixé', 'fixée', 'fixées', 'fixés', 'fièvres', 'flagrance', 'flagrante', 'flambeau', 'flash', 'fleur', 'flexibilité', 'florifères', 'flottes', 'floue', 'fluidification', 'fluidifier', 'fluidité', 'flux', 'fléau', 'fléchage', 'fléchit', 'fléchés', 'fmespp', 'fnadepa', 'fnsea', 'foi', 'foie', 'fois', 'foncier', 'fonciers', 'fonction', 'fonctionnaires', 'fonctionnalités', 'fonctionne', 'fonctionnels', 'fonctionnement', 'fonctionnent', 'fonctionner', 'fonctionnera', 'fonctionné', 'fonctions', 'fond', 'fondamental', 'fondamentale', 'fondamentales', 'fondamentaux', 'fondateurs', 'fondation', 'fondations', 'fonde', 'fondement', 'fondent', 'fonder', 'fonds', 'fondue', 'fondé', 'fondée', 'fondées', 'font', 'for', 'force', 'forcée', 'forcément', 'forestiers', 'forfait', 'forfaitaire', 'forfaitairement', 'forfaitaires', 'forfaitisation', 'forfaitiser', 'forfaits', 'formalisme', 'formalisé', 'formalisée', 'formalité', 'formalités', 'formant', 'formateur', 'formateurs', 'formation', 'formationsii', 'forme', 'formelle', 'formellement', 'formelles', 'formels', 'forment', 'former', 'formes', 'formidable', 'formulaire', 'formulaires', 'formulation', 'formule', 'formulent', 'formuler', 'formulée', 'formulées', 'formé', 'formés', 'fort', 'forte', 'fortement', 'fortes', 'fortiori', 'fortune', 'fortunée', 'forêts', 'fouet', 'foulée', 'fouquet', 'fourni', 'fournies', 'fournir', 'fourniront', 'fournis', 'fournissait', 'fournissant', 'fournissent', 'fournisseur', 'fourniture', 'fournitures', 'foyer', 'fraction', 'fractionne', 'fractionner', 'fractionnés', 'fracturaire', 'fracture', 'fracturées', 'fracturés', 'fragile', 'fragiles', 'fragilisation', 'fragilise', 'fragiliser', 'fragilisé', 'fragilisée', 'fragilisées', 'fragilisés', 'fragilité', 'frais', 'franc', 'france', 'franche', 'franches', 'franchie', 'franchise', 'franck', 'français', 'française', 'françaises', 'françois', 'frappant', 'frapperait', 'frappées', 'frappés', 'fraude', 'fraudeart', 'frauder', 'fraudes', 'fraudeurs', 'frauduleuse', 'frauduleusement', 'frauduleuses', 'frauduleux', 'fraudé', 'fraudées', 'fraudés', 'frein', 'freine', 'freiner', 'freins', 'fret', 'freudenberger', 'front', 'frontière', 'frontières', 'fruit', 'frère', 'frédéric', 'fréquemment', 'fréquent', 'fréquentation', 'fréquente', 'fréquentent', 'fréquentes', 'fréquents', 'fsv', 'fuite', 'fumer', 'fumertaux', 'fumeurs', 'fusion', 'fusionner', 'fusionné', 'fusionnées', 'futur', 'future', 'futurs', 'fécondité', 'fédération', 'fédérations', 'fédérer', 'féliciter', 'féminicides', 'féminin', 'fémur', 'février', 'fœtales', 'fœtus', 'gaec', 'gafa', 'gage', 'gagnante', 'gagne', 'gagnent', 'gagner', 'gagneraient', 'gagnerait', 'gagé', 'gaillac', 'gain', 'gallois', 'gamme', 'garanti', 'garantie', 'garanties', 'garantir', 'garantis', 'garantissant', 'garantissent', 'garantit', 'garde', 'gardent', 'garder', 'gardes', 'gardé', 'gare', 'gares', 'garçons', 'gastronomie', 'gaz', 'gazières', 'gdr', 'gel', 'gelés', 'gen', 'gendarmerie', 'genetet', 'genre', 'geste', 'gestes', 'gestion', 'gestionnaire', 'gestionnaires', 'ght', 'gie', 'gilead', 'gilets', 'gilles', 'gip', 'glissants', 'glissement', 'global', 'globale', 'globalement', 'globales', 'globalisation', 'glycémie', 'go', 'goua', 'goulet', 'gourvernement', 'goutte', 'gouverment', 'gouvernance', 'gouvernants', 'gouvernement', 'gouvernemental', 'gouvernementale', 'gouvernementales', 'gouvernements', 'goût', 'graf', 'gramme', 'grand', 'grande', 'grandement', 'grandes', 'grandeur', 'grandissante', 'grandjean', 'gratuit', 'gratuite', 'gratuitement', 'gratuites', 'gratuité', 'grave', 'gravement', 'gravissime', 'gravité', 'greffes', 'grevant', 'grignoté', 'grippe', 'gros', 'gross', 'grossesse', 'grossistes', 'groupe', 'groupement', 'groupements', 'groupes', 'groupé', 'grâce', 'grâces', 'grève', 'gré', 'grévés', 'guadeloupe', 'guadeloupéen', 'guadeloupéennes', 'guerre', 'guichet', 'guide', 'guillaume', 'guso', 'guyanaises', 'guyane', 'guère', 'guérir', 'guérison', 'gynécologie', 'gynécologique', 'gynécologue', 'gynécologues', 'géants', 'gélule', 'gélules', 'génère', 'génèrent', 'génèrera', 'génèrerait', 'général', 'générale', 'généralement', 'générales', 'généralisant', 'généralisation', 'généralisationiii', 'généraliser', 'généraliste', 'généralistes', 'généralisé', 'généralisée', 'généralisées', 'généralisés', 'générant', 'générateur', 'générateurs', 'génération', 'générations', 'généraux', 'générer', 'générera', 'générerait', 'génériques', 'générosité', 'généré', 'générée', 'générées', 'générés', 'génétique', 'géographique', 'géographiques', 'gérald', 'gérant', 'gérard', 'gérer', 'gériatres', 'gérontologie', 'gérontologiques', 'géré', 'gérés', 'ha', 'habilitation', 'habilitée', 'habilitées', 'habilités', 'habillage', 'habitant', 'habitat', 'habitation', 'habiter', 'habitude', 'habituel', 'habituelle', 'habitués', 'had', 'haine', 'haleurs', 'hammouche', 'handicap', 'handicapant', 'handicapé', 'handicapées', 'handicapés', 'harmonisation', 'harmonise', 'harmoniser', 'harmonisé', 'hausse', 'haussedu', 'hausses', 'haut', 'haute', 'hauteur', 'hauts', 'havre', 'hcaam', 'hce', 'hdh', 'health', 'hebdomadaire', 'hectare', 'hectolitre', 'henry', 'herbert', 'hermétique', 'heure', 'heures', 'heurte', 'heurtent', 'hexagonale', 'hexagonaux', 'hexagone', 'histoire', 'historique', 'historiquement', 'historiques', 'hiver', 'hiérarchiser', 'hl', 'hoc', 'hollande', 'homme', 'hommes', 'homologué', 'homologués', 'homéopathie', 'homéopathiques', 'honnête', 'honoraire', 'honoraires', 'honorer', 'honte', 'hopital', 'horaire', 'horaires', 'horizon', 'horizontale', 'hormis', 'hors', 'horticulture', 'hospitalier', 'hospitaliers', 'hospitalisation', 'hospitalisées', 'hospitalisés', 'hospitalière', 'hospitalières', 'houlié', 'hpst', 'hpv', 'http', 'hub', 'hugo', 'hui', 'huiles', 'huit', 'huitième', 'humain', 'humaine', 'humaines', 'humains', 'humides', 'huon', 'hybride', 'hydromel', 'hygiène', 'hypersensibilité', 'hypertension', 'hypnotiques', 'hypothèque', 'hypothèse', 'hébergeant', 'hébergement', 'hébergements', 'hébergés', 'hémicycle', 'hémorragie', 'hépatite', 'hérault', 'héritage', 'héritier', 'héritiers', 'hérité', 'héros', 'hétérogénéité', 'hôpital', 'hôpitaux', 'hôtelier', 'hôteliers', 'hôtelières', 'hôtellerie', 'hôtels', 'iborra', 'ice', 'ici', 'idel', 'identifiant', 'identification', 'identifie', 'identifier', 'identifié', 'identifiée', 'identifiées', 'identifiés', 'identique', 'identiques', 'identité', 'idée', 'idéologie', 'ieg', 'ier', 'ierdu', 'ifaq', 'iga', 'ignorait', 'ignorent', 'ignorer', 'ii', 'iii', 'ij', 'ile', 'illusion', 'illusoire', 'illustration', 'illustre', 'illustré', 'illustrée', 'illégal', 'illégaux', 'image', 'imaginatif', 'imaginés', 'imbroglio', 'immatriculation', 'immense', 'imminent', 'immobilier', 'immobiliers', 'immobilière', 'immobilières', 'immodéré', 'immunisation', 'immunisé', 'immunisée', 'immunodéprimées', 'immunoglobulines', 'immédiat', 'immédiate', 'immédiatement', 'impact', 'impactant', 'impactent', 'impacter', 'impacté', 'impactées', 'impactés', 'imparfaite', 'imparti', 'impartiale', 'impasse', 'impensable', 'implantables', 'implantation', 'implantées', 'implantés', 'implication', 'implicite', 'implicites', 'impliquant', 'implique', 'impliquent', 'impliquée', 'impliquées', 'impliqués', 'implémentation', 'importance', 'important', 'importante', 'importantes', 'importants', 'importateurs', 'importation', 'importe', 'importent', 'importer', 'imposable', 'imposables', 'imposait', 'imposant', 'impose', 'imposer', 'imposera', 'imposition', 'impossibilité', 'impossible', 'imposé', 'imposée', 'imposées', 'imposés', 'impressionniste', 'imprécis', 'imprécise', 'impréparé', 'imprévisible', 'imprévues', 'imprévus', 'impulsion', 'impunité', 'imputable', 'imputables', 'imputation', 'impute', 'imputé', 'imputées', 'impératif', 'impératifs', 'impérative', 'impérieuse', 'impôt', 'impôts', 'impôtscet', 'impôtsiii', 'impôtsl', 'impôtsla', 'in', 'inacceptable', 'inacceptables', 'inadapté', 'inadaptées', 'inadaptés', 'inadmissible', 'inadéquate', 'inapplicables', 'inaptes', 'inaptitude', 'inca', 'incalculables', 'incapable', 'incapacitante', 'incapacité', 'incapacités', 'incendie', 'incertaine', 'incertaines', 'incertitude', 'inchangé', 'inchangée', 'incidence', 'incitant', 'incitatif', 'incitatifs', 'incitation', 'incitative', 'incitatives', 'incite', 'inciter', 'incitera', 'inciterait', 'incitées', 'incités', 'incivils', 'incluant', 'inclue', 'incluent', 'inclura', 'inclure', 'inclus', 'incluse', 'incluses', 'inclusif', 'inclusifs', 'inclusion', 'inclusive', 'inclusives', 'inclut', 'incohérence', 'incohérente', 'incombe', 'incombent', 'incompatible', 'incompatibles', 'incomplets', 'incomplète', 'incompréhensible', 'incompréhension', 'inconcevable', 'inconnus', 'inconstitutionnalité', 'incontestée', 'incontinence', 'incontournable', 'inconvénient', 'inconvénients', 'incrimination', 'inde', 'indemnisation', 'indemnisations', 'indemnisent', 'indemnisé', 'indemnisée', 'indemnisées', 'indemnisés', 'indemnité', 'indemnités', 'index', 'indexation', 'indexés', 'indicateur', 'indicateurs', 'indication', 'indice', 'indiciaire', 'indien', 'indifférence', 'indigent', 'indiquait', 'indiquant', 'indique', 'indiquent', 'indiquer', 'indiqué', 'indiquée', 'indiqués', 'indirectement', 'indirectes', 'indirects', 'indiscutables', 'indispensable', 'indispensables', 'indisponibles', 'indissociables', 'individu', 'individualisation', 'individualisme', 'individualisé', 'individualisés', 'individuel', 'individuelle', 'individuellement', 'individuelles', 'individuels', 'individus', 'indolore', 'indu', 'indubitablement', 'indue', 'indues', 'induire', 'induisent', 'induit', 'induite', 'induites', 'induits', 'indument', 'indus', 'industrie', 'industriel', 'industrielle', 'industriels', 'industry', 'indéfiniment', 'indéniablement', 'indépendamment', 'indépendance', 'indépendant', 'indépendante', 'indépendantes', 'indépendants', 'indésirables', 'indéterminée', 'indûment', 'inefficace', 'inefficaces', 'inefficacité', 'inenvisageable', 'inexactitude', 'inexcusable', 'inexistant', 'inexistants', 'inexorablement', 'inexplicable', 'infantile', 'infectieuses', 'infection', 'infertilité', 'infinie', 'infirmier', 'infirmiers', 'infirmières', 'infirmée', 'inflation', 'infliger', 'influence', 'infléchir', 'info', 'infondée', 'information', 'informatique', 'informatiques', 'informe', 'informer', 'informera', 'informé', 'informée', 'informées', 'informés', 'infra', 'infraction', 'infradépartemental', 'infrastructure', 'inférieur', 'inférieure', 'inférieures', 'inférieurs', 'ingrédients', 'ingénieurs', 'inhalation', 'inhérents', 'ininterrompue', 'inique', 'iniquité', 'initial', 'initiale', 'initialement', 'initiales', 'initiation', 'initiative', 'initiaux', 'initie', 'initier', 'initié', 'initiée', 'initiés', 'injection', 'injecté', 'injonction', 'injuste', 'injustice', 'injustifiée', 'innocuité', 'innovant', 'innovante', 'innovantes', 'innovants', 'innovation', 'innover', 'inopinés', 'inopérant', 'inouïe', 'inquiets', 'inquiètent', 'inquiétantes', 'inquiétants', 'inquiétude', 'inscription', 'inscrirait', 'inscrire', 'inscrit', 'inscrite', 'inscrites', 'inscrits', 'inscrivait', 'inscrivant', 'inscrivent', 'insee', 'inserm', 'insertion', 'insistait', 'insistons', 'insoumise', 'inspecteur', 'inspection', 'inspire', 'inspiré', 'installant', 'installation', 'installe', 'installer', 'installé', 'installées', 'installés', 'instance', 'instant', 'instar', 'instaurant', 'instauration', 'instaure', 'instaurer', 'instaurerait', 'instaurerions', 'instauré', 'instaurée', 'instaurés', 'instillent', 'instituant', 'instituer', 'institut', 'institution', 'institutionnalisés', 'institutionnelle', 'institutionnels', 'instituts', 'institué', 'instituée', 'instituées', 'institués', 'instruction', 'instruisant', 'instrument', 'instrumental', 'instrumentale', 'instrumentales', 'insuffisamment', 'insuffisance', 'insuffisant', 'insuffisante', 'insuffisantes', 'insulaire', 'insulaires', 'insularité', 'insupportable', 'insurmontable', 'insécurité', 'insérer', 'insérerait', 'inséré', 'insérée', 'insérées', 'insérés', 'intellectuelle', 'intelligence', 'intense', 'intensifient', 'intensifier', 'intensité', 'intention', 'intentionnel', 'inter', 'interaction', 'interchangeabilité', 'interdiction', 'interdire', 'interdisant', 'interdisent', 'interdit', 'interdite', 'interdépendants', 'interlocuteur', 'interlocuteurs', 'interministériel', 'interministérielle', 'intermittents', 'intermédiaire', 'intermédiaires', 'intermédiation', 'international', 'internationale', 'internationaux', 'interne', 'internet', 'interpeller', 'interprofessionnalité', 'interprofessionnel', 'interprofessionnelle', 'interprofessionnelles', 'interprétation', 'interrogation', 'interroge', 'interrogeant', 'interroger', 'interrogée', 'interrompre', 'interrompt', 'interrompue', 'interruption', 'intervenant', 'intervenants', 'intervenir', 'intervention', 'intervenu', 'intervenue', 'intervenues', 'interviendra', 'interviendrait', 'intervienne', 'interviennent', 'intervient', 'intitulé', 'intitulée', 'intolérable', 'intolérables', 'intolérance', 'intracommunautaire', 'intracommunautaires', 'intrafamiliales', 'intraveineuse', 'intrinsèquement', 'introduction', 'introduire', 'introduisant', 'introduit', 'introduite', 'introduites', 'introduits', 'introspection', 'intègre', 'intégral', 'intégrale', 'intégralement', 'intégralité', 'intégrant', 'intégrante', 'intégration', 'intégrer', 'intégré', 'intégrée', 'intégrées', 'intégrés', 'intéressant', 'intéressantes', 'intéressement', 'intéresser', 'intéressera', 'intéressé', 'intéressée', 'intéressés', 'intérieur', 'intérieures', 'intérim', 'intérêt', 'intérêts', 'inusitée', 'inutile', 'inutilement', 'inutiles', 'invalides', 'invalidité', 'invasifs', 'invasive', 'invasives', 'inverse', 'inverti', 'investi', 'investies', 'investigation', 'investiguer', 'investir', 'investis', 'investissant', 'investissement', 'investissements', 'investissent', 'invitant', 'invitation', 'invite', 'invité', 'invités', 'inédit', 'inédite', 'inédites', 'inégal', 'inégale', 'inégalement', 'inégalitaire', 'inégalité', 'inégalités', 'inéquitable', 'inéquitablement', 'inéquités', 'inévitablement', 'ipsos', 'irma', 'irrationnelle', 'irrecevables', 'irrégularités', 'irrégulière', 'irréversibilité', 'irréversibles', 'isf', 'islamistes', 'isolant', 'isolement', 'isoler', 'isolé', 'isolée', 'isolées', 'isolés', 'israël', 'issu', 'issue', 'issus', 'ist', 'italie', 'italien', 'italienne', 'item', 'iud', 'iv', 'ivg', 'jade', 'jamais', 'jambe', 'jambon', 'janssen', 'janvier', 'jaunes', 'jean', 'jetés', 'jeu', 'jeudi', 'jeune', 'jeunes', 'jeunesse', 'jir', 'johnson', 'jonchée', 'joue', 'jouent', 'jouer', 'jouirait', 'jouissent', 'jour', 'journal', 'journalier', 'journaliers', 'journalière', 'journalières', 'journée', 'journées', 'jours', 'joué', 'judiciaire', 'judicieuse', 'judicieux', 'juge', 'jugeait', 'jugement', 'jugent', 'jugé', 'jugée', 'jugés', 'juillet', 'juin', 'julien', 'junior', 'juridiction', 'juridictionnels', 'juridictions', 'juridique', 'juridiquement', 'jurisprudence', 'jus', 'jusqu', 'jusque', 'juste', 'justement', 'justes', 'justesse', 'justice', 'justifiant', 'justificatif', 'justificatifs', 'justification', 'justificatives', 'justifie', 'justifient', 'justifier', 'justifié', 'justifiée', 'juteux', 'kg', 'khomri', 'kilogramme', 'kilogrammes', 'kilomètres', 'kilométrique', 'kiné', 'kinésithérapeutes', 'kouchner', 'label', 'labellisation', 'labelliser', 'labellisée', 'laboratoire', 'laboratoires', 'laborieuse', 'labéliser', 'lacunaire', 'lacune', 'lacunes', 'lad', 'ladite', 'lafaiblesse', 'laissant', 'laisse', 'laissent', 'laisser', 'laissé', 'laissée', 'lance', 'lancement', 'lancer', 'lancée', 'lap', 'laquelle', 'lardons', 'larem', 'large', 'largement', 'larousse', 'lbu', 'ldd', 'ldds', 'leader', 'lecture', 'ledit', 'leem', 'lelégislateur', 'lendemain', 'lennep', 'lente', 'lenteur', 'lep', 'lequel', 'leroy', 'lesdites', 'lesdits', 'lespersonnes', 'lesquelles', 'lesquels', 'lettre', 'leurs', 'lever', 'levier', 'leviers', 'levée', 'levées', 'levés', 'leçon', 'lf', 'lffs', 'li', 'liaison', 'libault', 'liberté', 'libertés', 'libre', 'librement', 'libres', 'libéral', 'libérale', 'libérales', 'libérant', 'libération', 'libérations', 'libéraux', 'libérer', 'libérés', 'licence', 'licenciement', 'licencient', 'lie', 'lien', 'lieu', 'lieux', 'ligne', 'ligue', 'lilly', 'liminaire', 'limitant', 'limitation', 'limite', 'limitent', 'limiter', 'limiterait', 'limites', 'limitrophes', 'limité', 'limitée', 'limités', 'limoux', 'linéaire', 'linéairement', 'liqueur', 'liquidation', 'liquides', 'liquidée', 'liquidées', 'lira', 'lisibilité', 'lisibles', 'lisser', 'liste', 'listes', 'lit', 'litige', 'litiges', 'litières', 'litre', 'littoral', 'littorales', 'littoraux', 'littérature', 'liv', 'livraison', 'livre', 'livrer', 'livret', 'livrets', 'livrées', 'lié', 'liée', 'liées', 'liés', 'll', 'lo', 'lobby', 'local', 'locale', 'localement', 'localisation', 'locatif', 'location', 'locaux', 'lodeom', 'logement', 'logements', 'logiciel', 'logiciels', 'logique', 'logiques', 'loin', 'loire', 'lois', 'loisible', 'londres', 'long', 'longs', 'longtemps', 'longue', 'longues', 'lors', 'lorsqu', 'lorsque', 'louable', 'louant', 'louent', 'louer', 'loueur', 'loueurs', 'lourd', 'lourde', 'lourdement', 'lourdes', 'lourdeur', 'lourdeurs', 'lourds', 'loué', 'loyers', 'lpp', 'lpps', 'lr', 'lrem', 'luca', 'lucratif', 'lucratifs', 'lumière', 'lundbeck', 'lunetiers', 'lunette', 'lurton', 'luttant', 'lutte', 'lutter', 'luxembourg', 'là', 'lèsent', 'lèvent', 'lèvres', 'légal', 'légale', 'légalement', 'légales', 'légalisation', 'légaliser', 'légalité', 'légaux', 'léger', 'légers', 'légiférer', 'législateur', 'législatif', 'législation', 'législative', 'législatives', 'législature', 'légitime', 'légitimité', 'légitimé', 'légumes', 'légère', 'légèrement', 'légères', 'léser', 'lésions', 'macro', 'macron', 'madame', 'magistrat', 'magistrats', 'mahorais', 'mai', 'maillage', 'maillon', 'maillons', 'main', 'maintenance', 'maintenant', 'maintenir', 'maintenu', 'maintenue', 'maintenus', 'maintien', 'maire', 'mairies', 'maison', 'maisons', 'maitresse', 'maitrise', 'maitriser', 'majeur', 'majeure', 'majeures', 'majeurs', 'majorants', 'majoration', 'majorations', 'majorer', 'majoritairement', 'majorité', 'majoré', 'majorée', 'majorés', 'mal', 'malade', 'malades', 'maladie', 'malady', 'malencontreusement', 'malformation', 'malgré', 'malheureusement', 'maliens', 'maltraitance', 'maltraités', 'malus', 'mamie', 'mammographie', 'management', 'manche', 'mandataires', 'mandature', 'manifestation', 'manifeste', 'manifestement', 'manière', 'manne', 'manquant', 'manquantes', 'manquants', 'manque', 'manquement', 'manquements', 'manquent', 'manquer', 'manques', 'manuel', 'manufacturière', 'manutention', 'manœuvre', 'mar', 'maraîchage', 'marc', 'marche', 'marché', 'marchéaussi', 'marchés', 'mardi', 'marge', 'marginal', 'marginalement', 'marianne', 'marie', 'marin', 'marins', 'maritime', 'maritimes', 'marketing', 'marne', 'maroc', 'marocain', 'marquage', 'marque', 'marqueur', 'marqué', 'marquée', 'marqués', 'martin', 'martine', 'martiniquais', 'martinique', 'masquant', 'masque', 'mass', 'masse', 'masseur', 'massif', 'massive', 'massivement', 'maternel', 'maternelle', 'maternelles', 'maternels', 'maternité', 'maternités', 'mathématiquement', 'matignon', 'matin', 'matière', 'matières', 'mature', 'matériaux', 'matériel', 'matérielle', 'matériellement', 'matériels', 'maurienne', 'mauvais', 'mauvaise', 'maximal', 'maximale', 'maximales', 'maximiser', 'maximum', 'mayotte', 'maître', 'maîtres', 'maîtrise', 'maîtrisent', 'maîtrisé', 'maîtrisées', 'maîtrisés', 'mce', 'mco', 'medicine', 'meilleur', 'meilleure', 'meilleures', 'meilleurs', 'membre', 'membres', 'menace', 'menacent', 'menacé', 'menacées', 'menacés', 'menant', 'menaçant', 'mener', 'mensuel', 'mensuelle', 'mensuelles', 'mensuels', 'mentale', 'mentaux', 'mention', 'mentionnant', 'mentionne', 'mentionnent', 'mentionner', 'mentionnes', 'mentionné', 'mentionnée', 'mentionnées', 'mentionnés', 'menues', 'mené', 'menée', 'menées', 'menés', 'mer', 'merri', 'message', 'messidor', 'mesurable', 'mesurant', 'mesurer', 'mesures', 'mesurées', 'mesurés', 'met', 'mettait', 'mettant', 'mettent', 'mettrait', 'mettre', 'meubles', 'meublés', 'meurent', 'meuse', 'mi', 'michèle', 'micro', 'microbiennes', 'mieux', 'mig', 'migac', 'migacs', 'migaud', 'migraine', 'migrant', 'milieu', 'militaire', 'militaires', 'mille', 'milles', 'milliard', 'milliers', 'million', 'mince', 'mine', 'mineur', 'mineures', 'mineurs', 'minier', 'minimal', 'minimale', 'minimales', 'minimas', 'minimaux', 'minimis', 'minimum', 'ministre', 'ministres', 'ministère', 'ministères', 'ministériel', 'ministérielle', 'minoration', 'minoritaire', 'minorité', 'minoré', 'minorée', 'minuscule', 'minute', 'minérale', 'miroir', 'miroiter', 'mise', 'misions', 'mission', 'missionné', 'missionnée', 'misère', 'mitigé', 'mitm', 'mixte', 'ml', 'mme', 'mobiliers', 'mobilisable', 'mobilisation', 'mobilisent', 'mobiliser', 'mobilisée', 'mobilisées', 'mobilisés', 'mobilité', 'mobilières', 'modalité', 'modalités', 'mode', 'modem', 'modernisation', 'moderniser', 'modeste', 'modestement', 'modestes', 'modicité', 'modifiant', 'modification', 'modifie', 'modifient', 'modifier', 'modifié', 'modifiéa', 'modifiée', 'modifiées', 'modulaires', 'modulation', 'module', 'moduler', 'modulées', 'modulés', 'modèle', 'modèles', 'modérateur', 'modération', 'modéré', 'modérée', 'modérés', 'moelle', 'moindre', 'moins', 'mois', 'moisson', 'moitié', 'molécule', 'molécules', 'moment', 'monde', 'mondial', 'mondiale', 'mondialecet', 'moniteur', 'moniteurs', 'monitorat', 'monoprofessionnels', 'monsieur', 'montagne', 'montant', 'montants', 'monter', 'montrait', 'montre', 'montrent', 'montré', 'montures', 'montée', 'monétaire', 'morale', 'moralement', 'moratoire', 'moraux', 'morbide', 'morbihan', 'mort', 'mortalité', 'morte', 'mortel', 'mortelles', 'mortels', 'morts', 'moselle', 'mot', 'motif', 'motivant', 'motiver', 'motivé', 'motivée', 'mouiller', 'mourir', 'mousseux', 'mouture', 'mouvement', 'mouvements', 'moyen', 'moyenne', 'moyennes', 'moyens', 'msa', 'mucoviscidose', 'multilatérales', 'multimodal', 'multiple', 'multipliant', 'multiplication', 'multiplie', 'multiplier', 'multiplié', 'multipliée', 'multipliées', 'muschotti', 'musculaire', 'mutation', 'mutualisation', 'mutualise', 'mutualiser', 'mutualisé', 'mutualité', 'mutuelle', 'mutuelles', 'mydriatiques', 'myriam', 'mâchertaux', 'mènent', 'mènera', 'mère', 'mères', 'mètres', 'mécanisme', 'mécanismes', 'méconnaissance', 'méconnait', 'méconnaitre', 'méconnaît', 'méconnu', 'mécènes', 'médecin', 'médecine', 'médecines', 'médecins', 'médian', 'médias', 'médiation', 'médical', 'médicale', 'médicalement', 'médicales', 'médicalisation', 'médicalisé', 'médicalisée', 'médicalisés', 'médicament', 'médicamenteuse', 'médicamenteuses', 'médicamenteux', 'médicaments', 'médicamentsles', 'médicaux', 'médiocres', 'méditation', 'méditerranéen', 'mélanges', 'mélanie', 'mémoire', 'mémoires', 'ménage', 'ménages', 'méningite', 'méningites', 'méningocoque', 'mépris', 'méritants', 'mérite', 'méritent', 'mérites', 'métal', 'métallurgie', 'méthode', 'méthodes', 'méthodologie', 'métier', 'métiers', 'métropole', 'métropoles', 'métropolitaine', 'mêmes', 'naissaient', 'naissance', 'naissances', 'naissent', 'naitre', 'nat', 'natalité', 'nathalie', 'nation', 'national', 'nationale', 'nationales', 'nationalisation', 'nationalité', 'nationaux', 'nature', 'naturelle', 'naturellement', 'naturelles', 'navette', 'navigants', 'navire', 'navires', 'nazairien', 'naître', 'net', 'nette', 'nettement', 'nettoyantes', 'neuf', 'neurologique', 'neuropathiques', 'neutralisation', 'neutralisés', 'neutralité', 'neutres', 'neuvième', 'nexem', 'ni', 'nia', 'niait', 'niche', 'nicolas', 'nicotinique', 'nicotiniques', 'niort', 'nir', 'nitrate', 'nitrite', 'nitrité', 'nitrés', 'niveau', 'niveaux', 'no', 'nocifs', 'nocive', 'nocivité', 'noir', 'noires', 'noirs', 'nom', 'nombre', 'nombreuses', 'nombreux', 'nomenclature', 'nominatif', 'nomination', 'nominative', 'nommer', 'nommées', 'noms', 'nonobstant', 'nord', 'normal', 'normale', 'normalement', 'normandie', 'normative', 'norme', 'normes', 'notable', 'notament', 'notamment', 'notant', 'notat', 'note', 'noter', 'notera', 'notice', 'notification', 'notifie', 'notifient', 'notifier', 'notifiée', 'notion', 'notoirement', 'notons', 'nouent', 'nourrir', 'nourrissent', 'nourrisson', 'nourrissons', 'nourrit', 'nouveau', 'nouveauté', 'nouveaux', 'nouvel', 'nouvelle', 'nouvellement', 'nouvelles', 'novembre', 'noëlle', 'ntic', 'nuages', 'nuisent', 'nuisible', 'nuit', 'nuits', 'nuitée', 'nuitées', 'nul', 'nulle', 'nullité', 'nuls', 'numerus', 'numérique', 'numériques', 'numérisée', 'numérisées', 'numéro', 'numéros', 'nursing', 'nutriscore', 'nutrition', 'nutritionnel', 'nutritionnelle', 'nutritionnels', 'nº', 'né', 'néanmoins', 'nécessaire', 'nécessairement', 'nécessaires', 'nécessitant', 'nécessite', 'nécessitent', 'nécessiter', 'nécessiterait', 'nécessité', 'néfaste', 'néfastes', 'négatif', 'négatifs', 'négative', 'négatives', 'négligeable', 'négligence', 'négociation', 'négociations', 'négocier', 'négocié', 'négociée', 'négociés', 'néolibérale', 'néonicotinoïdes', 'néophytes', 'nés', 'nôtres', 'oa', 'objectif', 'objectifs', 'objectivables', 'objective', 'objectiver', 'objectivée', 'obligation', 'obligatoire', 'obligatoirement', 'obligatoires', 'oblige', 'obligeant', 'obliger', 'obligerait', 'obligées', 'obscur', 'observait', 'observation', 'observatoire', 'observe', 'observent', 'observer', 'observé', 'observée', 'observées', 'observés', 'obsolète', 'obstacle', 'obstétricien', 'obstétriciensdans', 'obstétrique', 'obtenir', 'obtention', 'obtenu', 'obtenue', 'obtenues', 'obtenus', 'obtient', 'obère', 'obèses', 'obésité', 'oc', 'occasion', 'occasionne', 'occasionnels', 'occasionnée', 'occasionnées', 'occasionnés', 'occupation', 'occupe', 'occupent', 'occuper', 'occupée', 'occupés', 'occurrence', 'ocde', 'octobre', 'octroi', 'octroie', 'octroient', 'octroyant', 'octroyer', 'octroyé', 'octroyée', 'octroyés', 'oculus', 'odenore', 'odre', 'odénore', 'oeuvre', 'oeuvré', 'ofce', 'ofdt', 'offerte', 'offerts', 'office', 'officiel', 'officielles', 'officier', 'officiers', 'officine', 'officines', 'offrant', 'offrants', 'offre', 'offrent', 'offres', 'offreurs', 'offrir', 'offrirait', 'oit', 'olivier', 'ombre', 'omc', 'omet', 'oms', 'oncologie', 'oncologues', 'ondam', 'ong', 'ongles', 'onssf', 'onu', 'onvs', 'onze', 'onzième', 'onéreuses', 'onéreux', 'opacité', 'opaque', 'ophtalmologie', 'ophtalmologistes', 'opiacés', 'opinion', 'opportun', 'opportunité', 'opportunités', 'opposable', 'oppose', 'opposer', 'opposition', 'opposons', 'opposé', 'opposés', 'optam', 'opter', 'opticien', 'opticiens', 'optimale', 'optimisant', 'optimisation', 'optimisent', 'optimiser', 'option', 'optionnelle', 'optique', 'optiques', 'opèrent', 'opérant', 'opérateur', 'opérateurs', 'opération', 'opérationnalité', 'opérationnel', 'opérationnelle', 'opérationnelles', 'opérationnels', 'opérations', 'opérer', 'opéré', 'opérée', 'or', 'ordinaire', 'ordinaires', 'ordonnance', 'ordonnances', 'ordonnée', 'ordonnées', 'ordonnés', 'ordre', 'ordres', 'ore', 'organe', 'organisant', 'organisateurs', 'organisation', 'organisationnel', 'organisationnelle', 'organisationnelles', 'organisationnels', 'organise', 'organisent', 'organiser', 'organisme', 'organisé', 'organisée', 'organisés', 'orientation', 'orientent', 'orienter', 'orientées', 'originaire', 'original', 'origine', 'origines', 'orlaujourd', 'orpea', 'orphelins', 'orteil', 'orthogénie', 'orthophonie', 'orthophonistes', 'orthoptistes', 'orthopédie', 'orthèses', 'osseuse', 'ostréiculture', 'ostéodensitométrie', 'ostéoporose', 'ostéoporotiques', 'otsuka', 'oubli', 'oublier', 'oublié', 'oubliées', 'oubliés', 'ouest', 'our', 'out', 'outil', 'outils', 'outrage', 'outre', 'outremer', 'outrepasserait', 'ouvert', 'ouverte', 'ouvertes', 'ouverts', 'ouverture', 'ouvrage', 'ouvrant', 'ouvre', 'ouvrent', 'ouvriers', 'ouvrir', 'ouvrira', 'ouvrirait', 'ouvrière', 'ouvrières', 'oxfam', 'où', 'packaging', 'pacte', 'page', 'paie', 'paiement', 'paiements', 'paient', 'paiera', 'pair', 'paje', 'palette', 'palliant', 'palliatifs', 'pallient', 'pallier', 'paluszkiewicz', 'pamc', 'pamplemousse', 'pandémie', 'panel', 'panier', 'paniers', 'panorama', 'pansement', 'pansements', 'papier', 'papiers', 'papilloma', 'papillomavirus', 'paradoxalement', 'paradoxe', 'paragraphe', 'paragraphes', 'paraissait', 'paraissent', 'parait', 'paraitre', 'parallèle', 'parallèlement', 'parallélisme', 'paralysé', 'paramètres', 'paramédicale', 'paramédicales', 'paramédicaux', 'parasismiques', 'paraît', 'paraître', 'parc', 'parce', 'parcellaires', 'parcimonie', 'parcourir', 'parcours', 'parcoursup', 'pareille', 'pareillement', 'parent', 'parental', 'parentale', 'parentaux', 'parfaite', 'parfaitement', 'parfois', 'paris', 'parlait', 'parlement', 'parlementaire', 'parlementaires', 'parler', 'parles', 'parmi', 'parole', 'parquet', 'part', 'partage', 'partageant', 'partagent', 'partageons', 'partagé', 'partagée', 'partagées', 'partagés', 'partant', 'partenaire', 'partenaires', 'partenariat', 'partent', 'parti', 'participant', 'participation', 'participative', 'participatives', 'participe', 'participent', 'participer', 'participera', 'participerait', 'participé', 'particularisme', 'particularités', 'particulier', 'particuliers', 'particulière', 'particulièrement', 'particulières', 'partie', 'partiel', 'partielle', 'partiellement', 'partielles', 'partiels', 'partir', 'partira', 'partiront', 'partout', 'parturientes', 'party', 'paru', 'parue', 'parues', 'parune', 'parvenir', 'parviennent', 'pas', 'pascal', 'passage', 'passagers', 'passant', 'passe', 'passeports', 'passer', 'passeraient', 'passerait', 'passerelle', 'passerelles', 'passible', 'passibles', 'passé', 'passée', 'passés', 'pasteur', 'patentes', 'paternité', 'pathologie', 'pathologique', 'pathology', 'patient', 'patiente', 'patienter', 'patientes', 'patientèle', 'patriarcale', 'patrick', 'patrie', 'patrimoine', 'patrimoniales', 'patronale', 'patronales', 'patronat', 'paul', 'pauvre', 'pauvres', 'pauvreté', 'pavillon', 'pay', 'payant', 'payantaux', 'paye', 'payent', 'payer', 'payeurs', 'payeuses', 'payions', 'paysage', 'payé', 'payée', 'payées', 'payés', 'pch', 'pcr', 'peine', 'peinent', 'peines', 'pendant', 'pensait', 'pense', 'penser', 'pension', 'pensionné', 'pensionnés', 'pensons', 'pensé', 'pensée', 'per', 'perceptible', 'perceptibles', 'perception', 'percevant', 'percevoir', 'perco', 'percuter', 'perd', 'perde', 'perdent', 'perdre', 'perdu', 'perdue', 'perdues', 'perdure', 'perdurent', 'perdus', 'pereco', 'performance', 'performants', 'permanence', 'permanente', 'permanentes', 'permet', 'permettait', 'permettant', 'permette', 'permettent', 'permettra', 'permettraient', 'permettrait', 'permettre', 'permettront', 'permis', 'permise', 'perpétrer', 'perpétrée', 'perpétuelle', 'persistance', 'persistant', 'persistante', 'persiste', 'person', 'personnalisation', 'personnalisé', 'personnalisée', 'personnalisés', 'personnalité', 'personnalités', 'personne', 'personnel', 'personnelle', 'personnelles', 'personnes', 'perspective', 'perte', 'pertes', 'pertinence', 'pertinent', 'pertinente', 'perturbation', 'perturber', 'perturbé', 'perçoit', 'perçoivent', 'perçu', 'perçue', 'perçues', 'perçus', 'pesant', 'peser', 'peste', 'pesticide', 'petite', 'petits', 'peu', 'peur', 'peut', 'peuvent', 'peyron', 'pge', 'phare', 'phares', 'pharmaceutical', 'pharmaceutique', 'pharmaceutiques', 'pharmacie', 'pharmacien', 'pharmaciens', 'pharmacopée', 'pharmacorésistantes', 'pharmacovigilance', 'pharmacy', 'phasage', 'phase', 'philippe', 'photo', 'photographie', 'phrase', 'physique', 'physiquement', 'phytopharmaceutiques', 'phytosanitaires', 'phénomène', 'phénomènes', 'pib', 'pic', 'pied', 'pierre', 'pilier', 'piliers', 'pilotage', 'pilotes', 'piloté', 'pinault', 'pionnière', 'pire', 'piste', 'pièce', 'pièces', 'pjl', 'place', 'placement', 'placent', 'placer', 'placé', 'placées', 'placés', 'plafond', 'plafonds', 'plafonnement', 'plafonné', 'plafonnée', 'plaide', 'plaident', 'plaie', 'plaignez', 'plainte', 'plan', 'plantaires', 'plante', 'planétaire', 'plaque', 'plasma', 'plat', 'plateau', 'plateforme', 'plateformes', 'plausibles', 'play', 'plaçant', 'plein', 'pleine', 'pleinement', 'pleurs', 'plf', 'plongé', 'plupart', 'pluralisme', 'pluraliste', 'pluralité', 'pluriactifs', 'pluriannualité', 'pluriannuel', 'pluriannuelle', 'pluriannuelles', 'pluricité', 'pluridisciplinaire', 'plurielle', 'plurielles', 'pluriprofessionnelles', 'plus', 'plusieurs', 'plusvalues', 'plutôt', 'pluviométrie', 'pma', 'pme', 'pmi', 'pms', 'pmsi', 'pneumocoque', 'podologues', 'poids', 'poindre', 'point', 'pointait', 'pointues', 'pointé', 'pointée', 'poiré', 'poisson', 'poitou', 'police', 'policiers', 'politique', 'politiquement', 'politiques', 'polluants', 'pollution', 'polton', 'polyculture', 'polyhandicapées', 'polymédication', 'polymérisation', 'polynésie', 'polypathologiques', 'pompier', 'pompiers', 'ponctionnés', 'ponctuel', 'ponctuelle', 'pondéré', 'populaire', 'populaires', 'popularité', 'population', 'populationnel', 'populationnelle', 'port', 'portail', 'portant', 'portantes', 'porte', 'portefeuille', 'portefeuilles', 'portent', 'porter', 'portera', 'porteur', 'portion', 'portuaire', 'portuaires', 'porté', 'portée', 'portées', 'portés', 'pose', 'posent', 'poser', 'positif', 'positifs', 'position', 'positionne', 'positionnement', 'positionner', 'posology', 'possibilité', 'possibilités', 'possible', 'possédons', 'post', 'postal', 'postale', 'poste', 'posteriori', 'postes', 'postnatal', 'postnatale', 'postnatales', 'postpartum', 'postulat', 'postérieure', 'postérieurs', 'posé', 'posée', 'pot', 'potentiel', 'potentielle', 'potentiellement', 'potentielles', 'potentiels', 'poumon', 'poupe', 'pourcent', 'pourcentage', 'pourcentages', 'pourquoi', 'pourra', 'pourraient', 'pourrait', 'pourrions', 'pourront', 'poursuit', 'poursuite', 'poursuites', 'poursuivant', 'poursuivi', 'poursuivie', 'poursuivis', 'poursuivre', 'pourtant', 'pourtour', 'pourvoi', 'pourvoir', 'pourvoyeurs', 'pourvu', 'pourvues', 'poussant', 'pousse', 'poussent', 'pousser', 'pouvaient', 'pouvait', 'pouvant', 'pouvoir', 'pouvoirs', 'pouvons', 'ppl', 'ppta', 'pradié', 'prado', 'pragmatique', 'prairie', 'prat', 'praticien', 'praticiens', 'pratiquant', 'pratique', 'pratiquement', 'pratiquent', 'pratiquer', 'pratiques', 'pratiqué', 'pratiquée', 'pratiqués', 'premier', 'premix', 'première', 'premières', 'prenaient', 'prenait', 'prenant', 'prenantes', 'prend', 'prendra', 'prendre', 'prendrions', 'prendront', 'prenne', 'prennent', 'prescripteur', 'prescripteurs', 'prescription', 'prescriptrice', 'prescrire', 'prescrit', 'prescrite', 'prescrites', 'prescrits', 'prescrivent', 'presque', 'presse', 'pression', 'pressions', 'pressés', 'prestataires', 'prestation', 'prestations', 'preuve', 'preuves', 'primaire', 'primaires', 'prime', 'primer', 'primordial', 'primordiale', 'primordiaux', 'princeps', 'principal', 'principale', 'principalement', 'principales', 'principaux', 'principe', 'printemps', 'priori', 'prioritaire', 'prioritairement', 'prioritaires', 'priorité', 'priorités', 'pris', 'prise', 'prisertaux', 'prises', 'prisme', 'prison', 'prisée', 'privatif', 'privation', 'privatisation', 'prive', 'privilèges', 'privilégiaient', 'privilégient', 'privilégier', 'privilégié', 'privilégiée', 'privilégiés', 'privé', 'privée', 'privées', 'privés', 'prix', 'proactifs', 'probable', 'probants', 'problème', 'problèmes', 'problématique', 'problématiques', 'proc', 'processus', 'prochain', 'prochaine', 'prochainement', 'prochaines', 'prochains', 'proche', 'proches', 'procréation', 'procuration', 'procurations', 'procurer', 'procède', 'procèdent', 'procès', 'procédant', 'procéder', 'procédure', 'procédures', 'procédé', 'procédés', 'prodiguée', 'prodigués', 'producteur', 'producteurs', 'productif', 'production', 'productive', 'productivité', 'productrice', 'productrices', 'produirait', 'produire', 'produisent', 'produit', 'produite', 'produites', 'produits', 'profession', 'professionnalisation', 'professionnalisé', 'professionnel', 'professionnelle', 'professionnelles', 'professionnels', 'profil', 'profile', 'profils', 'profit', 'profitaient', 'profiter', 'profiteraient', 'profiterait', 'profité', 'profond', 'profonde', 'profondeur', 'profondément', 'programmation', 'programmations', 'programme', 'programmée', 'programmés', 'progresse', 'progresser', 'progressif', 'progressifs', 'progression', 'progressive', 'progressivement', 'progressivité', 'progressé', 'progrès', 'prohibitif', 'proie', 'projection', 'projet', 'projeter', 'projets', 'prolongation', 'prolongement', 'prolonger', 'prolongé', 'prolongée', 'prolongés', 'promesses', 'promettait', 'prometteuses', 'promeut', 'promis', 'promise', 'promotion', 'promotionnelles', 'promouvoir', 'promu', 'promues', 'promulgation', 'promulgué', 'promulguée', 'promus', 'prononce', 'prononcer', 'prononcé', 'prononcée', 'prononcées', 'prononçait', 'pronostic', 'propagation', 'propager', 'proportion', 'proportionnalité', 'proportionnel', 'proportionnelle', 'proportionnellement', 'proportionné', 'proportionnée', 'proportionnés', 'propos', 'proposait', 'proposant', 'proposent', 'proposer', 'proposez', 'proposition', 'proposons', 'proposé', 'proposée', 'proposées', 'proposés', 'propre', 'proprement', 'propres', 'propriétaire', 'propriétaires', 'propriété', 'propriétés', 'prorogation', 'proroger', 'prorogée', 'prospectif', 'prospective', 'prospectives', 'protection', 'prothèse', 'prothèses', 'protocole', 'protocoles', 'protoxyde', 'protégeant', 'protéger', 'protégerait', 'protégé', 'protégée', 'protégées', 'prouve', 'prouver', 'prouvé', 'prouvée', 'provea', 'provenance', 'provenant', 'provence', 'proviennent', 'provision', 'provisionnelles', 'provisionner', 'provisoire', 'provisoires', 'provocant', 'provoquant', 'provoque', 'provoquer', 'provoquées', 'proximité', 'prudence', 'prudentiel', 'prudentielles', 'près', 'pré', 'préachat', 'préalable', 'préalablement', 'préalables', 'préambule', 'précaire', 'précaires', 'précarisation', 'précarité', 'précaution', 'précautions', 'précieuse', 'précieux', 'précis', 'précisait', 'précisant', 'précise', 'précisent', 'préciser', 'précisera', 'précision', 'précisions', 'précisons', 'précisée', 'précisées', 'précisément', 'précité', 'précitée', 'précitées', 'précités', 'précoce', 'précocement', 'précoces', 'précomptées', 'préconisait', 'préconisation', 'préconisations', 'préconise', 'préconisé', 'précèdent', 'précédant', 'précédemment', 'précédent', 'précédente', 'précédentes', 'précédents', 'précédé', 'prédictive', 'prédictives', 'préexistence', 'préfigurant', 'préfigurer', 'préfèrent', 'préférant', 'préférentiel', 'préférentiellement', 'préférer', 'prégnant', 'prégnantes', 'préjudice', 'préjudices', 'préjudiciable', 'préjudiciables', 'préjuger', 'prélever', 'prélevé', 'prélevée', 'prélevés', 'préliminaire', 'prélèvement', 'prélèvements', 'prématuré', 'prématurés', 'prémenstruel', 'prémix', 'prémunir', 'prénatal', 'prénatales', 'préoccupant', 'préoccupante', 'préoccupants', 'préoccupation', 'préoccupations', 'préoccuper', 'préparant', 'préparation', 'préparations', 'préparent', 'préparer', 'préparé', 'préparés', 'prépondérante', 'prérequis', 'prérogatives', 'présence', 'présentait', 'présentant', 'présentation', 'présente', 'présentent', 'présenter', 'présentera', 'présenterait', 'présentes', 'présenté', 'présentée', 'présentés', 'préservant', 'préservation', 'préserver', 'préserverait', 'préservé', 'président', 'présidentielle', 'présidée', 'présomption', 'présumée', 'présuppose', 'prétendre', 'prévalant', 'prévale', 'prévalence', 'prévaloir', 'prévaut', 'prévenir', 'préventif', 'préventifs', 'prévention', 'préventions', 'préventive', 'prévenus', 'prévisibilité', 'prévision', 'prévisionnel', 'prévisionnelle', 'prévisions', 'prévoient', 'prévoir', 'prévoit', 'prévoyait', 'prévoyance', 'prévoyant', 'prévu', 'prévue', 'prévues', 'prévus', 'prêt', 'prête', 'prêter', 'prêts', 'prôné', 'psad', 'psdm', 'pse', 'psy', 'psychiatre', 'psychiatres', 'psychiatrie', 'psychiatrique', 'psychiatriques', 'psychique', 'psychiques', 'psychologique', 'psychologiques', 'psychologue', 'psychologues', 'psychopathologie', 'psychothérapie', 'psychothérapies', 'psychotrope', 'psychotropes', 'pu', 'publiait', 'public', 'publication', 'publicitaire', 'publicitaires', 'publicité', 'publicités', 'publicles', 'publique', 'publiques', 'publié', 'publiée', 'publiées', 'publiés', 'pui', 'puis', 'puise', 'puisqu', 'puisque', 'puissamment', 'puissance', 'puisse', 'puissent', 'puissions', 'puma', 'punir', 'punis', 'punitive', 'pur', 'purement', 'pures', 'purs', 'puériculteurs', 'pâtissières', 'pâté', 'pâtés', 'père', 'pères', 'pèse', 'pèsent', 'pécule', 'pécuniaire', 'pécuniaires', 'pédagogique', 'pédagogiques', 'pédiatres', 'pédiatrie', 'pédiatriques', 'pénal', 'pénale', 'pénales', 'pénalisante', 'pénalisantes', 'pénalise', 'pénalisent', 'pénaliser', 'pénaliseraient', 'pénaliserait', 'pénalisées', 'pénalisés', 'pénalité', 'pénalités', 'pénalitésil', 'pénibilité', 'péniblement', 'pénibles', 'pénis', 'pénitentiaire', 'pénurie', 'pénuries', 'pépinières', 'pérenne', 'pérennes', 'pérennisant', 'pérennisation', 'pérennise', 'pérenniser', 'pérennité', 'péril', 'périls', 'périmètre', 'périmètres', 'périmé', 'périnatale', 'périnatalité', 'périnataux', 'période', 'périodes', 'périodeà', 'périodique', 'périodiques', 'périphérie', 'périphéries', 'périurbaines', 'péréquation', 'pétillants', 'pêche', 'pôle', 'pôles', 'qualification', 'qualifié', 'qualifiées', 'qualifiés', 'qualitatifs', 'qualitative', 'qualité', 'quand', 'quant', 'quantifiable', 'quantifier', 'quantifiés', 'quantitatifs', 'quantitative', 'quantitatives', 'quantité', 'quantités', 'quantum', 'quarantaine', 'quarantaines', 'quarante', 'quart', 'quartiers', 'quasi', 'quasiment', 'quater', 'quaterdecies', 'quatorzaine', 'quatorze', 'quatre', 'quatrième', 'quel', 'quelconque', 'quelle', 'quelles', 'quelque', 'quelques', 'quels', 'question', 'questionnaire', 'questionner', 'questionné', 'questionnée', 'quiconque', 'quinquennat', 'quinquies', 'quintal', 'quinze', 'quinzième', 'quoi', 'quotidien', 'quotidienne', 'quotidiennement', 'quotidiennes', 'quotidiens', 'quotient', 'quémander', 'quérable', 'raccourcir', 'racine', 'radiation', 'radicale', 'radicalement', 'radio', 'radiodiffusion', 'radiologie', 'radiothérapie', 'radiothérapies', 'rage', 'raisin', 'raison', 'raisonne', 'raisons', 'ralentie', 'ralentir', 'ralentissement', 'rallongement', 'ramenant', 'ramener', 'ramené', 'ramenée', 'ramsey', 'ramènerait', 'rang', 'range', 'rapide', 'rapidement', 'rapides', 'rappel', 'rappelait', 'rappeler', 'rappellait', 'rappelle', 'rappellent', 'rappellera', 'rappelons', 'rappelé', 'rapport', 'rapportant', 'rapporte', 'rapporter', 'rapportera', 'rapporteur', 'rapporteure', 'rapporté', 'rapportée', 'rapportés', 'rapprochent', 'rapprocher', 'rare', 'rarement', 'rares', 'rareté', 'raréfaction', 'raréfient', 'rassemble', 'rassemblement', 'rassemblés', 'rassurer', 'rassuré', 'ratification', 'ratifié', 'ratio', 'rationalisation', 'rationnellement', 'rationnels', 'rattache', 'rattachement', 'rattachent', 'rattacher', 'rattaché', 'rattachée', 'rattachées', 'rattachés', 'rattrapage', 'rattrapée', 'raté', 're', 'ready', 'rebond', 'rebâtir', 'recense', 'recentrage', 'recentrer', 'recentré', 'recette', 'recettes', 'recevabilité', 'recevables', 'recevant', 'recevoir', 'recevra', 'recevrait', 'recherche', 'recherchent', 'rechercher', 'recherches', 'recherché', 'recherchés', 'reclassement', 'recommandait', 'recommandation', 'recommandations', 'recommande', 'recommandent', 'recommandé', 'recommandée', 'recommandés', 'reconduction', 'reconduit', 'reconduite', 'reconduites', 'reconduits', 'reconfigurations', 'reconnaissait', 'reconnaissance', 'reconnaisse', 'reconnaissent', 'reconnait', 'reconnaitre', 'reconnaît', 'reconnaître', 'reconnu', 'reconnue', 'reconnues', 'reconnus', 'reconsidérer', 'reconstitution', 'reconstruire', 'reconversion', 'record', 'recoupent', 'recouraient', 'recourent', 'recourir', 'recours', 'recouvrement', 'recouvrements', 'recouvrer', 'recouvrir', 'recouvrée', 'recouvrées', 'recouvrés', 'recrues', 'recrutement', 'recrutements', 'recruter', 'recruté', 'recrutés', 'recteurs', 'rectification', 'rectificative', 'rectificatives', 'rectifier', 'rectifié', 'recueil', 'recueilli', 'recueillies', 'recueillir', 'recul', 'recule', 'reculer', 'reculé', 'reculées', 'redessiner', 'redessiné', 'redevable', 'redevables', 'rediriger', 'redistribution', 'redistribué', 'redondants', 'redonner', 'redonnerait', 'redonné', 'redoutables', 'redressement', 'redressements', 'redéfinir', 'redéfinissant', 'redéfinition', 'redéploiement', 'redéployer', 'refermée', 'refinancement', 'reflet', 'reflète', 'reflétés', 'refond', 'refondation', 'refonte', 'refus', 'refusant', 'refuse', 'refusent', 'refuser', 'refusons', 'regard', 'registre', 'registres', 'regret', 'regrettable', 'regrettait', 'regretté', 'regroupant', 'regrouper', 'regroupé', 'rehaussement', 'rehausser', 'rejet', 'rejeter', 'rejets', 'rejetée', 'rejoignent', 'rejoint', 'relai', 'relais', 'relance', 'relancer', 'relancé', 'relatif', 'relatifs', 'relation', 'relationnelle', 'relative', 'relativement', 'relayées', 'relevait', 'relevant', 'relever', 'relevé', 'relevée', 'relevés', 'relief', 'reliquat', 'relève', 'relèvent', 'remarque', 'remboursable', 'remboursables', 'rembourse', 'remboursement', 'remboursements', 'rembourser', 'rembourserait', 'remboursé', 'remboursée', 'remboursées', 'remboursés', 'remera', 'remet', 'remette', 'remettra', 'remettrait', 'remettre', 'remis', 'remise', 'remontent', 'remonter', 'remontées', 'remplacement', 'remplacer', 'remplacé', 'remplacée', 'remplacées', 'remplacés', 'remplie', 'remplies', 'remplir', 'remplis', 'remplissaient', 'remplissant', 'remplissent', 'remplit', 'remédie', 'remédier', 'renchérissement', 'renchérissent', 'rencontrant', 'rencontre', 'rencontrent', 'rencontrer', 'rencontrée', 'rencontrées', 'rencontrés', 'rend', 'rendait', 'rendant', 'rendement', 'rendent', 'rendez', 'rendra', 'rendraient', 'rendre', 'rendu', 'rendue', 'rendues', 'rendus', 'renflouer', 'renforce', 'renforcement', 'renforcer', 'renforcera', 'renforcé', 'renforcée', 'renforcées', 'renforcés', 'renfort', 'renforçant', 'renonce', 'renoncement', 'renoncements', 'renoncent', 'renoncer', 'renonciation', 'renoncé', 'renouent', 'renouvelable', 'renouvelables', 'renouveler', 'renouvelle', 'renouvellement', 'renouvellements', 'renouvelé', 'renouvelée', 'renouvelés', 'renseignement', 'renseignements', 'renseigner', 'rentabilité', 'rentable', 'rentablescet', 'rente', 'rentrent', 'rentrée', 'renvoi', 'renvoie', 'renvoyer', 'renvoyée', 'repart', 'repenser', 'replacer', 'repli', 'replile', 'repliles', 'replis', 'report', 'reportables', 'reportant', 'reporter', 'reporté', 'reportée', 'repos', 'reposait', 'reposant', 'repose', 'reposent', 'reposer', 'reposé', 'reprenant', 'reprend', 'reprendre', 'reprendront', 'repreneur', 'reprennent', 'reprenons', 'repris', 'reprise', 'reprises', 'reprochés', 'reproduction', 'reproductive', 'reproduise', 'représentaient', 'représentait', 'représentant', 'représentants', 'représentatif', 'représentation', 'représentative', 'représentatives', 'représente', 'représentent', 'représenter', 'représentera', 'représenteraient', 'représenterait', 'représenté', 'repérage', 'repérer', 'requiert', 'requis', 'requise', 'requièrent', 'requérant', 'rescrit', 'respect', 'respectait', 'respectant', 'respecte', 'respectent', 'respecter', 'respectivement', 'respectives', 'respectueux', 'respecté', 'respectée', 'respiration', 'respiratoire', 'respiratoires', 'responsabilité', 'responsabilités', 'responsable', 'responsables', 'ressentir', 'resserrement', 'resserré', 'ressort', 'ressortent', 'ressorti', 'ressortissants', 'ressource', 'ressources', 'restant', 'restantes', 'restaurant', 'restauration', 'restaurer', 'reste', 'restent', 'rester', 'restera', 'resterait', 'resteront', 'restes', 'restitution', 'restreignant', 'restreindre', 'restreint', 'restriction', 'restrictive', 'restructuration', 'restée', 'retailleau', 'retard', 'retardant', 'retarderait', 'retardé', 'retenait', 'retenant', 'retenir', 'retenu', 'retenue', 'retenues', 'retenus', 'retient', 'retirant', 'retirent', 'retirer', 'retiré', 'retirée', 'retombées', 'retoqué', 'retour', 'retournement', 'retours', 'retrace', 'retracent', 'retracer', 'retrait', 'retraite', 'retraites', 'retraité', 'retraitée', 'retraitées', 'retraités', 'retravaillé', 'retrouvant', 'retrouve', 'retrouvent', 'retrouver', 'retrouvées', 'retrouvés', 'revalorisation', 'revalorisations', 'revaloriser', 'revaloriseraient', 'revalorisé', 'revalorisée', 'revalorisés', 'revanche', 'revenant', 'revendication', 'revenir', 'revenu', 'revenus', 'revers', 'reverse', 'reversement', 'reverser', 'reversé', 'reversée', 'reversées', 'reviendrait', 'reviennent', 'revient', 'revitalisation', 'revoir', 'revoyure', 'revu', 'revue', 'revêtant', 'revêtent', 'reçoit', 'reçoivent', 'reçu', 'reçue', 'reçues', 'reçus', 'rh', 'rhum', 'rhums', 'rhône', 'riches', 'richesse', 'rien', 'rigides', 'rigoureuse', 'rigueur', 'rillettes', 'riment', 'risquaient', 'risque', 'risquent', 'risqueraient', 'risquerait', 'risques', 'risqué', 'risqués', 'rist', 'ristourne', 'riveraines', 'riverains', 'rncps', 'robotique', 'robuste', 'roche', 'rompt', 'rompu', 'rompus', 'roscoff', 'rose', 'rosp', 'rosé', 'rosée', 'rotschild', 'rouler', 'route', 'routine', 'routière', 'routières', 'rouvray', 'rouvrir', 'royale', 'rsa', 'rsi', 'rtu', 'rude', 'rue', 'ruinent', 'ruiner', 'rup', 'rupture', 'rural', 'rurale', 'rurales', 'ruraux', 'ruyter', 'rythme', 'rythmes', 'règle', 'règlement', 'règlementaire', 'règlementaires', 'règlements', 'règles', 'réaction', 'réactions', 'réactivité', 'réactualisation', 'réadaptation', 'réaffecté', 'réaffirme', 'réaffirmer', 'réagir', 'réajustement', 'réajuster', 'réalisant', 'réalisation', 'réalise', 'réalisent', 'réaliser', 'réaliserait', 'réaliste', 'réalisé', 'réalisée', 'réalisées', 'réalisés', 'réalité', 'réalités', 'réanimation', 'réautoriser', 'récemment', 'récent', 'récente', 'récentes', 'récents', 'réception', 'réceptions', 'récession', 'récidive', 'récipients', 'réciproquement', 'réciproques', 'réclamaient', 'réclamation', 'réclame', 'réclament', 'réclamer', 'réclamions', 'réclamé', 'réclamés', 'récolte', 'récompensant', 'récompense', 'récompenser', 'récompensé', 'récompensés', 'récréatif', 'récréatifs', 'récréative', 'récupérable', 'récupérables', 'récupération', 'récupérer', 'récupérée', 'récurrence', 'récurrent', 'récurrente', 'récurrentes', 'rédaction', 'rédactionnel', 'rédactionnelle', 'rédactions', 'rédiger', 'rédigé', 'rédigée', 'rédigées', 'rédigés', 'réduction', 'réductions', 'réduire', 'réduisant', 'réduisent', 'réduit', 'réduite', 'réduites', 'réduits', 'réel', 'réelle', 'réellement', 'réelles', 'réels', 'réemployée', 'réexamen', 'réflexion', 'réfléchies', 'réfléchir', 'réforme', 'réformer', 'réformes', 'réformées', 'réfractaires', 'réfraction', 'référant', 'référence', 'référencer', 'références', 'référent', 'référentiel', 'référentiels', 'régi', 'régie', 'régies', 'régime', 'régimes', 'région', 'régional', 'régionale', 'régionales', 'régionaux', 'régions', 'régis', 'régissent', 'régisseurs', 'régit', 'réglementaire', 'réglementairement', 'réglementaires', 'réglementation', 'réglementée', 'régler', 'réglées', 'régularisation', 'régularité', 'régulation', 'réguler', 'régulier', 'régulière', 'régulièrement', 'régulé', 'régulée', 'réindexer', 'réinsertion', 'réintroduction', 'réintroduire', 'réintroduit', 'réintroduite', 'réintégrer', 'réintégrée', 'réinvestie', 'réitère', 'réitération', 'réitéré', 'réitérée', 'réitérées', 'réjouissent', 'rémunèrent', 'rémunérateur', 'rémunération', 'rémunérations', 'rémunérationsces', 'rémunérer', 'rémunéré', 'rémunérée', 'rémunérées', 'rémunérés', 'rénale', 'rénovation', 'réorganisation', 'réorientation', 'réorienter', 'réouvertures', 'répandues', 'réparation', 'réparer', 'réparti', 'répartie', 'réparties', 'répartir', 'répartissant', 'répartissent', 'répartiteur', 'répartiteurs', 'répartition', 'répercussions', 'répercute', 'répercutent', 'répercuter', 'répercuteront', 'répercutée', 'répertoire', 'répertoires', 'répond', 'répondant', 'réponde', 'répondent', 'répondrait', 'répondre', 'répondu', 'réponse', 'réponses', 'répression', 'républicaine', 'républicains', 'république', 'réputé', 'réputée', 'répétition', 'répétitives', 'répété', 'répétée', 'répétées', 'réseau', 'réseaux', 'réserve', 'réserver', 'réserves', 'réservoir', 'réservé', 'réservée', 'réservées', 'résidant', 'réside', 'résidence', 'résident', 'résidents', 'résider', 'résiliente', 'résistances', 'résister', 'résolue', 'résolution', 'résorbé', 'résorbée', 'résorption', 'résoudre', 'résultait', 'résultant', 'résultat', 'résultats', 'résulte', 'résultent', 'résulterait', 'résulté', 'rétabli', 'rétablie', 'rétablies', 'rétablir', 'rétablissement', 'réticences', 'réticentes', 'réticents', 'rétinographe', 'rétroactif', 'rétroactivement', 'rétrocède', 'rétropédalage', 'rétrospective', 'réunies', 'réunion', 'réunionnaise', 'réunionnaises', 'réunit', 'réussi', 'réversion', 'réviser', 'révision', 'révisions', 'révisé', 'révolte', 'révolus', 'révolutions', 'révèle', 'révèlent', 'révélant', 'révélateur', 'révéler', 'révélé', 'révélée', 'rééchelonnement', 'rééquilibrage', 'rééquilibrant', 'réévaluation', 'réévaluer', 'réévalué', 'rôle', 'saad', 'sacha', 'sachant', 'sachent', 'sacrifice', 'sacrifie', 'sacrifié', 'saf', 'sage', 'saignée', 'saint', 'saisie', 'saisine', 'saisir', 'saisissant', 'saisit', 'saison', 'saisonnalité', 'saisonnier', 'saisonniers', 'saisonnière', 'saisonnières', 'sait', 'salaire', 'salaires', 'salariale', 'salariales', 'salarié', 'salariée', 'salariés', 'salle', 'salon', 'saluons', 'salutaire', 'salé', 'samedis', 'sanction', 'sanctionner', 'sandia', 'sang', 'sanguin', 'sanitaire', 'sanitaires', 'sanofi', 'sans', 'santé', 'sapiens', 'sarkozy', 'saspa', 'satisfaction', 'satisfaire', 'satisfaisant', 'satisfaisante', 'satisfaites', 'satisfaits', 'satisfont', 'sativa', 'sativex', 'saturation', 'saturer', 'saucisses', 'saucisson', 'saucissons', 'sauf', 'saurait', 'sauvegarde', 'sauvegarder', 'sauvegardes', 'sauvent', 'sauver', 'sauvées', 'savante', 'savoie', 'savoir', 'savons', 'scanner', 'schizophréniques', 'schéma', 'schémas', 'sciemment', 'science', 'scientifique', 'scientifiques', 'scindées', 'sclérose', 'scolaire', 'scolaires', 'scolarisé', 'scolarité', 'scrupuleusement', 'scénarios', 'sdis', 'sdrea', 'sebaoun', 'second', 'secondaire', 'secondaires', 'seconde', 'secourisme', 'secours', 'secret', 'secrétaire', 'secrétariat', 'secteurs', 'section', 'sein', 'seize', 'sel', 'selon', 'semaine', 'semaines', 'semble', 'semblent', 'semblerait', 'semences', 'semestre', 'sen', 'senior', 'sensibilisation', 'sensibiliser', 'sensibilisés', 'sensible', 'sensiblement', 'sensibles', 'sensée', 'sentent', 'sentiment', 'sentir', 'sept', 'septdecies', 'septembre', 'septième', 'sereinement', 'serpaggi', 'serpent', 'serre', 'sert', 'servant', 'servent', 'servi', 'service', 'servie', 'servier', 'servies', 'servir', 'servis', 'session', 'seuil', 'seuils', 'seul', 'seule', 'seulement', 'seules', 'seuls', 'sevrage', 'sexiste', 'sexistes', 'sexualité', 'sexuel', 'sexuelle', 'sexuellement', 'sexuelles', 'sh', 'shampoing', 'si', 'sicae', 'sidaction', 'sidération', 'sien', 'signal', 'signale', 'signalement', 'signalements', 'signalent', 'signaler', 'signalé', 'signalée', 'signalées', 'signalés', 'signataire', 'signataires', 'signature', 'signaux', 'signe', 'signent', 'signer', 'signes', 'signifiait', 'significatif', 'significatifs', 'significative', 'significativement', 'significatives', 'signifie', 'signé', 'signée', 'signés', 'silence', 'sillage', 'silva', 'similaire', 'similaires', 'similarité', 'simple', 'simplement', 'simplicité', 'simplifiant', 'simplification', 'simplifier', 'simplifié', 'simplifiées', 'simplifiés', 'simulateurs', 'simulation', 'simultanément', 'sinistralité', 'sinistrés', 'sirop', 'sirugue', 'sismique', 'sismiques', 'site', 'situation', 'situe', 'situent', 'situé', 'situées', 'situés', 'six', 'sixième', 'siècle', 'siècles', 'siège', 'siégeant', 'ski', 'skiables', 'slogan', 'smic', 'smirnoff', 'sncf', 'snds', 'sngc', 'soc', 'social', 'sociale', 'socialement', 'sociales', 'socialisateur', 'socialisation', 'socialiste', 'socialistes', 'socialisé', 'sociaux', 'sociodémographiques', 'socioprofessionnels', 'sociétale', 'sociétales', 'société', 'sociétés', 'socle', 'soda', 'sofosbuvir', 'soi', 'soignant', 'soignante', 'soignantes', 'soignants', 'soignent', 'soigner', 'soigné', 'soignés', 'soin', 'soins', 'soir', 'soixante', 'sol', 'soldats', 'soldes', 'solidaire', 'solidaires', 'solidarité', 'solidarités', 'solide', 'solides', 'solidité', 'solitaire', 'solitude', 'sollicitant', 'sollicitations', 'sollicite', 'sollicitent', 'solliciter', 'sollicité', 'sollicitée', 'sollicités', 'solution', 'solvabilité', 'solvables', 'somatiques', 'sombres', 'sommaire', 'sommairepartout', 'somme', 'sommeil', 'sommités', 'sondage', 'sortait', 'sorte', 'sortent', 'sortie', 'sortir', 'sortis', 'sou', 'souci', 'soucieux', 'soucis', 'soudaine', 'souffle', 'souffrance', 'souffrances', 'souffrant', 'souffre', 'souffrent', 'souffrir', 'souhait', 'souhaitable', 'souhaitant', 'souhaite', 'souhaitent', 'souhaiteraient', 'souhaiterait', 'souhaiterions', 'souhaitons', 'souhaité', 'souhaitée', 'souhaitées', 'soulager', 'soulagés', 'soulever', 'soulevé', 'soulevées', 'soulevés', 'soulignait', 'soulignant', 'souligne', 'soulignent', 'souligner', 'souligné', 'soulignées', 'soulève', 'soumet', 'soumettre', 'soumis', 'soumise', 'soumises', 'souple', 'souplesse', 'source', 'souscrire', 'souscrit', 'souscrits', 'soustraire', 'soustrait', 'soutenabilité', 'soutenable', 'soutenant', 'soutenir', 'soutenons', 'soutenu', 'soutenue', 'soutien', 'soutiennent', 'soutiens', 'soutient', 'souvent', 'souveraineté', 'spasad', 'spc', 'spectacle', 'spectaculaires', 'spectre', 'spf', 'spinale', 'spiritueux', 'sport', 'sportifs', 'sportive', 'sportives', 'spécial', 'spéciale', 'spécialement', 'spéciales', 'spécialiste', 'spécialistes', 'spécialisé', 'spécialisée', 'spécialisées', 'spécialisés', 'spécialité', 'spécialités', 'spéciaux', 'spécificité', 'spécificités', 'spécifie', 'spécifique', 'spécifiquement', 'spécifiques', 'spéculateurs', 'squelette', 'ssiad', 'ssr', 'ssti', 'stabilisation', 'stabilise', 'stabiliser', 'stabilité', 'stable', 'stade', 'stades', 'stage', 'stagne', 'standard', 'standardisables', 'standardisées', 'station', 'statistique', 'statistiquement', 'statistiques', 'statuer', 'statut', 'statutaire', 'statutairement', 'statuts', 'statué', 'stigmatisation', 'stigmatisé', 'stipulation', 'stock', 'stockage', 'stocker', 'stomatologues', 'stop', 'stoppe', 'stratégie', 'stratégies', 'stratégique', 'stratégiques', 'streaming', 'streptocoque', 'stress', 'strict', 'strictement', 'stricts', 'structurantes', 'structurants', 'structuration', 'structure', 'structurel', 'structurelle', 'structurelles', 'structurels', 'structurer', 'structurées', 'stupéfiant', 'stupéfiants', 'stéphanie', 'stériles', 'stérilité', 'su', 'subi', 'subie', 'subies', 'subir', 'subiraient', 'subiront', 'subis', 'subissant', 'subisse', 'subissent', 'subit', 'submergés', 'subordonnant', 'subordonne', 'subordonné', 'subordonnée', 'subordonnées', 'subsidiaire', 'subsiste', 'subsistent', 'subsister', 'substance', 'substantialité', 'substantiel', 'substantielle', 'substantielles', 'substantiels', 'substituabilité', 'substituables', 'substitue', 'substituent', 'substituer', 'substitutif', 'substitutifs', 'substitution', 'substituts', 'subséquente', 'subvention', 'successeur', 'successifs', 'succession', 'successives', 'successoral', 'succincts', 'succès', 'succédé', 'succédés', 'sucette', 'sucre', 'sucrières', 'sucrées', 'sucrés', 'suffire', 'suffiront', 'suffisamment', 'suffisant', 'suffisante', 'suffisantes', 'suffisants', 'suffisent', 'suffit', 'suggère', 'suggéré', 'suicidaires', 'suisse', 'suit', 'suite', 'suivant', 'suivante', 'suivantes', 'suivants', 'suivent', 'suivi', 'suivie', 'suivies', 'suivis', 'suivre', 'sujet', 'sujets', 'sujettes', 'superflue', 'superposition', 'supervisent', 'suppléer', 'supplémentaire', 'supplémentaires', 'support', 'supportent', 'supporter', 'supporté', 'supportée', 'supportées', 'supportés', 'supposées', 'suppression', 'supprimant', 'supprime', 'supprimer', 'supprimé', 'supprimée', 'supprimées', 'supprimés', 'supérette', 'supérieur', 'supérieure', 'supérieures', 'supérieurs', 'suralcoolisée', 'suralcoolisées', 'surcharge', 'surconsommation', 'surcotisation', 'surcout', 'surcoût', 'surcoûts', 'surcroît', 'surdotées', 'surement', 'surface', 'surmonter', 'surmortalité', 'surmédication', 'surnuméraires', 'surplus', 'surpoids', 'surprenant', 'surstockage', 'sursuccession', 'surtaxer', 'surtout', 'surveillance', 'surveillanceprénatale', 'survenance', 'survenu', 'survenue', 'survie', 'survivant', 'sus', 'susceptible', 'susceptibles', 'suscite', 'suscités', 'susdit', 'susmentionnés', 'suspect', 'suspend', 'suspendre', 'suspendu', 'suspendue', 'suspendues', 'suspendus', 'suspension', 'susvisée', 'suède', 'symbole', 'symptomatiques', 'symptôme', 'symptômes', 'syndicale', 'syndicales', 'syndicat', 'syndicats', 'syndrome', 'syndrôme', 'synthèse', 'système', 'systèmes', 'systématique', 'systématiquement', 'systématiques', 'systémiques', 'sèche', 'sèchement', 'séance', 'séances', 'sébaoun', 'sécheresse', 'sécu', 'sécurisation', 'sécuriser', 'sécurisée', 'sécurite', 'sécurité', 'ségur', 'séjour', 'séjours', 'sélectif', 'sélectionnés', 'sélective', 'sémaphores', 'sénat', 'sénateur', 'sénateurs', 'sénatorial', 'sénatrice', 'séniors', 'séparation', 'séparent', 'séparément', 'séquelles', 'série', 'sérieusement', 'sérieuses', 'sérieux', 'sérénité', 'sévices', 'sévère', 'sévères', 'sézannais', 'sûr', 'sûretés', 'sûrs', 'sœur', 'ta', 'tabac', 'tabacs', 'tabactaux', 'tabagique', 'tabagisme', 'table', 'tableau', 'tach', 'tacite', 'tacitement', 'tact', 'tafias', 'taille', 'tailles', 'tandis', 'tant', 'tantôt', 'tard', 'tardivement', 'tardives', 'tardé', 'tarif', 'tarifaire', 'tarifaires', 'tarification', 'tarifs', 'tarir', 'tarit', 'taux', 'tax', 'taxable', 'taxation', 'taxe', 'taxer', 'taxi', 'taxées', 'taxés', 'tcaf', 'technicité', 'technique', 'techniquement', 'technologie', 'technologiques', 'technology', 'telle', 'telles', 'tels', 'temp', 'temporaire', 'temporairement', 'temporaires', 'temporel', 'tempête', 'tenable', 'tenait', 'tenant', 'tend', 'tendance', 'tendances', 'tendancielle', 'tendant', 'tendent', 'tendu', 'tendue', 'tendus', 'teneur', 'tenir', 'tenircompte', 'tenon', 'tension', 'tentation', 'tentative', 'tentatives', 'tente', 'tenter', 'tenté', 'tentés', 'tenu', 'tenue', 'tenues', 'tenus', 'tepa', 'ter', 'terme', 'termes', 'terminer', 'terminée', 'terrain', 'terre', 'terres', 'terrible', 'terrine', 'territoire', 'territoires', 'territorial', 'territoriale', 'territoriales', 'territorialisant', 'territorialisé', 'territorialisés', 'territoriaux', 'terrorisme', 'terroristes', 'test', 'tester', 'testé', 'texte', 'textes', 'textile', 'tfue', 'thc', 'thermale', 'thématiques', 'théorique', 'théoriques', 'thérapeutique', 'thérapeutiques', 'thérapies', 'tian', 'ticket', 'tiennent', 'tient', 'tier', 'tierce', 'tirage', 'tire', 'tirent', 'tirer', 'tiré', 'tirés', 'tisane', 'tissu', 'titrant', 'titre', 'titrent', 'titulaire', 'titulaires', 'to', 'tode', 'toilette', 'tolérable', 'tolérance', 'tondeuses', 'tonne', 'tonomètres', 'topographes', 'tort', 'total', 'totale', 'totalement', 'totales', 'totaleun', 'totalité', 'touchaient', 'touchant', 'touche', 'touchent', 'toucher', 'toucherait', 'touché', 'touchées', 'touchés', 'toujours', 'toulouse', 'tour', 'touraine', 'tourisme', 'touristes', 'touristique', 'touristiques', 'tournant', 'tournent', 'tourner', 'tourneraient', 'tournée', 'tous', 'tout', 'toute', 'toutefois', 'toutes', 'tpe', 'tpmr', 'tracfin', 'tradition', 'traditionnel', 'traditionnelle', 'traditionnellement', 'traditionnelles', 'traduction', 'traduirait', 'traduire', 'traduisent', 'traduit', 'traduite', 'trafic', 'trahison', 'traitant', 'traitants', 'traite', 'traitement', 'traitements', 'traiter', 'traité', 'traitées', 'traités', 'trajectoire', 'trajectoires', 'trajet', 'trajets', 'tranche', 'trancher', 'transfert', 'transformation', 'transforme', 'transformer', 'transformé', 'transformée', 'transformés', 'transfrontalières', 'transfère', 'transférer', 'transféré', 'transition', 'transitoire', 'transmanche', 'transmette', 'transmettent', 'transmettre', 'transmis', 'transmise', 'transmises', 'transmissible', 'transmissibles', 'transmission', 'transparence', 'transparent', 'transparente', 'transport', 'transportent', 'transporter', 'transporteurs', 'transportées', 'transposition', 'transposée', 'transverse', 'transverses', 'trappe', 'traumatisme', 'traumatisée', 'travail', 'travaillaient', 'travaillant', 'travaille', 'travaillent', 'travailler', 'travailleur', 'travailleurs', 'travailleuses', 'travaillez', 'travaillé', 'travaillée', 'travaillés', 'travaux', 'travers', 'traverse', 'traverser', 'traversons', 'traçabilité', 'tremplin', 'trente', 'triage', 'tribunal', 'tribunaux', 'trichent', 'triennal', 'triennales', 'trimestre', 'trimestres', 'trimestrielles', 'tripe', 'triple', 'triplé', 'triste', 'tristesse', 'trithérapies', 'trois', 'troisième', 'tromper', 'trop', 'trouble', 'trouve', 'trouvent', 'trouver', 'trouverait', 'trouvons', 'trouvé', 'truchement', 'trump', 'très', 'trésorerie', 'tsh', 'tutelle', 'tva', 'type', 'typologie', 'typology', 'tâches', 'téléconsultation', 'téléconsultations', 'télécopie', 'télémédecine', 'téléphoniques', 'téléservices', 'télésuivi', 'télétransmission', 'télétravail', 'télévision', 'télévisions', 'témoignages', 'témoignant', 'témoigne', 'témoignent', 'tétrahydrocannabinol', 'tête', 'tôt', 'uaem', 'uc', 'udi', 'udm', 'ue', 'ufc', 'ultramarin', 'ultramarine', 'ultramarins', 'ultérieure', 'ultérieurement', 'un', 'una', 'unaf', 'unanimement', 'unanimité', 'unapl', 'uncam', 'unicité', 'unification', 'uniforme', 'uniformément', 'unilatéral', 'unilatérale', 'union', 'uniopss', 'unique', 'uniquement', 'uniques', 'unis', 'unitaire', 'unitaires', 'unité', 'unités', 'universalité', 'universel', 'universelle', 'universelles', 'university', 'université', 'universités', 'unps', 'urbain', 'urbaines', 'urbains', 'urgence', 'urgences', 'urgent', 'urgente', 'urgentes', 'urgentistes', 'urgents', 'urinaire', 'urps', 'ursaff', 'urssaf', 'usa', 'usage', 'usagers', 'usagés', 'use', 'usent', 'usine', 'usines', 'usld', 'usurpation', 'utile', 'utilement', 'utiles', 'utilisables', 'utilisant', 'utilisateurs', 'utilisation', 'utilisent', 'utiliser', 'utilisé', 'utilisée', 'utilisées', 'utilisés', 'utilité', 'utérus', 'va', 'vacances', 'vacants', 'vacataires', 'vaccin', 'vaccinal', 'vaccinale', 'vaccinales', 'vaccination', 'vacciner', 'vaccins', 'vachey', 'vague', 'vainqueurs', 'val', 'valable', 'valeur', 'valeurs', 'validant', 'validation', 'valider', 'validité', 'validé', 'vallaud', 'valls', 'vallée', 'vallées', 'valoir', 'valorisation', 'valoriser', 'valu', 'variabilité', 'variable', 'variant', 'variation', 'varie', 'varient', 'varier', 'variées', 'variés', 'variétés', 'vaucluse', 'vaut', 'vecteur', 'veil', 'veillant', 'veille', 'veiller', 'veillera', 'veillé', 'venait', 'venant', 'vendanges', 'vendent', 'vendre', 'vendu', 'vendue', 'vendus', 'venir', 'venons', 'vent', 'vente', 'ventes', 'ventilation', 'ventilé', 'venu', 'venue', 'verbal', 'verbalisation', 'verbatims', 'vercamer', 'verra', 'verraient', 'verrait', 'verre', 'verres', 'verront', 'vers', 'versailles', 'verse', 'versement', 'versements', 'verser', 'version', 'verso', 'versé', 'versée', 'versées', 'versés', 'verticale', 'vertu', 'vertueuses', 'vertueusesaussi', 'vertueux', 'veuille', 'veulent', 'veut', 'veuvage', 'vi', 'via', 'viable', 'viande', 'vicieux', 'victime', 'victimes', 'vidal', 'vide', 'vie', 'vieillesse', 'vieillissante', 'vieillissement', 'viendra', 'viendrait', 'vienne', 'viennent', 'vient', 'vieux', 'vigilance', 'vigilants', 'vigne', 'vignes', 'vigueur', 'vii', 'viii', 'ville', 'villes', 'vin', 'vingt', 'vingtième', 'vinipops', 'vinpops', 'vins', 'viol', 'violant', 'violence', 'violent', 'violente', 'virage', 'virgule', 'virologique', 'virologiques', 'virus', 'visa', 'visait', 'visant', 'vise', 'visent', 'viser', 'visera', 'viserait', 'visibilité', 'visibles', 'vision', 'visionnaire', 'visite', 'visites', 'visiteurs', 'visuelle', 'visuels', 'visé', 'visée', 'visées', 'visés', 'vit', 'vital', 'vitale', 'vitales', 'vitalité', 'vite', 'vitesses', 'viticole', 'viticoles', 'viticulteurs', 'viticulture', 'vitivinicole', 'vitivinicoles', 'vitro', 'vivant', 'vive', 'vivent', 'vivier', 'vivre', 'vocation', 'voici', 'voie', 'voient', 'voies', 'voilà', 'voir', 'voire', 'voisin', 'voisins', 'voit', 'voitures', 'voix', 'vol', 'volant', 'volet', 'volets', 'volontaire', 'volontairement', 'volontaires', 'volontariat', 'volonté', 'volume', 'volumique', 'volées', 'von', 'vont', 'vote', 'votent', 'voté', 'votée', 'votés', 'voudrait', 'voulait', 'voulant', 'voulez', 'vouloir', 'voulons', 'voute', 'voyage', 'voyageur', 'voyageurs', 'voyaient', 'vrai', 'vraie', 'vraiment', 'vraisemblablement', 'vu', 'vue', 'vues', 'vulnérabilité', 'vulnérables', 'vus', 'vécu', 'vécue', 'végétale', 'végétales', 'véhicule', 'véhicules', 'véran', 'vérifiait', 'vérification', 'vérifications', 'vérifier', 'vérifiera', 'vérifié', 'véritable', 'véritablement', 'véritables', 'vérité', 'vétustes', 'vétérinaire', 'vétérinaires', 'wage', 'watrin', 'wonner', 'xi', 'xii', 'xx', 'xxie', 'xxième', 'yeux', 'young', 'yves', 'zac', 'zd', 'zda', 'zdp', 'zip', 'zonage', 'zonages', 'zone', 'zrr', 'zéro', 'âge', 'âges', 'âgé', 'âgée', 'âgées', 'âgés', 'ça', 'éboueurs', 'écart', 'écartent', 'écarts', 'échange', 'échanger', 'échanges', 'échangées', 'échangés', 'échantillon', 'échappent', 'échapper', 'échec', 'échecs', 'échelle', 'échelon', 'échelonner', 'échos', 'échoué', 'échéance', 'échéances', 'échéancier', 'échéant', 'éclairer', 'éclairée', 'école', 'écoles', 'écologie', 'écologique', 'économie', 'économies', 'économique', 'économiques', 'économiser', 'économistes', 'économisés', 'écopant', 'écoulé', 'écoulés', 'écoute', 'écrasante', 'écrit', 'écrite', 'écrites', 'écrits', 'écriture', 'écrêtement', 'écueil', 'édictée', 'édifice', 'éditeur', 'éditeurs', 'éducatif', 'éducation', 'éducative', 'éducatives', 'édulcoration', 'égal', 'égale', 'égales', 'égalitaire', 'égalitairela', 'égalité', 'égard', 'égaux', 'élaboration', 'élabore', 'élaborent', 'élaborer', 'élaboré', 'élaborés', 'élargi', 'élargie', 'élargir', 'élargissant', 'élargissement', 'élections', 'électricité', 'électriques', 'électronique', 'élevage', 'élevages', 'élevait', 'élever', 'éleveurs', 'élevé', 'élevée', 'élevées', 'élevés', 'éligibilité', 'éligible', 'éligibles', 'élimination', 'éliminer', 'éloigne', 'éloignement', 'éloigné', 'éloignées', 'élus', 'élysées', 'élève', 'élèvent', 'élèvera', 'élèverait', 'élèves', 'élément', 'élémentaires', 'éléments', 'élévation', 'émergence', 'émergents', 'émerger', 'émet', 'émetteur', 'émis', 'émise', 'émises', 'émission', 'émissions', 'émotionnel', 'émulation', 'énergie', 'énergies', 'énergétique', 'énoncé', 'énoncées', 'énormes', 'énormément', 'énumérées', 'épandage', 'épandages', 'épargnant', 'épargne', 'épargnées', 'épidémie', 'épidémies', 'épidémiologique', 'épidémiologiques', 'épidémique', 'épidémiques', 'épilepsie', 'épilepsies', 'épinière', 'épisode', 'épisodes', 'époque', 'épouvantables', 'époux', 'épreuve', 'éprouve', 'éprouvé', 'éprouvés', 'épuisant', 'épuisement', 'épuration', 'équilibre', 'équilibrer', 'équilibres', 'équilibrée', 'équipage', 'équipages', 'équipe', 'équipement', 'équipements', 'équiper', 'équipes', 'équipée', 'équipés', 'équitable', 'équitablement', 'équité', 'équivalait', 'équivalence', 'équivalent', 'équivalente', 'équivalentes', 'équivalents', 'éreintante', 'érosion', 'établi', 'établie', 'établies', 'établir', 'établira', 'établis', 'établissant', 'établissement', 'établissements', 'établissent', 'établit', 'étalant', 'étalement', 'étalé', 'étape', 'étapes', 'état', 'états', 'étayer', 'éteignant', 'étend', 'étendant', 'étende', 'étendre', 'étendu', 'étendue', 'étendues', 'éternelle', 'éthique', 'étoffer', 'étonnamment', 'étouffe', 'étranger', 'étrangers', 'étrangeté', 'étrangère', 'étrangères', 'étreint', 'étroit', 'étroitement', 'étroitesse', 'étroits', 'étude', 'études', 'étudiant', 'étudiants', 'étudie', 'étudier', 'étudiera', 'étudié', 'étudiée', 'étudiées', 'étudiés', 'évacuations', 'évaluait', 'évaluant', 'évaluation', 'évaluations', 'évalue', 'évaluer', 'évaluera', 'évalué', 'évaluée', 'évaluées', 'évalués', 'éventail', 'éventuel', 'éventuelle', 'éventuellement', 'éventuelles', 'éventuels', 'éviction', 'évidemment', 'évidence', 'évident', 'évidente', 'évitable', 'évitables', 'évitant', 'évite', 'éviter', 'évitera', 'éviterait', 'évité', 'évitée', 'évitées', 'évoluant', 'évolue', 'évoluer', 'évolutif', 'évolutifs', 'évolution', 'évolutions', 'évolué', 'évoquer', 'évoqué', 'évoquée', 'évènementiel', 'événementiel', 'événements', 'être', 'île', 'œuvrant', 'œuvre', 'œuvrent', 'œuvres']\n"
     ]
    }
   ],
   "source": [
    "#Features\n",
    "feature_names = vectorizer.get_feature_names()\n",
    "print(feature_names)"
   ]
  },
  {
   "cell_type": "code",
   "execution_count": 22,
   "metadata": {},
   "outputs": [
    {
     "name": "stdout",
     "output_type": "stream",
     "text": [
      "['AMANR5L15PO420120B2296P0D1N000002', 'AMANR5L15PO420120B2296P0D1N000010', 'AMANR5L15PO420120B2296P0D1N000011', 'AMANR5L15PO420120B2296P0D1N000012', 'AMANR5L15PO420120B2296P0D1N000015']\n"
     ]
    }
   ],
   "source": [
    "#Génération du corpus index\n",
    "import re\n",
    "corpus_index = amdt['uid'].tolist()\n",
    "print(corpus_index[:5])\n",
    "#amdt['uid'].nunique() "
   ]
  },
  {
   "cell_type": "code",
   "execution_count": 56,
   "metadata": {},
   "outputs": [
    {
     "name": "stdout",
     "output_type": "stream",
     "text": [
      "      0     1     2     3     4     5     6     7     8     9     ...  9772  \\\n",
      "0      0.0   0.0   0.0   0.0   0.0   0.0   0.0   0.0   0.0   0.0  ...   0.0   \n",
      "1      0.0   0.0   0.0   0.0   0.0   0.0   0.0   0.0   0.0   0.0  ...   0.0   \n",
      "2      0.0   0.0   0.0   0.0   0.0   0.0   0.0   0.0   0.0   0.0  ...   0.0   \n",
      "3      0.0   0.0   0.0   0.0   0.0   0.0   0.0   0.0   0.0   0.0  ...   0.0   \n",
      "4      0.0   0.0   0.0   0.0   0.0   0.0   0.0   0.0   0.0   0.0  ...   0.0   \n",
      "...    ...   ...   ...   ...   ...   ...   ...   ...   ...   ...  ...   ...   \n",
      "1603   0.0   0.0   0.0   0.0   0.0   0.0   0.0   0.0   0.0   0.0  ...   0.0   \n",
      "1604   0.0   0.0   0.0   0.0   0.0   0.0   0.0   0.0   0.0   0.0  ...   0.0   \n",
      "1605   0.0   0.0   0.0   0.0   0.0   0.0   0.0   0.0   0.0   0.0  ...   0.0   \n",
      "1606   0.0   0.0   0.0   0.0   0.0   0.0   0.0   0.0   0.0   0.0  ...   0.0   \n",
      "1607   0.0   0.0   0.0   0.0   0.0   0.0   0.0   0.0   0.0   0.0  ...   0.0   \n",
      "\n",
      "      9773  9774  9775      9776  9777  9778  9779  9780  9781  \n",
      "0      0.0   0.0   0.0  1.894163   0.0   0.0   0.0   0.0   0.0  \n",
      "1      0.0   0.0   0.0  0.000000   0.0   0.0   0.0   0.0   0.0  \n",
      "2      0.0   0.0   0.0  0.000000   0.0   0.0   0.0   0.0   0.0  \n",
      "3      0.0   0.0   0.0  1.894163   0.0   0.0   0.0   0.0   0.0  \n",
      "4      0.0   0.0   0.0  1.894163   0.0   0.0   0.0   0.0   0.0  \n",
      "...    ...   ...   ...       ...   ...   ...   ...   ...   ...  \n",
      "1603   0.0   0.0   0.0  0.000000   0.0   0.0   0.0   0.0   0.0  \n",
      "1604   0.0   0.0   0.0  0.000000   0.0   0.0   0.0   0.0   0.0  \n",
      "1605   0.0   0.0   0.0  0.000000   0.0   0.0   0.0   0.0   0.0  \n",
      "1606   0.0   0.0   0.0  3.788326   0.0   0.0   0.0   0.0   0.0  \n",
      "1607   0.0   0.0   0.0  1.894163   0.0   0.0   0.0   0.0   0.0  \n",
      "\n",
      "[1608 rows x 9782 columns]\n",
      "   0     1     2     3     4     5     6     7     8     9     ...  9772  \\\n",
      "0   0.0   0.0   0.0   0.0   0.0   0.0   0.0   0.0   0.0   0.0  ...   0.0   \n",
      "\n",
      "   9773  9774  9775      9776  9777  9778  9779  9780  9781  \n",
      "0   0.0   0.0   0.0  1.894163   0.0   0.0   0.0   0.0   0.0  \n",
      "\n",
      "[1 rows x 9782 columns]\n"
     ]
    },
    {
     "ename": "TypeError",
     "evalue": "todense() got an unexpected keyword argument 'default_fill_value'",
     "output_type": "error",
     "traceback": [
      "\u001b[0;31m---------------------------------------------------------------------------\u001b[0m",
      "\u001b[0;31mTypeError\u001b[0m                                 Traceback (most recent call last)",
      "\u001b[0;32m<ipython-input-56-aedf402e4faa>\u001b[0m in \u001b[0;36m<module>\u001b[0;34m\u001b[0m\n\u001b[1;32m     14\u001b[0m \u001b[0mprint\u001b[0m \u001b[0;34m(\u001b[0m\u001b[0mpd\u001b[0m\u001b[0;34m.\u001b[0m\u001b[0mDataFrame\u001b[0m\u001b[0;34m(\u001b[0m\u001b[0mtf_idf_scores\u001b[0m\u001b[0;34m.\u001b[0m\u001b[0mtodense\u001b[0m\u001b[0;34m(\u001b[0m\u001b[0;34m)\u001b[0m\u001b[0;34m)\u001b[0m \u001b[0;34m)\u001b[0m  \u001b[0;31m#ICI on a bien les bonnes valeurs\u001b[0m\u001b[0;34m\u001b[0m\u001b[0;34m\u001b[0m\u001b[0m\n\u001b[1;32m     15\u001b[0m \u001b[0mprint\u001b[0m\u001b[0;34m(\u001b[0m\u001b[0mpd\u001b[0m\u001b[0;34m.\u001b[0m\u001b[0mDataFrame\u001b[0m\u001b[0;34m(\u001b[0m\u001b[0mtf_idf_scores\u001b[0m\u001b[0;34m.\u001b[0m\u001b[0mtodense\u001b[0m\u001b[0;34m(\u001b[0m\u001b[0;34m)\u001b[0m\u001b[0;34m[\u001b[0m\u001b[0;36m0\u001b[0m\u001b[0;34m]\u001b[0m\u001b[0;34m[\u001b[0m\u001b[0;36m0\u001b[0m\u001b[0;34m]\u001b[0m\u001b[0;34m)\u001b[0m\u001b[0;34m)\u001b[0m\u001b[0;34m\u001b[0m\u001b[0;34m\u001b[0m\u001b[0m\n\u001b[0;32m---> 16\u001b[0;31m \u001b[0mprint\u001b[0m \u001b[0;34m(\u001b[0m\u001b[0mtf_idf_scores\u001b[0m\u001b[0;34m.\u001b[0m\u001b[0mtodense\u001b[0m\u001b[0;34m(\u001b[0m\u001b[0mdefault_fill_value\u001b[0m\u001b[0;34m=\u001b[0m\u001b[0;36m0\u001b[0m\u001b[0;34m)\u001b[0m\u001b[0;34m)\u001b[0m\u001b[0;34m\u001b[0m\u001b[0;34m\u001b[0m\u001b[0m\n\u001b[0m\u001b[1;32m     17\u001b[0m \u001b[0;31m#print(feature_names)\u001b[0m\u001b[0;34m\u001b[0m\u001b[0;34m\u001b[0m\u001b[0;34m\u001b[0m\u001b[0m\n\u001b[1;32m     18\u001b[0m \u001b[0;31m# create pandas DataFrame with tf-idf scores\u001b[0m\u001b[0;34m\u001b[0m\u001b[0;34m\u001b[0m\u001b[0;34m\u001b[0m\u001b[0m\n",
      "\u001b[0;31mTypeError\u001b[0m: todense() got an unexpected keyword argument 'default_fill_value'"
     ]
    }
   ],
   "source": [
    "## LAST STOP HERE: POURQUOI A-T-ON UNIQUEMENT DES NAN ?\n",
    "\n",
    "#IDF - Inverse Document Frequencies\n",
    "import numpy as np\n",
    "from sklearn.feature_extraction.text import TfidfVectorizer\n",
    "\n",
    "# initialize and fit TfidfVectorizer\n",
    "vectorizer = TfidfVectorizer(norm=None)\n",
    "tf_idf_scores = vectorizer.fit_transform(corpus)\n",
    "#print(tf_idf_scores)\n",
    "# get vocabulary of terms\n",
    "feature_names = vectorizer.get_feature_names()\n",
    "#print(type(tf_idf_scores.todense()))\n",
    "print (pd.DataFrame(tf_idf_scores.todense()) )  #ICI on a bien les bonnes valeurs\n",
    "print(pd.DataFrame(tf_idf_scores.todense()[0][0]))\n",
    "#print(feature_names)\n",
    "# create pandas DataFrame with tf-idf scores\n",
    "df_tf_idf = pd.DataFrame(data = pd.DataFrame(tf_idf_scores.todense()), index=corpus_index, columns=feature_names)\n",
    "print(df_tf_idf)\n",
    "#df_tf_idf.fillna(0)\n",
    "df_tf_idf.replace(np.nan, 0)\n",
    "#df_tf_idf.reset_index() \n",
    "#df_tf_idf.rename_axis('ID') \n"
   ]
  },
  {
   "cell_type": "code",
   "execution_count": 44,
   "metadata": {},
   "outputs": [
    {
     "name": "stdout",
     "output_type": "stream",
     "text": [
      "nan\n",
      "9782\n",
      "<class 'pandas.core.series.Series'>\n",
      "nan\n",
      "<class 'pandas.core.series.Series'>\n",
      "<class 'pandas.core.frame.DataFrame'>\n",
      "  Most_frequent_words  Word_occurrence\n",
      "0                 aah              NaN\n",
      "1             aasctel              NaN\n",
      "2           abaissant              NaN\n",
      "3         abaissement              NaN\n",
      "4            abaisser              NaN\n",
      "  Most_frequent_words  Word_occurrence\n",
      "0                 aah              NaN\n",
      "1             aasctel              NaN\n",
      "2           abaissant              NaN\n",
      "3         abaissement              NaN\n",
      "4            abaisser              NaN\n",
      "nan\n",
      "9782\n",
      "<class 'pandas.core.series.Series'>\n",
      "nan\n",
      "<class 'pandas.core.series.Series'>\n",
      "<class 'pandas.core.frame.DataFrame'>\n",
      "  Most_frequent_words  Word_occurrence\n",
      "0                 aah              NaN\n",
      "1             aasctel              NaN\n",
      "2           abaissant              NaN\n",
      "3         abaissement              NaN\n",
      "4            abaisser              NaN\n",
      "  Most_frequent_words  Word_occurrence\n",
      "0                 aah              NaN\n",
      "1             aasctel              NaN\n",
      "2           abaissant              NaN\n",
      "3         abaissement              NaN\n",
      "4            abaisser              NaN\n",
      "nan\n",
      "9782\n",
      "<class 'pandas.core.series.Series'>\n",
      "nan\n",
      "<class 'pandas.core.series.Series'>\n",
      "<class 'pandas.core.frame.DataFrame'>\n",
      "  Most_frequent_words  Word_occurrence\n",
      "0                 aah              NaN\n",
      "1             aasctel              NaN\n",
      "2           abaissant              NaN\n",
      "3         abaissement              NaN\n",
      "4            abaisser              NaN\n",
      "  Most_frequent_words  Word_occurrence\n",
      "0                 aah              NaN\n",
      "1             aasctel              NaN\n",
      "2           abaissant              NaN\n",
      "3         abaissement              NaN\n",
      "4            abaisser              NaN\n",
      "nan\n",
      "9782\n",
      "<class 'pandas.core.series.Series'>\n",
      "nan\n",
      "<class 'pandas.core.series.Series'>\n",
      "<class 'pandas.core.frame.DataFrame'>\n",
      "  Most_frequent_words  Word_occurrence\n",
      "0                 aah              NaN\n",
      "1             aasctel              NaN\n",
      "2           abaissant              NaN\n",
      "3         abaissement              NaN\n",
      "4            abaisser              NaN\n",
      "  Most_frequent_words  Word_occurrence\n",
      "0                 aah              NaN\n",
      "1             aasctel              NaN\n",
      "2           abaissant              NaN\n",
      "3         abaissement              NaN\n",
      "4            abaisser              NaN\n",
      "nan\n",
      "9782\n",
      "<class 'pandas.core.series.Series'>\n",
      "nan\n",
      "<class 'pandas.core.series.Series'>\n",
      "<class 'pandas.core.frame.DataFrame'>\n",
      "  Most_frequent_words  Word_occurrence\n",
      "0                 aah              NaN\n",
      "1             aasctel              NaN\n",
      "2           abaissant              NaN\n",
      "3         abaissement              NaN\n",
      "4            abaisser              NaN\n",
      "  Most_frequent_words  Word_occurrence\n",
      "0                 aah              NaN\n",
      "1             aasctel              NaN\n",
      "2           abaissant              NaN\n",
      "3         abaissement              NaN\n",
      "4            abaisser              NaN\n"
     ]
    }
   ],
   "source": [
    "for n in range(5):#range(len(df_tf_idf)):\n",
    "    #print(n)\n",
    "    #print(id)\n",
    "    main = pd.DataFrame()\n",
    "    main['Most_frequent_words'] = feature_names\n",
    "    main['Word_occurrence'] = df_tf_idf.iloc[n]  # MAIN ISSUE HERE: Series definition not taking float but convert2 nan\n",
    "    print(max(df_tf_idf.iloc[n]))\n",
    "    print(len(df_tf_idf.iloc[n]))\n",
    "    print(type(df_tf_idf.iloc[n]))\n",
    "    print(max(main['Word_occurrence']))\n",
    "    print(type(main['Word_occurrence']))\n",
    "    print(type(main))\n",
    "    print(main.head(5))\n",
    "    main.sort_values(by =['Word_occurrence'], inplace = True, ascending = False, na_position='last')\n",
    "    print(main.head(5))"
   ]
  },
  {
   "cell_type": "code",
   "execution_count": 41,
   "metadata": {},
   "outputs": [
    {
     "name": "stdout",
     "output_type": "stream",
     "text": [
      "0\n"
     ]
    },
    {
     "ename": "IndexError",
     "evalue": "only integers, slices (`:`), ellipsis (`...`), numpy.newaxis (`None`) and integer or boolean arrays are valid indices",
     "output_type": "error",
     "traceback": [
      "\u001b[0;31m---------------------------------------------------------------------------\u001b[0m",
      "\u001b[0;31mIndexError\u001b[0m                                Traceback (most recent call last)",
      "\u001b[0;32m<ipython-input-41-1e2e951822ce>\u001b[0m in \u001b[0;36m<module>\u001b[0;34m\u001b[0m\n\u001b[1;32m      3\u001b[0m \u001b[0;32mfor\u001b[0m \u001b[0mn\u001b[0m \u001b[0;32min\u001b[0m \u001b[0mrange\u001b[0m\u001b[0;34m(\u001b[0m\u001b[0mlen\u001b[0m\u001b[0;34m(\u001b[0m\u001b[0mdf_tf_idf\u001b[0m\u001b[0;34m)\u001b[0m\u001b[0;34m)\u001b[0m\u001b[0;34m:\u001b[0m\u001b[0;34m\u001b[0m\u001b[0;34m\u001b[0m\u001b[0m\n\u001b[1;32m      4\u001b[0m     \u001b[0mprint\u001b[0m\u001b[0;34m(\u001b[0m\u001b[0mn\u001b[0m\u001b[0;34m)\u001b[0m\u001b[0;34m\u001b[0m\u001b[0;34m\u001b[0m\u001b[0m\n\u001b[0;32m----> 5\u001b[0;31m     \u001b[0mid\u001b[0m \u001b[0;34m=\u001b[0m \u001b[0mdf_tf_idf\u001b[0m\u001b[0;34m.\u001b[0m\u001b[0mindex\u001b[0m\u001b[0;34m[\u001b[0m\u001b[0mid\u001b[0m\u001b[0;34m]\u001b[0m\u001b[0;34m\u001b[0m\u001b[0;34m\u001b[0m\u001b[0m\n\u001b[0m\u001b[1;32m      6\u001b[0m     \u001b[0mprint\u001b[0m\u001b[0;34m(\u001b[0m\u001b[0mid\u001b[0m\u001b[0;34m)\u001b[0m\u001b[0;34m\u001b[0m\u001b[0;34m\u001b[0m\u001b[0m\n\u001b[1;32m      7\u001b[0m     \u001b[0;31m#Creating a DF per amendment\u001b[0m\u001b[0;34m\u001b[0m\u001b[0;34m\u001b[0m\u001b[0;34m\u001b[0m\u001b[0m\n",
      "\u001b[0;32m/usr/local/lib/python3.9/site-packages/pandas/core/indexes/base.py\u001b[0m in \u001b[0;36m__getitem__\u001b[0;34m(self, key)\u001b[0m\n\u001b[1;32m   4099\u001b[0m         \u001b[0;32mif\u001b[0m \u001b[0mis_scalar\u001b[0m\u001b[0;34m(\u001b[0m\u001b[0mkey\u001b[0m\u001b[0;34m)\u001b[0m\u001b[0;34m:\u001b[0m\u001b[0;34m\u001b[0m\u001b[0;34m\u001b[0m\u001b[0m\n\u001b[1;32m   4100\u001b[0m             \u001b[0mkey\u001b[0m \u001b[0;34m=\u001b[0m \u001b[0mcom\u001b[0m\u001b[0;34m.\u001b[0m\u001b[0mcast_scalar_indexer\u001b[0m\u001b[0;34m(\u001b[0m\u001b[0mkey\u001b[0m\u001b[0;34m,\u001b[0m \u001b[0mwarn_float\u001b[0m\u001b[0;34m=\u001b[0m\u001b[0;32mTrue\u001b[0m\u001b[0;34m)\u001b[0m\u001b[0;34m\u001b[0m\u001b[0;34m\u001b[0m\u001b[0m\n\u001b[0;32m-> 4101\u001b[0;31m             \u001b[0;32mreturn\u001b[0m \u001b[0mgetitem\u001b[0m\u001b[0;34m(\u001b[0m\u001b[0mkey\u001b[0m\u001b[0;34m)\u001b[0m\u001b[0;34m\u001b[0m\u001b[0;34m\u001b[0m\u001b[0m\n\u001b[0m\u001b[1;32m   4102\u001b[0m \u001b[0;34m\u001b[0m\u001b[0m\n\u001b[1;32m   4103\u001b[0m         \u001b[0;32mif\u001b[0m \u001b[0misinstance\u001b[0m\u001b[0;34m(\u001b[0m\u001b[0mkey\u001b[0m\u001b[0;34m,\u001b[0m \u001b[0mslice\u001b[0m\u001b[0;34m)\u001b[0m\u001b[0;34m:\u001b[0m\u001b[0;34m\u001b[0m\u001b[0;34m\u001b[0m\u001b[0m\n",
      "\u001b[0;31mIndexError\u001b[0m: only integers, slices (`:`), ellipsis (`...`), numpy.newaxis (`None`) and integer or boolean arrays are valid indices"
     ]
    }
   ],
   "source": [
    "#Organizing most common words !Il faut transposer\n",
    "tuple_mots = ()\n",
    "for n in range(len(df_tf_idf)):\n",
    "    print(n)\n",
    "    id = df_tf_idf.index[id]\n",
    "    print(id)\n",
    "    #Creating a DF per amendment\n",
    "    main = pd.DataFrame()\n",
    "    main['Mots principaux'] = df_tf_idf.columns.T\n",
    "    main['Occurence'] = df_tf_idf.iloc[n]\n",
    "    \n",
    "    \n",
    "    #main['mots'] = df_tf_idf['ID']\n",
    "    \n",
    "    print(max(main[id]))\n",
    "    #print(main.head(5))\n",
    "    #main.sort_values(main[id])\n",
    "\n",
    "    #main = main.iloc[:25] #On ne garde que les 25 mots les plus utilisés par amendement\n",
    "    #tuple_mots.append(main)"
   ]
  },
  {
   "cell_type": "code",
   "execution_count": null,
   "metadata": {},
   "outputs": [],
   "source": []
  },
  {
   "cell_type": "code",
   "execution_count": null,
   "metadata": {},
   "outputs": [],
   "source": []
  },
  {
   "cell_type": "code",
   "execution_count": null,
   "metadata": {},
   "outputs": [],
   "source": []
  }
 ],
 "metadata": {
  "kernelspec": {
   "display_name": "openfisca",
   "language": "python",
   "name": "openfisca"
  },
  "language_info": {
   "codemirror_mode": {
    "name": "ipython",
    "version": 3
   },
   "file_extension": ".py",
   "mimetype": "text/x-python",
   "name": "python",
   "nbconvert_exporter": "python",
   "pygments_lexer": "ipython3",
   "version": "3.9.1"
  }
 },
 "nbformat": 4,
 "nbformat_minor": 5
}
