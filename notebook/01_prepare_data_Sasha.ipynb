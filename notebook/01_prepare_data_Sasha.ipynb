{
 "cells": [
  {
   "cell_type": "markdown",
   "id": "medieval-danger",
   "metadata": {},
   "source": [
    "## Etude des sujets des amendements PLFSS\n",
    "\n",
    "## Préparation des données"
   ]
  },
  {
   "cell_type": "code",
   "execution_count": 4,
   "id": "occasional-logan",
   "metadata": {},
   "outputs": [],
   "source": []
  },
  {
   "cell_type": "code",
   "execution_count": 4,
   "id": "structural-windsor",
   "metadata": {},
   "outputs": [
    {
     "data": {
      "text/html": [
       "<div>\n",
       "<style scoped>\n",
       "    .dataframe tbody tr th:only-of-type {\n",
       "        vertical-align: middle;\n",
       "    }\n",
       "\n",
       "    .dataframe tbody tr th {\n",
       "        vertical-align: top;\n",
       "    }\n",
       "\n",
       "    .dataframe thead th {\n",
       "        text-align: right;\n",
       "    }\n",
       "</style>\n",
       "<table border=\"1\" class=\"dataframe\">\n",
       "  <thead>\n",
       "    <tr style=\"text-align: right;\">\n",
       "      <th></th>\n",
       "      <th>texteLegislatifUid</th>\n",
       "      <th>uid</th>\n",
       "      <th>avantAApres</th>\n",
       "      <th>dispositif</th>\n",
       "      <th>exposeSommaire</th>\n",
       "    </tr>\n",
       "  </thead>\n",
       "  <tbody>\n",
       "    <tr>\n",
       "      <th>0</th>\n",
       "      <td>PRJLANR5L15B2296</td>\n",
       "      <td>AMANR5L15PO420120B2296P0D1N000001</td>\n",
       "      <td>A</td>\n",
       "      <td>I. – Après l’alinéa 13, insérer l’alinéa suiv...</td>\n",
       "      <td>La mise en place d’un accord d’intéressement d...</td>\n",
       "    </tr>\n",
       "    <tr>\n",
       "      <th>1</th>\n",
       "      <td>PRJLANR5L15B2296</td>\n",
       "      <td>AMANR5L15PO420120B2296P0D1N000002</td>\n",
       "      <td>Apres</td>\n",
       "      <td>À la première phrase du premier alinéa de l’ar...</td>\n",
       "      <td>L’article L 531‑2 du Code de la Sécurité Socia...</td>\n",
       "    </tr>\n",
       "    <tr>\n",
       "      <th>2</th>\n",
       "      <td>PRJLANR5L15B2296</td>\n",
       "      <td>AMANR5L15PO420120B2296P0D1N000005</td>\n",
       "      <td>A</td>\n",
       "      <td>Compléter l’alinéa 17 par la phrase suivante :...</td>\n",
       "      <td>S’il est louable d’expérimenter des dispositif...</td>\n",
       "    </tr>\n",
       "    <tr>\n",
       "      <th>3</th>\n",
       "      <td>PRJLANR5L15B2296</td>\n",
       "      <td>AMANR5L15PO420120B2296P0D1N000008</td>\n",
       "      <td>A</td>\n",
       "      <td>Après l’alinéa 8, insérer les cinq alinéas sui...</td>\n",
       "      <td>Cet amendement permet d’amplifier la portée de...</td>\n",
       "    </tr>\n",
       "    <tr>\n",
       "      <th>4</th>\n",
       "      <td>PRJLANR5L15B2296</td>\n",
       "      <td>AMANR5L15PO420120B2296P0D1N000010</td>\n",
       "      <td>Apres</td>\n",
       "      <td>Le premier alinéa de l’article L. 521‑1 du cod...</td>\n",
       "      <td>Pendant plus de cinquante ans, notre politique...</td>\n",
       "    </tr>\n",
       "  </tbody>\n",
       "</table>\n",
       "</div>"
      ],
      "text/plain": [
       "  texteLegislatifUid                                uid avantAApres  \\\n",
       "0   PRJLANR5L15B2296  AMANR5L15PO420120B2296P0D1N000001           A   \n",
       "1   PRJLANR5L15B2296  AMANR5L15PO420120B2296P0D1N000002       Apres   \n",
       "2   PRJLANR5L15B2296  AMANR5L15PO420120B2296P0D1N000005           A   \n",
       "3   PRJLANR5L15B2296  AMANR5L15PO420120B2296P0D1N000008           A   \n",
       "4   PRJLANR5L15B2296  AMANR5L15PO420120B2296P0D1N000010       Apres   \n",
       "\n",
       "                                          dispositif  \\\n",
       "0   I. – Après l’alinéa 13, insérer l’alinéa suiv...   \n",
       "1  À la première phrase du premier alinéa de l’ar...   \n",
       "2  Compléter l’alinéa 17 par la phrase suivante :...   \n",
       "3  Après l’alinéa 8, insérer les cinq alinéas sui...   \n",
       "4  Le premier alinéa de l’article L. 521‑1 du cod...   \n",
       "\n",
       "                                      exposeSommaire  \n",
       "0  La mise en place d’un accord d’intéressement d...  \n",
       "1  L’article L 531‑2 du Code de la Sécurité Socia...  \n",
       "2  S’il est louable d’expérimenter des dispositif...  \n",
       "3  Cet amendement permet d’amplifier la portée de...  \n",
       "4  Pendant plus de cinquante ans, notre politique...  "
      ]
     },
     "execution_count": 4,
     "metadata": {},
     "output_type": "execute_result"
    }
   ],
   "source": [
    "# Importing modules\n",
    "import pandas as pd\n",
    "#amdt = pd.read_csv('https://github.com/leximpact/donnees-extraites-assemblee/blob/main/textes_amendements_nouveaux_articles_plfss_2020-2021.csv')\n",
    "amdts = pd.read_csv('https://raw.githubusercontent.com/leximpact/donnees-extraites-assemblee/main/textes_amendements_nouveaux_articles_plfss_2020-2021.csv')\n",
    "amdts.head(5)"
   ]
  },
  {
   "cell_type": "code",
   "execution_count": 5,
   "id": "continued-doctrine",
   "metadata": {},
   "outputs": [
    {
     "name": "stdout",
     "output_type": "stream",
     "text": [
      "4797\n"
     ]
    }
   ],
   "source": [
    "print(len(amdts)) #Nombre total d'amendements"
   ]
  },
  {
   "cell_type": "code",
   "execution_count": 6,
   "id": "incredible-search",
   "metadata": {},
   "outputs": [],
   "source": [
    "#On regroupe dans un même texte chaque dispositif et son exposé sommaire\n",
    "amdts['texte'] = amdts['dispositif'] + amdts['exposeSommaire'] "
   ]
  },
  {
   "cell_type": "markdown",
   "id": "improving-boutique",
   "metadata": {},
   "source": [
    "# Nettoyage via le pipeline spacy : \n",
    "##  Step 1 : transformer, morphologizer, parser, attribute_ruler, lemmatizer"
   ]
  },
  {
   "cell_type": "code",
   "execution_count": 7,
   "id": "oriented-bullet",
   "metadata": {},
   "outputs": [
    {
     "name": "stdout",
     "output_type": "stream",
     "text": [
      "AVANT: Le premier alinéa de l’article L. 521‑1 du code de la sécurité sociale est complété par une phrase ainsi rédigée :« Elles sont universelles. »Pendant plus de cinquante ans, notre politique familiale a reposé sur le principe de l’universalité. Cela signifie qu’elle s’adressait à tous les Français, sans distinction sociale. Elle reposait sur l’idée que chaque enfant à naître est une chance et une richesse pour la France, pour son avenir, quel que soient les ressources dont disposent les parents.Pour mettre en place ce principe d’universalité, la politique familiale appelle des outils dits de redistribution horizontale, c’est-à-dire des mécanismes de solidarité des familles sans enfant envers les familles avec enfants, pour que, quel que soit les revenus des parents, la naissance d’un enfant n’ait pas pour effet de porter atteinte à leur niveau de vie.Or, ce principe d’universalité a été mis à mal sous le précédent quinquennat, notamment à travers la modulation des allocations familiales et les baisses successives du quotient familial, faisant ainsi de la politique familiale une politique sociale comme les autres.La loi de financement de la sécurité sociale pour 2018 a choisi de ne pas revenir sur cette modulation des allocations familiales qui a pour conséquence principale la baisse de la natalité dans notre pays.Aussi, le présent amendement vise à réintroduire ce principe d’universalité, base même de la politique familiale française, enviée par tant de nos voisins.\n",
      "APRES: ['le', 'premier', 'alinéa', 'de', 'l’', 'article', 'l.', '\\xa0', '521‑1', 'de', 'code', 'de', 'le', 'sécurité', 'social', 'être', 'compléter', 'par', 'un', 'phrase', 'ainsi', 'rédiger', '\\xa0', ':', '«', '\\xa0', 'lui', 'être', 'universel', '.', '\\xa0', '»', 'pendant', 'plus', 'de', 'cinquante', 'an', ',', 'notre', 'politique', 'familial', 'avoir', 'reposer', 'sur', 'le', 'principe', 'de', 'l’', 'universalité', '.', 'cela', 'signifier', 'qu’', 'lui', 's’', 'adresser', 'à', 'tout', 'le', 'français', ',', 'sans', 'distinction', 'social', '.', 'lui', 'reposer', 'sur', 'l’', 'idée', 'que', 'chaque', 'enfant', 'à', 'naître', 'être', 'un', 'chance', 'et', 'un', 'richesse', 'pour', 'le', 'France', ',', 'pour', 'son', 'avenir', ',', 'quel', 'que', 'être', 'le', 'ressource', 'dont', 'disposer', 'le', 'parent', '.', 'pour', 'mettre', 'en', 'place', 'ce', 'principe', 'd’', 'universalité', ',', 'le', 'politique', 'familial', 'appeler', 'de', 'outil', 'dire', 'de', 'redistribution', 'horizontal', ',', 'c’', 'être', '-', 'à', '-', 'dire', 'un', 'mécanisme', 'de', 'solidarité', 'de', 'famille', 'sans', 'enfant', 'envers', 'le', 'famille', 'avec', 'enfant', ',', 'pour', 'que', ',', 'quel', 'que', 'être', 'le', 'revenu', 'de', 'parent', ',', 'le', 'naissance', 'd’', 'un', 'enfant', 'n’', 'avoir', 'pas', 'pour', 'effet', 'de', 'porter', 'atteinte', 'à', 'leur', 'niveau', 'de', 'vie', '.', 'or', ',', 'ce', 'principe', 'd’', 'universalité', 'avoir', 'être', 'mettre', 'à', 'mal', 'sous', 'le', 'précédent', 'quinquennat', ',', 'notamment', 'à', 'travers', 'le', 'modulation', 'de', 'allocation', 'familial', 'et', 'le', 'baisse', 'successif', 'de', 'quotient', 'familial', ',', 'faire', 'ainsi', 'de', 'le', 'politique', 'familial', 'un', 'politique', 'social', 'comme', 'le', 'autre', '.', 'le', 'loi', 'de', 'financement', 'de', 'le', 'sécurité', 'social', 'pour', '2018', 'avoir', 'choisir', 'de', 'ne', 'pas', 'revenir', 'sur', 'ce', 'modulation', 'de', 'allocation', 'familial', 'qui', 'avoir', 'pour', 'conséquence', 'principal', 'le', 'baisse', 'de', 'le', 'natalité', 'dans', 'notre', 'pays', '.', 'aussi', ',', 'le', 'présent', 'amendement', 'vise', 'à', 'réintroduir', 'ce', 'principe', 'd’', 'universalité', ',', 'base', 'même', 'de', 'le', 'politique', 'familial', 'français', ',', 'envier', 'par', 'tant', 'de', 'notre', 'voisin', '.']\n",
      "4797\n"
     ]
    }
   ],
   "source": [
    "import spacy #!python -m spacy download fr_core_news_sm > /dev/null\n",
    "\n",
    "#Choix du package\n",
    "nlp = spacy.load(\"fr_core_news_sm\") #python -m spacy download fr_core_news_sm #Moins précis \n",
    "#nlp = spacy.load(\"fr_core_news_md\") #python -m spacy download fr_core_news_md\n",
    "#nlp = spacy.load(\"fr_core_news_lg\") #python -m spacy download fr_core_news_lg\n",
    "#nlp = spacy.load(\"fr_dep_news_trf\") #python -m spacy download fr_dep_news_trf\n",
    "\n",
    "# LIGNE A COMMENTER SI ON VEUT FAIRE LE CALCUL SUR L'ENSEMBLE DU CORPUS\n",
    "#amdts = amdts[0:6]\n",
    "\n",
    "lemmatized_amdts = []\n",
    "amdt = []\n",
    "for amdt in amdts['texte']:\n",
    "    lemmatized_amdt=[]\n",
    "    token = []\n",
    "    for token in nlp(amdt):\n",
    "        lemmatized_amdt.append(token.lemma_)\n",
    "        #print(token.text,token.lemma_)\n",
    "    lemmatized_amdts.append(lemmatized_amdt)\n",
    "\n",
    "print('AVANT:', amdts['texte'][4])    \n",
    "print('APRES:', lemmatized_amdts[4])"
   ]
  },
  {
   "cell_type": "markdown",
   "id": "refined-poetry",
   "metadata": {},
   "source": [
    "##  Step 2 : remove casing and punctuation"
   ]
  },
  {
   "cell_type": "code",
   "execution_count": null,
   "id": "average-vector",
   "metadata": {},
   "outputs": [],
   "source": [
    "## Removing punctuation AND Casing\n",
    "#( Casing: Est-ce vraiment utile ? Est-ce qu'on ne va pas perdre les Acronymes de vue ?)\n",
    "amdts_clean = []\n",
    "for amdt in lemmatized_amdts:\n",
    "    amdts_clean.append([ word.lower() for word in amdt if word.isalpha()])\n",
    "print(amdts_clean[4])\n",
    "print(len(amdts_clean))"
   ]
  },
  {
   "cell_type": "markdown",
   "id": "polyphonic-coating",
   "metadata": {},
   "source": [
    "##  Step 3 : remove stopwords"
   ]
  },
  {
   "cell_type": "code",
   "execution_count": 26,
   "id": "controlling-treasure",
   "metadata": {},
   "outputs": [],
   "source": [
    "#pip install nltk"
   ]
  },
  {
   "cell_type": "code",
   "execution_count": 27,
   "id": "returning-progressive",
   "metadata": {},
   "outputs": [
    {
     "name": "stderr",
     "output_type": "stream",
     "text": [
      "[nltk_data] Downloading package stopwords to /Users/sasha/nltk_data...\n",
      "[nltk_data]   Package stopwords is already up-to-date!\n",
      "[nltk_data] Downloading package punkt to /Users/sasha/nltk_data...\n",
      "[nltk_data]   Package punkt is already up-to-date!\n"
     ]
    },
    {
     "data": {
      "text/plain": [
       "True"
      ]
     },
     "execution_count": 27,
     "metadata": {},
     "output_type": "execute_result"
    }
   ],
   "source": [
    "import nltk\n",
    "nltk.download('stopwords')\n",
    "nltk.download('punkt')"
   ]
  },
  {
   "cell_type": "code",
   "execution_count": 28,
   "id": "altered-chorus",
   "metadata": {},
   "outputs": [
    {
     "name": "stdout",
     "output_type": "stream",
     "text": [
      "NOS MOTS 'INUTILES' : \n",
      " \n",
      " ['au', 'aux', 'avec', 'ce', 'ces', 'dans', 'de', 'des', 'du', 'elle', 'en', 'et', 'eux', 'il', 'ils', 'je', 'la', 'le', 'les', 'leur', 'lui', 'ma', 'mais', 'me', 'même', 'mes', 'moi', 'mon', 'ne', 'nos', 'notre', 'nous', 'on', 'ou', 'par', 'pas', 'pour', 'qu', 'que', 'qui', 'sa', 'se', 'ses', 'son', 'sur', 'ta', 'te', 'tes', 'toi', 'ton', 'tu', 'un', 'une', 'vos', 'votre', 'vous', 'c', 'd', 'j', 'l', 'à', 'm', 'n', 's', 't', 'y', 'été', 'étée', 'étées', 'étés', 'étant', 'étante', 'étants', 'étantes', 'suis', 'es', 'est', 'sommes', 'êtes', 'sont', 'serai', 'seras', 'sera', 'serons', 'serez', 'seront', 'serais', 'serait', 'serions', 'seriez', 'seraient', 'étais', 'était', 'étions', 'étiez', 'étaient', 'fus', 'fut', 'fûmes', 'fûtes', 'furent', 'sois', 'soit', 'soyons', 'soyez', 'soient', 'fusse', 'fusses', 'fût', 'fussions', 'fussiez', 'fussent', 'ayant', 'ayante', 'ayantes', 'ayants', 'eu', 'eue', 'eues', 'eus', 'ai', 'as', 'avons', 'avez', 'ont', 'aurai', 'auras', 'aura', 'aurons', 'aurez', 'auront', 'aurais', 'aurait', 'aurions', 'auriez', 'auraient', 'avais', 'avait', 'avions', 'aviez', 'avaient', 'eut', 'eûmes', 'eûtes', 'eurent', 'aie', 'aies', 'ait', 'ayons', 'ayez', 'aient', 'eusse', 'eusses', 'eût', 'eussions', 'eussiez', 'eussent', 'revoici', 'jusque', 'semblent', 'directe', 'tant', 'cependant', 'hui', 'suivre', 'quant-à-soi', 'tenir', 'dire', \"t'\", 'houp', 'avoir', 'differents', 'dehors', 'là', 'diverse', 'fait', 'aucune', 'ouias', 'sienne', 'allaient', 'aujourd', 'lès', 'fais', 'vé', 'ouvert', 'elles-mêmes', 'parmi', 'faisaient', 'deja', 'tend', 'suffisante', 'puisque', 'ouverts', 'surtout', 'debout', 'ça', 'certaines', 'hormis', 'vais', 'desormais', 'entre', 'quiconque', 'pouvait', 'mille', 'moi-meme', 'concernant', 'vu', 'différent', \"m'\", 'quelle', 'delà', 'tout', 'tellement', 'combien', 'depuis', 'chacun', 'desquelles', 'puis', 'directement', 'suit', 'troisième', \"n'\", 'selon', 'doit', 'dix-huit', 'elles', 'maintenant', 'deuxième', 'etais', 'auquel', 'dedans', 'comme', 'vous-mêmes', 'quel', 'chez', 'certaine', 'celle-là', 'font', 'quoi', \"l'\", 'où', \"aujourd'hui\", 'tous', 'prealable', 'comment', 'hé', 'devers', 'néanmoins', 'lesquelles', 'specifique', 'tres', 'd’', 'personne', 'hem', 'certains', 'doivent', 'toi-même', 'plusieurs', 'douze', 'ni', 'i', 'c’', 'ainsi', 'pourrait', 'effet', 'm’', 'peut', 'quelque', 'hors', 'egalement', 'juste', 't’', 'neuvième', 'septième', 'relative', 'quarante', 'o', 'onze', 'voilà', 'tiennes', 'ceux', 'rendre', 'seulement', 'suivants', 'celles', 'être', 'cent', 'auxquels', 'attendu', 'differentes', 'treize', 'autres', 'restent', 'cinquième', 'proche', 'si', 'celle-ci', 'telles', 'semblaient', 'nombreux', 'envers', 'egales', 'dite', 'bat', 'apres', 'douzième', 'hi', 'hep', 'sent', 'allons', 'duquel', 'sien', 'celles-là', 'relativement', 'mienne', 'différente', 'assez', 'mien', 'memes', 'souvent', 'nôtre', 'sauf', 'anterieure', 'celui-là', 'hue', 'specifiques', 'siennes', 'dont', 'ho', 'avant', 'aupres', 'etait', 'tenant', 'pu', 'nombreuses', 'neanmoins', 'aucun', 'durant', 'ceux-là', 'a', 'plus', 'possible', 'huitième', 'pourrais', 'sous', 'revoilà', 'désormais', 'toujours', 'etant', 'maint', 'possibles', 'importe', 'hou', 'lors', 'ceux-ci', 'lequel', 'cet', 'n’', 'basee', 'plutôt', 'vingt', 'car', 'moins', 'vers', 'enfin', 'feront', 'toutes', 'après', 'tente', 'bas', 'nouvea', 'ah', 'permet', 'dits', 'abord', 'ouverte', 'jusqu', 'eh', 'voici', 'environ', 'vôtres', 'da', 'unes', 'trente', 'cela', 'lesquels', 'semblable', 'sans', 'pendant', 'compris', 'gens', 'vas', 'different', 'premier', 'différents', 'soi', 'outre', 'suivantes', 'procedant', 'ha', 'sixième', 'oust', 'façon', 'autrement', 'dès', 'sinon', 'quinze', 'egale', 'parle', 'quatorze', 'exactement', 'cette', 'anterieur', 'laisser', 'elle-même', 'touchant', 'na', 'dit', 'parce', 'alors', 'huit', 'parler', 'mêmes', 'devra', 'eux-mêmes', \"c'\", 'sept', 'ô', 'cinq', 'encore', 'partant', 'dixième', 'nous-mêmes', 'vont', 'six', 'quatrième', 'nôtres', 'qu’', 'certain', 'ore', 'toute', 'tienne', 'anterieures', 'seul', 'onzième', 'â', 'celui-ci', 'moi-même', 'moindres', \"s'\", 'via', 'donc', 'derrière', 'dessus', 'afin', 'lui-même', 'tel', 'quelconque', 'vôtre', 'l’', 'miens', 'peuvent', 'sait', 'pourquoi', 'quatre-vingt', 'suivant', \"qu'\", 'suivante', 'deuxièmement', 'pense', 'première', 'parseme', 'leurs', 'devant', 'ceci', 'precisement', 'té', 'diverses', 'cinquantaine', 'longtemps', 'retour', 'celles-ci', 'stop', 'soi-même', 'celle', 'tiens', 'premièrement', 'faisant', 'quels', 'telle', 'tien', 'excepté', 'dessous', 'quand', 'reste', 'quatre', 'autrui', 'miennes', 'quelques', 'quelles', 'troisièmement', 'va', 'lorsque', 'cinquantième', 'deux', 'peux', 'semble', 'seule', 'etaient', 'restant', 'aussi', 'près', 'celui', 'etc', 'meme', 'chacune', \"quelqu'un\", 'quoique', 'seize', 'laquelle', \"j'\", 'nul', 'chaque', 'dix-sept', 'malgre', 'autre', 'auxquelles', 'ci', 'parlent', 'quant', 'etre', 'derriere', 'suffit', 'trois', 'suffisant', 'parfois', 'peu', 'rend', 'tels', 'uns', 'ès', \"d'\", 'différentes', 'notamment', 'merci', 'desquels', 'pres', 's’', 'soixante', 'j’', 'divers', 'dix', 'quatrièmement', 'dix-neuf', 'lui-meme', 'certes', 'cinquante', 'siens', 'quanta', 'alinéa', 'amendement', 'º', 'l.', 'loi', 'présent', 'rapport', '1', '2020', 'ii', 'phrase', '2', 'gouvernement', 'i.', '575', 'organismes', '3', '2019', 'secteur', 'non', 'mot', 'mesure', 'etat', 'objet', 'compte', 'situation', 'ans', 'propose', '4', 'iii', 'également', 'congé', 'mentionner', 'article', 'milliard', 'euro', 'code'] \n",
      "\n",
      "4797\n",
      "AVANT : \n",
      " \n",
      " ['le', 'premier', 'alinéa', 'de', 'article', 'de', 'code', 'de', 'le', 'sécurité', 'social', 'être', 'compléter', 'par', 'un', 'phrase', 'ainsi', 'rédiger', 'lui', 'être', 'universel', 'pendant', 'plus', 'de', 'cinquante', 'an', 'notre', 'politique', 'familial', 'avoir', 'reposer', 'sur', 'le', 'principe', 'de', 'universalité', 'cela', 'signifier', 'lui', 'adresser', 'à', 'tout', 'le', 'français', 'sans', 'distinction', 'social', 'lui', 'reposer', 'sur', 'idée', 'que', 'chaque', 'enfant', 'à', 'naître', 'être', 'un', 'chance', 'et', 'un', 'richesse', 'pour', 'le', 'france', 'pour', 'son', 'avenir', 'quel', 'que', 'être', 'le', 'ressource', 'dont', 'disposer', 'le', 'parent', 'pour', 'mettre', 'en', 'place', 'ce', 'principe', 'universalité', 'le', 'politique', 'familial', 'appeler', 'de', 'outil', 'dire', 'de', 'redistribution', 'horizontal', 'être', 'à', 'dire', 'un', 'mécanisme', 'de', 'solidarité', 'de', 'famille', 'sans', 'enfant', 'envers', 'le', 'famille', 'avec', 'enfant', 'pour', 'que', 'quel', 'que', 'être', 'le', 'revenu', 'de', 'parent', 'le', 'naissance', 'un', 'enfant', 'avoir', 'pas', 'pour', 'effet', 'de', 'porter', 'atteinte', 'à', 'leur', 'niveau', 'de', 'vie', 'or', 'ce', 'principe', 'universalité', 'avoir', 'être', 'mettre', 'à', 'mal', 'sous', 'le', 'précédent', 'quinquennat', 'notamment', 'à', 'travers', 'le', 'modulation', 'de', 'allocation', 'familial', 'et', 'le', 'baisse', 'successif', 'de', 'quotient', 'familial', 'faire', 'ainsi', 'de', 'le', 'politique', 'familial', 'un', 'politique', 'social', 'comme', 'le', 'autre', 'le', 'loi', 'de', 'financement', 'de', 'le', 'sécurité', 'social', 'pour', 'avoir', 'choisir', 'de', 'ne', 'pas', 'revenir', 'sur', 'ce', 'modulation', 'de', 'allocation', 'familial', 'qui', 'avoir', 'pour', 'conséquence', 'principal', 'le', 'baisse', 'de', 'le', 'natalité', 'dans', 'notre', 'pays', 'aussi', 'le', 'présent', 'amendement', 'vise', 'à', 'réintroduir', 'ce', 'principe', 'universalité', 'base', 'même', 'de', 'le', 'politique', 'familial', 'français', 'envier', 'par', 'tant', 'de', 'notre', 'voisin'] \n",
      "\n",
      "APRÈS : \n",
      " \n",
      " ['sécurité', 'social', 'compléter', 'rédiger', 'universel', 'an', 'politique', 'familial', 'reposer', 'principe', 'universalité', 'signifier', 'adresser', 'français', 'distinction', 'social', 'reposer', 'idée', 'enfant', 'naître', 'chance', 'richesse', 'france', 'avenir', 'ressource', 'disposer', 'parent', 'mettre', 'place', 'principe', 'universalité', 'politique', 'familial', 'appeler', 'outil', 'redistribution', 'horizontal', 'mécanisme', 'solidarité', 'famille', 'enfant', 'famille', 'enfant', 'revenu', 'parent', 'naissance', 'enfant', 'porter', 'atteinte', 'niveau', 'vie', 'or', 'principe', 'universalité', 'mettre', 'mal', 'précédent', 'quinquennat', 'travers', 'modulation', 'allocation', 'familial', 'baisse', 'successif', 'quotient', 'familial', 'faire', 'politique', 'familial', 'politique', 'social', 'financement', 'sécurité', 'social', 'choisir', 'revenir', 'modulation', 'allocation', 'familial', 'conséquence', 'principal', 'baisse', 'natalité', 'pays', 'vise', 'réintroduir', 'principe', 'universalité', 'base', 'politique', 'familial', 'français', 'envier', 'voisin'] \n",
      "\n",
      "4797\n"
     ]
    }
   ],
   "source": [
    "#STOP WORDS\n",
    "import spacy\n",
    "#On importe les mots \"inutiles\" (stopwords) du langage français depuis Space -ET- NLTK\n",
    "from nltk.corpus import stopwords \n",
    "stop_words = stopwords.words(\"french\")\n",
    "#print(stop_words)\n",
    "\n",
    "from spacy.lang.fr.stop_words import STOP_WORDS as fr_stop\n",
    "#print(fr_stop)\n",
    "for word in fr_stop:\n",
    "        stop_words.append(word)\n",
    "del(word)\n",
    "stop_words = list(stop_words)\n",
    "\n",
    "#On importe nos propres stopwords depuis le fichier CSV\n",
    "SW = pd.read_csv('Added_stop_words.csv')\n",
    "SW = list(SW.StopWords)\n",
    "final_SW = stop_words+ SW\n",
    "\n",
    "#On met tout en minuscule et on enlève les éventuels espaces (avant et après chaque mot)\n",
    "final_SW = [ word.lower().strip('') for word in final_SW]\n",
    "      \n",
    "#On enlève les doublons\n",
    "df = pd.DataFrame({\"StopWords\" : final_SW})\n",
    "final_SW = df.drop_duplicates()\n",
    "final_SW = list(final_SW.StopWords)\n",
    "print(\"NOS MOTS 'INUTILES' : \\n \\n\", final_SW ,'\\n')\n",
    "\n",
    "#STOP WORD REMOVAL\n",
    "print(len(amdts_clean))\n",
    "print(\"AVANT : \\n \\n\", amdts_clean[4], \"\\n\")\n",
    "tokenized = []\n",
    "for amdt in amdts_clean:\n",
    "    tokenized.append([ word.strip(' ') for word in amdt if word not in final_SW])\n",
    "print(\"APRÈS : \\n \\n\", tokenized[4], \"\\n\")\n",
    "print(len(tokenized))"
   ]
  },
  {
   "cell_type": "markdown",
   "id": "healthy-geology",
   "metadata": {},
   "source": [
    "##  Step 4 : remove duplicates and save the cleaned data"
   ]
  },
  {
   "cell_type": "code",
   "execution_count": 29,
   "id": "proud-jefferson",
   "metadata": {},
   "outputs": [
    {
     "name": "stdout",
     "output_type": "stream",
     "text": [
      "Index(['Amdt'], dtype='object')\n",
      "                                                Amdt\n",
      "0  insérer v bis entreprise salarié employeur aut...\n",
      "1  sécurité social attribuer insérer verser sécur...\n",
      "2  compléter remettre parlement échéance période ...\n",
      "3  insérer dudit limiter possibilité organiser dé...\n",
      "4  sécurité social compléter rédiger universel an...\n"
     ]
    }
   ],
   "source": [
    "#On enregistre le corpus d'amendements lemmatizé et sans stopwords : format 1\n",
    "df1=[]\n",
    "for i in range(len(tokenized)):  \n",
    "    d = ( ' '.join(list(tokenized[i])) )\n",
    "    df1.append(d)\n",
    "    \n",
    "df1 = pd.DataFrame(df1)\n",
    "#Note sur le drop_duplicates. Si on l'applique, on évite de donner une trop grosse importance à un même amendement\n",
    "#déposés plusieurs fois\n",
    "#Mais on risque aussi de ne pas voir des amendements réellement différents mais qui traitent d'un même sujet\n",
    "#df1.drop_duplicates()\n",
    "\n",
    "df1.rename(columns = {list(df1)[0]: 'Amdt'}, inplace = True)\n",
    "print(df1.columns)\n",
    "print(df1.head())\n",
    "df1.to_csv('data_csv/amdts_cleaned_liste.csv') #Une seule liste de mots par amdt\n",
    "\n",
    "#On enregistre le corpus d'amendements lemmatizé et sans stopwords : format 2\n",
    "df = pd.DataFrame(data = tokenized )\n",
    "L1 = len(df)\n",
    "#df.drop_duplicates()\n",
    "print(\"Nombre d'amendements en double retirés : \", L1-len(df), \"\\n\")\n",
    "df = df.fillna('') \n",
    "print(df.head(10))\n",
    "df = df.astype(str)\n",
    "df.to_csv('data_csv/amdts_cleaned.csv')  #Chaque ligne est un amendement, chaque colonne est un mot\n",
    "amdts_cleaned = tokenized #pour la suite du code"
   ]
  },
  {
   "cell_type": "markdown",
   "id": "cleared-fishing",
   "metadata": {},
   "source": [
    "# Les mots les plus utilisés"
   ]
  },
  {
   "cell_type": "code",
   "execution_count": 32,
   "id": "bronze-mason",
   "metadata": {},
   "outputs": [
    {
     "name": "stdout",
     "output_type": "stream",
     "text": [
      "4797\n",
      "Ci-dessous un exemple des 10 mots les plus utilisés sur 8 amendements: \n",
      " \n",
      "                                                  Mot Nº1             Mot Nº2  \\\n",
      "AMANR5L15PO420120B2296P0D1N000001          (salarié, 6)     (entreprise, 5)   \n",
      "AMANR5L15PO420120B2296P0D1N000002       (naissance, 15)        (enfant, 15)   \n",
      "AMANR5L15PO420120B2296P0D1N000005  (expérimentation, 5)        (service, 3)   \n",
      "AMANR5L15PO420120B2296P0D1N000008          (social, 10)  (établissement, 7)   \n",
      "AMANR5L15PO420120B2296P0D1N000010         (familial, 7)      (politique, 5)   \n",
      "AMANR5L15PO420120B2296P0D1N000011         (familial, 8)         (revenu, 8)   \n",
      "AMANR5L15PO420120B2296P0D1N000012         (familial, 4)     (allocation, 4)   \n",
      "AMANR5L15PO420120B2296P0D1N000015         (familial, 4)     (allocation, 4)   \n",
      "\n",
      "                                                Mot Nº3          Mot Nº4  \\\n",
      "AMANR5L15PO420120B2296P0D1N000001        (employeur, 3)       (prime, 3)   \n",
      "AMANR5L15PO420120B2296P0D1N000002            (prime, 9)      (social, 6)   \n",
      "AMANR5L15PO420120B2296P0D1N000005  (contemporanéité, 2)       (impôt, 2)   \n",
      "AMANR5L15PO420120B2296P0D1N000008          (service, 7)        (acte, 4)   \n",
      "AMANR5L15PO420120B2296P0D1N000010           (social, 4)    (principe, 4)   \n",
      "AMANR5L15PO420120B2296P0D1N000011       (allocation, 6)  (modulation, 5)   \n",
      "AMANR5L15PO420120B2296P0D1N000012        (naissance, 4)     (adopter, 3)   \n",
      "AMANR5L15PO420120B2296P0D1N000015        (naissance, 4)     (adopter, 3)   \n",
      "\n",
      "                                              Mot Nº5         Mot Nº6  \\\n",
      "AMANR5L15PO420120B2296P0D1N000001   (exceptionnel, 3)     (devoir, 3)   \n",
      "AMANR5L15PO420120B2296P0D1N000002      (politique, 6)       (date, 5)   \n",
      "AMANR5L15PO420120B2296P0D1N000005  (participation, 2)  (financier, 2)   \n",
      "AMANR5L15PO420120B2296P0D1N000008           (soin, 3)      (règle, 3)   \n",
      "AMANR5L15PO420120B2296P0D1N000010   (universalité, 4)     (enfant, 4)   \n",
      "AMANR5L15PO420120B2296P0D1N000011   (universalité, 4)     (social, 4)   \n",
      "AMANR5L15PO420120B2296P0D1N000012           (mode, 3)  (politique, 2)   \n",
      "AMANR5L15PO420120B2296P0D1N000015           (mode, 3)  (politique, 2)   \n",
      "\n",
      "                                             Mot Nº7        Mot Nº8  \\\n",
      "AMANR5L15PO420120B2296P0D1N000001         (impôt, 3)     (place, 3)   \n",
      "AMANR5L15PO420120B2296P0D1N000002     (versement, 5)   (famille, 5)   \n",
      "AMANR5L15PO420120B2296P0D1N000005  (bénéficiaire, 2)      (part, 2)   \n",
      "AMANR5L15PO420120B2296P0D1N000008   (possibilité, 2)     (cadre, 2)   \n",
      "AMANR5L15PO420120B2296P0D1N000010      (sécurité, 2)   (reposer, 2)   \n",
      "AMANR5L15PO420120B2296P0D1N000011         (impôt, 4)    (fiscal, 3)   \n",
      "AMANR5L15PO420120B2296P0D1N000012      (quotient, 2)  (parental, 2)   \n",
      "AMANR5L15PO420120B2296P0D1N000015      (quotient, 2)  (parental, 2)   \n",
      "\n",
      "                                          Mot Nº9          Mot Nº10  \n",
      "AMANR5L15PO420120B2296P0D1N000001     (accord, 3)     (employer, 2)  \n",
      "AMANR5L15PO420120B2296P0D1N000002      (foyer, 5)     (sécurité, 4)  \n",
      "AMANR5L15PO420120B2296P0D1N000005    (induire, 2)        (degré, 2)  \n",
      "AMANR5L15PO420120B2296P0D1N000008      (prise, 2)       (charge, 2)  \n",
      "AMANR5L15PO420120B2296P0D1N000010   (français, 2)       (parent, 2)  \n",
      "AMANR5L15PO420120B2296P0D1N000011  (condition, 3)  (suppression, 3)  \n",
      "AMANR5L15PO420120B2296P0D1N000012       (base, 2)       (enfant, 2)  \n",
      "AMANR5L15PO420120B2296P0D1N000015       (base, 2)       (enfant, 2)  \n"
     ]
    }
   ],
   "source": [
    "#Counting\n",
    "from collections import Counter\n",
    "print(len(amdts_cleaned))\n",
    "def most_common_words(amdts_cleaned, N):\n",
    "    freq = []\n",
    "    words = []\n",
    "    token = []\n",
    "    for token in amdts_cleaned:\n",
    "        bow = Counter(token) \n",
    "        #print(bow.most_common(N))\n",
    "        words.append([bow.most_common(N)[i][0] for i in range(len(bow.most_common(N)))])\n",
    "        freq.append(bow.most_common(N))  #([bow.most_common(N)[i][1] for i in range(len(bow.most_common(N)))]) \n",
    "    return pd.DataFrame(freq), words\n",
    "\n",
    "#On ne garde que les N mots les plus utilisés pour chaque amendement\n",
    "N = 10\n",
    "freq, words = most_common_words(amdts_cleaned, N)\n",
    "\n",
    "#On sauvegarde cette donnée dans un fichier .csv dont les lignes sont les amdts et les colonnes sont les mots et leur fréquence\n",
    "#Nom des colonnes (mots)\n",
    "freq_index = ['Mot Nº{i}'.format(i = j+1) for j in range(N)]\n",
    "freq.columns = freq_index\n",
    "\n",
    "#Nom des lignes (amendements)\n",
    "corpus_index = amdts['uid'].tolist()\n",
    "freq.index = corpus_index\n",
    "\n",
    "freq.to_csv('data_csv/most_common_{nb}_words_per_amdt.csv'.format(nb = N))\n",
    "\n",
    "print(\"Ci-dessous un exemple des {N} mots les plus utilisés sur 8 amendements: \\n \\n \".format(N = N), freq.head(8))"
   ]
  },
  {
   "cell_type": "code",
   "execution_count": 33,
   "id": "sound-alias",
   "metadata": {},
   "outputs": [
    {
     "name": "stdout",
     "output_type": "stream",
     "text": [
      "Nombre total de mots les plus utilisés :  2499 \n",
      "\n",
      "Liste des mots les plus utilisés:  ['None', 'aa', 'aah', 'ab', 'abaisse', 'abaissement', 'abandon', 'abattement', 'abattemer', 'aboutir', 'abroger', 'abrogé', 'abrogés', 'absence', 'académique', 'acceptable', 'accepter', 'accessibler', 'accessoire', 'accident', 'accidenté', 'accise', 'accompagnement', 'accompagnemer', 'accompagner', 'accomplissement', 'accord', 'accorder', 'accouchement', 'accroître', 'accru', 'accréditation', 'accueil', 'accueillir', 'accès', 'accéder', 'achat', 'acos', 'acquisition', 'acquitter', 'acre', 'act', 'acte', 'acteur', 'actif', 'action', 'actionnaire', 'activité', 'actualisation', 'actualiser', 'actuel', 'actuellement', 'adaptation', 'adapter', 'additif', 'additionnel', 'administratif', 'administration', 'adolescent', 'adopter', 'adoption', 'adresser', 'adulte', 'aeeh', 'affaiblir', 'affaire', 'affectation', 'affecter', 'affection', 'affiliation', 'affilie', 'affilier', 'affilié', 'affirmer', 'afférent', 'afp', 'agence', 'agent', 'agir', 'agirc', 'agressivité', 'agricole', 'agriculteur', 'agriculture', 'agrément', 'agéer', 'aidant', 'aide', 'aider', 'ailleurs', 'aiser', 'ajout', 'ajouter', 'ajouté', 'ajuster', 'alcool', 'alcoolique', 'alcooliser', 'alcoométrique', 'ald', 'alerte', 'alignement', 'aligner', 'alimentaire', 'alimentation', 'alimenter', 'aller', 'allocataire', 'allocation', 'allongement', 'allonger', 'allouer', 'allègement', 'allégement', 'alternative', 'ambassade', 'ambiguïté', 'ambulance', 'ambulatoire', 'amener', 'amiable', 'amm', 'amont', 'amortissemer', 'amp', 'ampleur', 'amélioration', 'améliorer', 'an', 'analyse', 'analytique', 'ancestral', 'ancienneter', 'ancienneté', 'annexe', 'annonce', 'annoncer', 'annonceur', 'annuel', 'annuellement', 'annulation', 'année', 'anomalie', 'anonymiser', 'anormalement', 'anse', 'ansm', 'ansp', 'antiamaril', 'anticiper', 'anticipé', 'antépénultième', 'antérieur', 'antérieurement', 'anxiolytique', 'août', 'apa', 'apaisement', 'apparait', 'apparaître', 'apparenter', 'appel', 'appellation', 'applicable', 'application', 'applique', 'appliquer', 'apporte', 'apporter', 'apprentissage', 'approche', 'approfondie', 'approprier', 'approvisionnement', 'apprécier', 'appui', 'aptitude', 'apurement', 'apéritif', 'arcco', 'armée', 'aromatiser', 'arrivée', 'arrêt', 'arrêté', 'ars', 'art', 'articleau', 'articler', 'articulation', 'artificiellement', 'artiste', 'artériel', 'asi', 'asile', 'asmr', 'aspa', 'assainissement', 'assemblée', 'asseoir', 'assiette', 'assigne', 'assistance', 'assistant', 'assister', 'association', 'associer', 'assouplir', 'assujetti', 'assurance', 'assure', 'assurer', 'assureur', 'assuré', 'at', 'atteindre', 'atteinte', 'attendre', 'attente', 'attention', 'attestation', 'attester', 'attractivité', 'attribue', 'attribuer', 'attribution', 'atu', 'aubain', 'audience', 'audiologie', 'audiovisuel', 'audit', 'audition', 'augmentation', 'augmenter', 'auparavant', 'auprès', 'austéritair', 'autant', 'auteur', 'auto', 'autodialyse', 'automate', 'automatique', 'automatiquement', 'automatiquemer', 'automatiser', 'autonome', 'autonomie', 'autorisation', 'autoriser', 'autorité', 'autoévaluation', 'auxiliaire', 'avance', 'avancement', 'avancer', 'avantage', 'avertir', 'avis', 'avocat', 'avril', 'avérer', 'avéré', 'azote', 'aérien', 'b', 'bactérienne', 'bail', 'baisse', 'baisser', 'bancaire', 'bar', 'bariatriqu', 'bariatrique', 'barreau', 'barème', 'base', 'bassin', 'beaucoup', 'belgique', 'besoin', 'biais', 'bien', 'bientraitance', 'bilan', 'biologie', 'biologique', 'biomédical', 'biométrique', 'biosimilaire', 'bis', 'bière', 'blanc', 'boisson', 'bon', 'bonus', 'bord', 'bout', 'branche', 'brasserie', 'brevet', 'broncho', 'btp', 'budget', 'budgétaire', 'bulletin', 'burn', 'but', 'bâtiment', 'bénéfice', 'bénéfici', 'bénéficiaire', 'bénéficier', 'cades', 'cadre', 'caduc', 'caf', 'cahier', 'caisse', 'calcul', 'calendaire', 'camieg', 'campagne', 'cancer', 'cannabinoïde', 'cannabis', 'capacité', 'capital', 'caqe', 'caractère', 'caractériser', 'caractéristique', 'carence', 'carrière', 'carte', 'cartographie', 'cas', 'catégorie', 'cause', 'cbd', 'ccam', 'cdc', 'central', 'centre', 'centrer', 'centriste', 'cep', 'certificat', 'certification', 'certifier', 'cessation', 'cesse', 'cesser', 'cesu', 'cglpl', 'chaine', 'chambre', 'champ', 'chance', 'changement', 'chanvre', 'chapitr', 'chapitre', 'charcuterie', 'charge', 'charger', 'chauffer', 'chaîne', 'chef', 'chercheur', 'chiffrage', 'chiffre', 'chiffrer', 'chimiothérapie', 'chimique', 'chirurgie', 'chlordécone', 'choix', 'chose', 'chrd', 'chronique', 'chômage', 'cibl', 'cibler', 'ciblé', 'cice', 'cinéma', 'circonstance', 'circulation', 'citoyen', 'civil', 'civique', 'cl', 'clairette', 'clarification', 'clarté', 'classe', 'classification', 'clause', 'clinique', 'cliniquement', 'cloisonnement', 'clore', 'club', 'cmu', 'cnp', 'cnsa', 'coefficient', 'coefficier', 'cofrac', 'cohérence', 'collaborateur', 'collecter', 'collectif', 'collective', 'collectivité', 'collège', 'colonne', 'combattr', 'combattre', 'combler', 'comité', 'commande', 'commence', 'commerce', 'commercial', 'commercialisation', 'commettre', 'commission', 'commun', 'communal', 'communauté', 'commune', 'communication', 'compagnie', 'comparable', 'comparateur', 'compassionnel', 'compensation', 'compenser', 'complet', 'complexe', 'complètement', 'complément', 'complémentaire', 'compléter', 'comportement', 'composition', 'comprendre', 'compresser', 'comprimé', 'comptable', 'compter', 'compétence', 'compétition', 'compétitivité', 'concerne', 'concerner', 'concertation', 'concilier', 'concitoyen', 'conclusion', 'concours', 'concubin', 'concurrence', 'concurrente', 'condamnation', 'condamner', 'condition', 'conditionnement', 'conditionner', 'conduire', 'conduit', 'confiance', 'confier', 'confinement', 'conforme', 'conformément', 'confort', 'conforter', 'conférence', 'congénital', 'conjoint', 'connaissance', 'connaître', 'consacrer', 'consacré', 'conscience', 'conseil', 'conseils', 'consentement', 'conservatoire', 'conserver', 'considération', 'considérer', 'consigne', 'consister', 'consommateur', 'consommation', 'consommer', 'constater', 'conster', 'constitue', 'constituer', 'constitution', 'constitutionnel', 'construction', 'consulaire', 'consultatif', 'consultation', 'consulter', 'consécutif', 'conséquence', 'contemporanéité', 'contenir', 'contentieux', 'contention', 'contestation', 'contester', 'contexte', 'contigu', 'contiguïté', 'continuer', 'continuité', 'contourner', 'contraceptif', 'contraception', 'contractant', 'contracter', 'contraction', 'contractuel', 'contradictoire', 'contraindre', 'contrainte', 'contrairement', 'contrat', 'contre', 'contrepartie', 'contresigner', 'contribuer', 'contribution', 'contrôle', 'contrôler', 'contrôleur', 'convention', 'conventionnel', 'conventionnement', 'conventionnemer', 'conventionner', 'conventionnée', 'convier', 'coopération', 'coordination', 'coordonner', 'coordonné', 'coordonnée', 'coparentalité', 'correction', 'correspondre', 'corriger', 'corse', 'cotisant', 'cotisation', 'cotiser', 'coup', 'couple', 'cour', 'courant', 'courir', 'cours', 'couter', 'couvert', 'couvertur', 'couverture', 'couvre', 'covid', 'coût', 'coûter', 'cpam', 'cprp', 'cpsti', 'crcm', 'crise', 'critère', 'croissance', 'crèche', 'créance', 'création', 'crédit', 'créer', 'csa', 'csg', 'csi', 'csp', 'culpabiliser', 'culture', 'culturel', 'cumul', 'côté', 'dangereux', 'data', 'date', 'davantage', 'degré', 'demain', 'demande', 'demander', 'demandeur', 'demeure', 'densité', 'dentaire', 'dentiste', 'dernier', 'destinataire', 'destination', 'destiner', 'destruction', 'dette', 'deuil', 'devenir', 'devoir', 'diabète', 'diabétique', 'diagnostic', 'diagnostique', 'diagnostiquer', 'dialogue', 'dialyse', 'die', 'difficile', 'difficulté', 'diffuser', 'différence', 'différenciation', 'digital', 'dignité', 'diminution', 'diplômer', 'direct', 'directer', 'directeur', 'direction', 'discernement', 'discipline', 'discrimination', 'discussion', 'disparité', 'dispensation', 'dispenser', 'disponibilité', 'disponible', 'dispose', 'disposer', 'dispositif', 'disposition', 'dissimulé', 'distance', 'distinguer', 'distribuer', 'distributeur', 'distribution', 'dividende', 'division', 'docteur', 'document', 'dom', 'domaine', 'domicil', 'domicile', 'domicilier', 'don', 'donation', 'donne', 'donner', 'donneur', 'donnée', 'dosage', 'dossier', 'dotation', 'doter', 'double', 'doubler', 'douleur', 'douz', 'drame', 'droit', 'droite', 'dudit', 'dumping', 'durée', 'débat', 'débiteur', 'débouché', 'début', 'débute', 'débuté', 'décembre', 'décent', 'décentraliser', 'décider', 'décidément', 'décilitre', 'décision', 'déclarant', 'déclaration', 'déclare', 'déclarer', 'déclinaison', 'découlent', 'décret', 'décrire', 'décrochage', 'décès', 'dédier', 'dédié', 'dédommagement', 'déduction', 'défaillant', 'défaut', 'défendre', 'défi', 'déficit', 'définie', 'définir', 'définitif', 'définition', 'définitivement', 'défiscalisation', 'dégrader', 'déjà', 'délai', 'délivranc', 'délivrance', 'délivrer', 'délocaliser', 'délégation', 'déléguer', 'délégué', 'démarche', 'dématérialisation', 'dématérialiser', 'démocratie', 'démographique', 'dénomination', 'départ', 'département', 'départemental', 'départementau', 'dépassement', 'dépassent', 'dépasser', 'dépendance', 'dépendre', 'dépense', 'dépistage', 'déploiement', 'dépos', 'déposer', 'dépression', 'député', 'dépôt', 'déremboursement', 'dériver', 'dérogation', 'désaccord', 'désertification', 'désescalade', 'désindexation', 'désinsertion', 'désocialisation', 'désocialiser', 'déséquilibre', 'détachement', 'détacher', 'détachée', 'détail', 'détecter', 'détention', 'détermination', 'déterminer', 'détour', 'détriment', 'détériorer', 'développe', 'développement', 'développer', 'dévouement', 'dûment', 'e', 'effectif', 'effectivement', 'effectuant', 'effectuer', 'efficace', 'efficacité', 'efficience', 'effort', 'ehpad', 'embauch', 'emploi', 'employer', 'employeur', 'empreinte', 'emprunt', 'encadrement', 'encadrer', 'encaisser', 'enceinte', 'enclaver', 'encontre', 'encourager', 'enfance', 'enfant', 'engagement', 'engager', 'engendre', 'engendrer', 'enjeux', 'ennemi', 'enquête', 'enseignement', 'ensemble', 'entamer', 'entendre', 'entraide', 'entrainer', 'entraîne', 'entraîner', 'entrent', 'entreprendre', 'entrepreneur', 'entreprise', 'entrer', 'entretien', 'entrée', 'enveloppe', 'environnement', 'envisage', 'envisager', 'epp', 'erreur', 'esat', 'escier', 'espace', 'esprit', 'espérance', 'essai', 'essentiel', 'estimer', 'eti', 'europe', 'européen', 'ex', 'examen', 'exception', 'exceptionnel', 'exclure', 'exclusion', 'exclusivement', 'excédent', 'excédentaire', 'excéder', 'exemption', 'exercer', 'exercice', 'exiger', 'exigé', 'existe', 'existence', 'exister', 'exonération', 'exonérer', 'exonérée', 'expert', 'expertise', 'explicitement', 'exploitant', 'exploitation', 'exploite', 'exploiter', 'exposer', 'exposition', 'exposé', 'expression', 'expressément', 'expérience', 'expérimental', 'expérimentation', 'expérimenter', 'extension', 'externalisation', 'externe', 'extrahospitalier', 'extrêmement', 'exécuter', 'exécutif', 'f', 'fabricant', 'fabrication', 'face', 'facteur', 'facturation', 'facturer', 'faculté', 'faible', 'faillite', 'faire', 'falloir', 'familial', 'famille', 'faute', 'fauteuil', 'faux', 'favorable', 'favoriser', 'femme', 'fermeture', 'fermé', 'feu', 'fiche', 'fichier', 'fides', 'figure', 'figurer', 'filiale', 'filière', 'fillon', 'film', 'fin', 'final', 'finalement', 'finalisation', 'finaliser', 'finalité', 'finance', 'financement', 'financer', 'financeur', 'financier', 'financièrement', 'fir', 'fiscal', 'fiscaliser', 'fiva', 'fixation', 'fixe', 'fixer', 'fixé', 'fixée', 'flagrance', 'flexibilité', 'fois', 'foncier', 'fonction', 'fonctionnaire', 'fonctionnel', 'fonctionnement', 'fond', 'fondamental', 'fondement', 'fonds', 'force', 'forestiers', 'forfait', 'forfaitaire', 'formalité', 'formateur', 'formation', 'forme', 'formule', 'fort', 'fortement', 'fortune', 'fournir', 'fournisseur', 'fourniture', 'foyer', 'fpu', 'fraction', 'fractionnement', 'fractionner', 'fracture', 'fragile', 'fragilité', 'frais', 'franc', 'france', 'français', 'fraude', 'fraudeart', 'frauder', 'frauduleux', 'fréquence', 'fréquent', 'fsvcotisation', 'fumeur', 'funéraille', 'fédérateur', 'fédération', 'février', 'gain', 'garanti', 'garantie', 'garantir', 'garde', 'garderie', 'garçon', 'gaz', 'gazier', 'genre', 'gestion', 'gestionnaire', 'gilet', 'glissement', 'gouvernemental', 'grammaire', 'gramme', 'grand', 'gratuit', 'gratuite', 'grave', 'gravité', 'grippe', 'gros', 'grossesse', 'grossiste', 'groupe', 'groupement', 'grâce', 'guadeloupe', 'guerre', 'guichet', 'guso', 'guyane', 'gynécologie', 'gynécologue', 'gélule', 'général', 'généralisation', 'généraliser', 'générer', 'générique', 'géographique', 'gérer', 'halte', 'handicap', 'handicaper', 'handicapé', 'has', 'hausse', 'haut', 'haute', 'hauteur', 'health', 'hebdomadaire', 'heure', 'historique', 'hiérarchisation', 'hl', 'homme', 'homologation', 'homologuer', 'homéopathie', 'homéopathique', 'honoraire', 'horaire', 'hospitalier', 'hospitalisation', 'hospitalo', 'hpv', 'hub', 'humain', 'hygiène', 'hypertension', 'hypothèse', 'hébergement', 'hôpital', 'hôtel', 'ici', 'idel', 'identifiant', 'identification', 'identifier', 'identifié', 'identique', 'identité', 'ier', 'ij', 'illégal', 'imminent', 'immobilier', 'immédiat', 'immédiatement', 'impact', 'impayé', 'implantable', 'implanter', 'implique', 'implémentation', 'importance', 'important', 'importation', 'importer', 'impose', 'imposer', 'imposition', 'imprécis', 'imputabilité', 'impôt', 'inapproprié', 'incapacité', 'incertitude', 'incidence', 'incitatif', 'inciter', 'inclure', 'incohérent', 'incomber', 'incontournable', 'incriminer', 'indemnisation', 'indemniser', 'indemniter', 'indemnité', 'indexer', 'indicateur', 'indication', 'indice', 'indiciaire', 'indique', 'indiquer', 'indirect', 'indispensable', 'individualisé', 'individuel', 'indu', 'induire', 'indument', 'industrie', 'industriel', 'indépendant', 'indépender', 'infantile', 'infection', 'infirmier', 'inflation', 'information', 'informatique', 'informer', 'infraction', 'inférieur', 'inhumain', 'inhérent', 'iniquité', 'initial', 'initialement', 'initiateur', 'initiation', 'initier', 'injuste', 'injustifier', 'innovant', 'innovation', 'innover', 'inopportun', 'inopportunémer', 'inquiétude', 'inscription', 'inscrire', 'inscrit', 'insee', 'insertion', 'insister', 'inspecteur', 'inspir', 'inspire', 'inspirer', 'installation', 'installer', 'instance', 'instant', 'instaur', 'instauration', 'instaurer', 'instituer', 'institution', 'institutionnel', 'instruction', 'instrumental', 'insuffisant', 'insulaire', 'insularité', 'insérer', 'intellectuel', 'intention', 'interconnexion', 'interdiction', 'intermédiaire', 'intermédiation', 'international', 'interne', 'internet', 'interopérabilité', 'interprétation', 'interruption', 'interrégional', 'intervenir', 'intervention', 'intituler', 'introduction', 'introduire', 'introduit', 'intégral', 'intégration', 'intégrer', 'intéressemer', 'intéressé', 'intérêt', 'invalidation', 'invalidité', 'investir', 'investissement', 'inégalité', 'irréaliste', 'irrémédiablement', 'isolement', 'isoler', 'isolé', 'issu', 'issue', 'ist', 'iv', 'ivg', 'jamais', 'janvier', 'jaunes', 'jei', 'jeu', 'jeune', 'jeunesse', 'jour', 'journalier', 'judiciaire', 'juge', 'juillet', 'juin', 'junior', 'juridictionnel', 'juridique', 'justice', 'justificatif', 'justification', 'justifier', 'kilogramme', 'kilométrique', 'labellisation', 'labelliser', 'laboratoire', 'ladite', 'laisse', 'largement', 'lbm', 'ldd', 'lecture', 'ledit', 'leem', 'lesdits', 'lest', 'lettre', 'lever', 'levier', 'lfs', 'lfss', 'lhs', 'liaison', 'liberté', 'libre', 'libéral', 'licence', 'lien', 'lier', 'lieu', 'ligne', 'limite', 'limiter', 'limité', 'liste', 'lit', 'litre', 'livraison', 'livre', 'livret', 'local', 'location', 'lodeom', 'logement', 'logiciel', 'logique', 'long', 'lot', 'louable', 'loueur', 'lourd', 'lourdeur', 'loyauté', 'loyer', 'lpp', 'lucratif', 'lunetier', 'lutte', 'lutter', 'lèpr', 'légal', 'législateur', 'législatif', 'législation', 'mai', 'maillage', 'main', 'mainlevée', 'maintenir', 'maintien', 'maison', 'maitrise', 'maitriser', 'majeur', 'majoration', 'majorer', 'majorité', 'mal', 'malade', 'maladie', 'maladievieillessefamilleaccident', 'malformation', 'malgré', 'maltraitance', 'malus', 'mandatair', 'mandataire', 'manifestation', 'manifestement', 'manière', 'manqu', 'manque', 'manquement', 'manquer', 'manutention', 'manœuvre', 'marché', 'marge', 'maritime', 'mars', 'martiniquais', 'martinique', 'masse', 'maternel', 'materniter', 'maternité', 'matière', 'matériel', 'matério', 'mauver', 'maximal', 'maximale', 'maximum', 'mayotte', 'maîtris', 'maîtrise', 'mdph', 'mds', 'medicament', 'meilleur', 'membre', 'menacer', 'mensuel', 'mental', 'mention', 'mentionne', 'mentionnée', 'mer', 'message', 'mesurer', 'mettre', 'mieux', 'migac', 'milieu', 'militaire', 'million', 'mineur', 'minier', 'minimal', 'minimum', 'ministre', 'ministère', 'ministériel', 'minorer', 'mise', 'mission', 'mitm', 'mobilier', 'mobiliser', 'mobilité', 'modalité', 'mode', 'modernisation', 'modeste', 'modification', 'modifier', 'modulation', 'moduler', 'modèle', 'modérateur', 'mois', 'moitié', 'moment', 'mondial', 'moniteur', 'montant', 'mortalité', 'moselle', 'motif', 'motivation', 'motiver', 'motivé', 'mots', 'mousseux', 'moyen', 'moyenne', 'mp', 'msa', 'mucoviscidose', 'multiplication', 'multiplier', 'mutualiste', 'mutualité', 'mutuelle', 'mère', 'mécanique', 'mécanisme', 'médecin', 'médecine', 'média', 'médical', 'médicaliser', 'médicament', 'médicamenteux', 'médico', 'médicosocial', 'ménage', 'méningite', 'méthode', 'métier', 'métropole', 'naissance', 'natalité', 'nation', 'national', 'nationalité', 'nature', 'navire', 'naître', 'net', 'neuve', 'nia', 'niches', 'nicotinique', 'nitrer', 'niveau', 'nom', 'nombre', 'nomenclature', 'nominatif', 'nonie', 'normal', 'norme', 'notification', 'notifiée', 'notion', 'nouveau', 'novartis', 'novembre', 'ns', 'nsa', 'numérique', 'numéro', 'nutrition', 'nécessaire', 'nécessit', 'nécessiter', 'négatif', 'négociation', 'oa', 'objectif', 'objectifobjectif', 'obligation', 'obligatoire', 'obligatoirement', 'obliger', 'observation', 'observatoir', 'observe', 'observer', 'obsolète', 'obstétrique', 'obtenir', 'obtention', 'obéir', 'obésité', 'oc', 'occasion', 'occasionnel', 'occasionner', 'occupation', 'occurrence', 'octobre', 'oeuvre', 'office', 'officiel', 'officin', 'officine', 'offre', 'offrir', 'ondam', 'ophtalmologiste', 'opportunité', 'opposable', 'oppose', 'opposer', 'optam', 'opter', 'opticien', 'option', 'optique', 'opérateur', 'or', 'oralement', 'ordinaire', 'ordonnance', 'ordonnateur', 'ordonne', 'ordre', 'organe', 'organisation', 'organisme', 'orientation', 'orienter', 'origin', 'origine', 'ostéoporose', 'oublier', 'out', 'outil', 'ouverture', 'ouvrable', 'ouvrir', 'pacte', 'paie', 'paiement', 'palliatif', 'pamc', 'pansement', 'papillomavirus', 'parallèle', 'parallèlement', 'paramétrique', 'paraquat', 'paraître', 'parc', 'parcour', 'parcours', 'parent', 'parental', 'parentalité', 'parenté', 'parer', 'paris', 'paritarisme', 'parlement', 'parlementaire', 'part', 'partage', 'partager', 'partenair', 'participant', 'participation', 'participe', 'participer', 'particulier', 'particulière', 'particulièrement', 'partie', 'partiel', 'partiellement', 'partir', 'partitif', 'party', 'parvenir', 'pass', 'passage', 'passager', 'passer', 'passible', 'paterniter', 'paternité', 'pathologie', 'patient', 'patronal', 'pauvre', 'pauvreter', 'pauvreté', 'payer', 'pays', 'pca', 'pch', 'pcr', 'peine', 'pension', 'perception', 'percevoir', 'perdre', 'permanence', 'permanent', 'permettre', 'personnalité', 'personnel', 'perspective', 'perte', 'pertinence', 'pertinent', 'perçu', 'perçue', 'peser', 'pesticide', 'petit', 'pharmaceutique', 'pharmacien', 'phase', 'photographie', 'phras', 'phraseinsérer', 'physiologique', 'physique', 'phytopharmaceutique', 'phytosanitaire', 'pied', 'pilotage', 'pivot', 'pièce', 'place', 'placer', 'plafond', 'plafonnement', 'plafonner', 'plan', 'plaque', 'plasma', 'plateform', 'plateforme', 'pleinement', 'plfs', 'plfss', 'pluriactif', 'pluriannuel', 'pluridisciplinaire', 'pme', 'pmi', 'pms', 'point', 'police', 'politique', 'pollution', 'polynésie', 'pompier', 'ponction', 'ponctionner', 'ponctuel', 'population', 'populationnell', 'populationnelle', 'portabilité', 'porte', 'porter', 'portuaire', 'pose', 'poser', 'position', 'possibilité', 'posséder', 'poste', 'postnatal', 'postérieur', 'pourcent', 'pourcentage', 'poursuivre', 'pourtant', 'pouvoir', 'praticien', 'pratiquant', 'pratique', 'pratiquent', 'pratiquer', 'premix', 'prenant', 'prendre', 'prescripteur', 'prescription', 'prescrire', 'presque', 'presse', 'prestataire', 'prestation', 'preuve', 'prime', 'princep', 'princeps', 'principal', 'principe', 'prioriser', 'prioritaire', 'prioritairement', 'priorité', 'prise', 'privatif', 'privation', 'priver', 'privé', 'prix', 'problème', 'problématique', 'processus', 'procuration', 'procèdent', 'procéder', 'procédure', 'production', 'produire', 'produit', 'profession', 'professionnalisation', 'professionnel', 'programmation', 'programme', 'programmer', 'progressif', 'progression', 'projection', 'projet', 'prolongation', 'prolonger', 'promesse', 'promotion', 'promulgation', 'propagation', 'proportion', 'proportionnel', 'proportionnée', 'proposer', 'proposition', 'propre', 'propriété', 'prorata', 'prorogation', 'prostate', 'protection', 'protocole', 'protoxyde', 'provenance', 'proximité', 'prs', 'préalable', 'préalablement', 'précaire', 'précarité', 'précise', 'préciser', 'précision', 'préciter', 'précoce', 'préconisation', 'précédemment', 'précédent', 'préférer', 'préjudice', 'préjuger', 'prélever', 'prélèvement', 'prématurer', 'prémi', 'prénatal', 'préoccupation', 'prérogative', 'présence', 'présentation', 'présente', 'présenter', 'préser', 'président', 'présomption', 'présumer', 'prévenir', 'prévention', 'prévisible', 'prévision', 'prévisionnel', 'prévoient', 'prévoir', 'prévoit', 'prévoyance', 'prévue', 'prêt', 'psychiatre', 'psychiatrie', 'psychiatrique', 'psychique', 'psychologique', 'psychologue', 'psychothérapie', 'public', 'publication', 'publicitaire', 'publicité', 'publier', 'puissant', 'pulmonaire', 'pur', 'père', 'pédiatrique', 'péjoratif', 'pénal', 'pénaliser', 'pénalité', 'pénibilité', 'pénurie', 'pérenne', 'pérennisation', 'pérenniser', 'péril', 'périmètre', 'périnatal', 'périnatalité', 'période', 'pêche', 'quadruple', 'qualité', 'quantité', 'quater', 'question', 'questionnaire', 'quintal', 'quotidien', 'quotidiennement', 'quotient', 'raboter', 'radier', 'radiodiffusion', 'radiologie', 'radiothérapie', 'raison', 'ramener', 'rapide', 'rapidement', 'rapidité', 'rappeler', 'rapporteur', 'rapprochement', 'rare', 'ratio', 'rattacher', 'rattrapage', 'recette', 'recevoir', 'recherche', 'recommandation', 'reconnaissance', 'reconnaître', 'recour', 'recourir', 'recours', 'recouvrement', 'recouvrer', 'recrutement', 'rectificatif', 'rectification', 'recueil', 'recueillir', 'recul', 'recule', 'reculer', 'redistribution', 'redonder', 'redressement', 'refinancemer', 'refonte', 'refus', 'regard', 'registr', 'registre', 'regroupement', 'rejet', 'rejeter', 'relance', 'relatif', 'relation', 'relativesinsérer', 'relevant', 'relever', 'relève', 'remboursable', 'remboursement', 'rembourser', 'remettre', 'remis', 'remise', 'remplacement', 'remplacer', 'remplir', 'rencontrer', 'renforcement', 'renforcer', 'renoncement', 'renouveler', 'renouvellement', 'renseignement', 'renseigner', 'rentrée', 'renvoi', 'renvoyer', 'repli', 'report', 'reporte', 'reporter', 'reposer', 'repouss', 'repousse', 'repousser', 'reprendre', 'reprise', 'représentant', 'représentatif', 'représentation', 'représente', 'représenter', 'resocialiser', 'respect', 'respecter', 'respectivement', 'responsabilité', 'responsable', 'ressemble', 'ressort', 'ressortissant', 'ressource', 'restaurant', 'rester', 'restituer', 'restreindre', 'restrictif', 'restriction', 'retard', 'retenir', 'retenue', 'retirer', 'retracer', 'retrait', 'retraite', 'retraiter', 'retraité', 'revalorisation', 'revaloriser', 'revenir', 'revenu', 'reverser', 'rfr', 'richesse', 'rien', 'risque', 'risquer', 'rosp', 'rosé', 'roulant', 'rouler', 'route', 'rsa', 'rupture', 'rural', 'règle', 'règlement', 'règlementair', 'réadaptation', 'réalisation', 'réalise', 'réaliser', 'réalité', 'réallocation', 'récemment', 'réception', 'récolter', 'récupération', 'rédaction', 'rédactionnel', 'rédiger', 'réduction', 'réduir', 'réduire', 'réel', 'réexamen', 'réflexion', 'réforme', 'réformer', 'référence', 'référencement', 'référencemer', 'référentiel', 'régime', 'région', 'régional', 'régionales', 'régir', 'régis', 'régissentamendemer', 'réglementaire', 'régularisation', 'régularité', 'régulation', 'réindexation', 'réindexe', 'réindexer', 'réitération', 'rémunération', 'rémunérer', 'rénovation', 'réorganisation', 'réorientation', 'réouverture', 'réparation', 'réparer', 'répartie', 'répartir', 'répartiteur', 'répartition', 'répercussion', 'répertoire', 'répondre', 'réponse', 'républicain', 'république', 'réseau', 'réserve', 'réserver', 'résidence', 'résident', 'résider', 'résoudre', 'résultat', 'résulter', 'rétablir', 'rétablissement', 'réunion', 'réunir', 'réversion', 'réviser', 'révision', 'réécrire', 'réécriture', 'rôle', 'saad', 'sacha', 'sage', 'saint', 'saisie', 'saisine', 'saisir', 'saisonnier', 'salaire', 'salarial', 'salarier', 'salarié', 'salle', 'saluon', 'sanction', 'sanctionner', 'sang', 'sanguin', 'sanitaire', 'sanofi', 'santé', 'sapeur', 'satisfaire', 'satisfait', 'sauvegarde', 'savoir', 'scandale', 'schéma', 'scientifique', 'sclérose', 'scolaire', 'second', 'secondaire', 'secourisme', 'secret', 'section', 'sein', 'semaine', 'sembler', 'semestre', 'sens', 'sensible', 'septembre', 'serre', 'service', 'servir', 'seuil', 'sexie', 'sexier', 'sexuel', 'sexuellemer', 'signaler', 'signature', 'signer', 'similaire', 'simple', 'simplement', 'simplicité', 'simplification', 'simplifier', 'simulation', 'sirop', 'site', 'situe', 'situer', 'siéger', 'ski', 'smic', 'sncf', 'social', 'socialer', 'socialiste', 'sociodémographique', 'société', 'soda', 'soignant', 'soigner', 'soin', 'solde', 'solidaire', 'solidarité', 'solliciter', 'solution', 'somatique', 'somme', 'sortie', 'sortir', 'sou', 'souci', 'souffrir', 'souhaite', 'souhaiter', 'soumettre', 'soutenabilité', 'soutien', 'souveraineté', 'spectacle', 'sport', 'sportif', 'spécial', 'spécialité', 'spécificité', 'spécifique', 'spécifiquement', 'ssiad', 'stabilité', 'statistique', 'statut', 'statutaire', 'stock', 'stratégie', 'stratégique', 'streaming', 'structure', 'stupéfiant', 'subir', 'subordonner', 'substantiel', 'substituer', 'substitut', 'substitutif', 'substitution', 'succession', 'succès', 'sucre', 'suite', 'suivi', 'sujet', 'superficie', 'superfétatoire', 'supplément', 'supplémentaire', 'supporter', 'suppression', 'supprime', 'supprimer', 'supprimée', 'supérieur', 'suralcooliser', 'surcotisation', 'surcoût', 'surface', 'surmortalité', 'surveillance', 'survenue', 'sus', 'susceptible', 'susmentionner', 'suspendre', 'suspension', 'symbolique', 'syndical', 'syndicat', 'syndrome', 'système', 'systématiquement', 'séance', 'sécheresse', 'sécu', 'sécuriser', 'sécuriter', 'sécurité', 'ségur', 'séjour', 'sénat', 'sénatorial', 'séparation', 'séparer', 'tabac', 'tableau', 'tact', 'taille', 'tard', 'tarif', 'tarifaire', 'tarification', 'taux', 'tax', 'taxation', 'taxe', 'taxer', 'technique', 'technologie', 'technologique', 'temporaire', 'temporairement', 'temps', 'tendre', 'tension', 'tentent', 'tenu', 'ter', 'terme', 'territoire', 'territorial', 'territorialisation', 'test', 'texte', 'thc', 'thérapeutique', 'thérapie', 'ticket', 'tient', 'tiers', 'tire', 'tirer', 'tiré', 'tissu', 'titre', 'titrer', 'titulaire', 'to', 'tode', 'toilette', 'total', 'totale', 'toucher', 'touché', 'tourisme', 'tourner', 'tournée', 'toutefois', 'tpe', 'tpmr', 'tracfin', 'traitant', 'traite', 'traitement', 'traiter', 'trajectoire', 'trajet', 'transfert', 'transformation', 'transformer', 'transférer', 'transition', 'transitoire', 'transmanche', 'transmettre', 'transmissible', 'transmission', 'transparence', 'transport', 'transverse', 'travail', 'travaille', 'travailleur', 'travers', 'traverser', 'traçabilité', 'tribunal', 'trimestre', 'trop', 'trouble', 'trouver', 'très', 'tuberculose', 'type', 'tâche', 'téléconsultation', 'télémédecine', 'téléphone', 'téléphonique', 'télésanter', 'télétransmission', 'télévision', 'ultramarin', 'uncam', 'unification', 'unifier', 'unilatéral', 'union', 'unique', 'uniquement', 'unité', 'universalité', 'universel', 'urbain', 'urgence', 'urp', 'urssaf', 'usage', 'usager', 'usent', 'usld', 'utilisateur', 'utilisation', 'utiliser', 'v', 'vaccin', 'vaccinal', 'vaccination', 'vachey', 'vachez', 'vague', 'valeur', 'valide', 'valider', 'validité', 'valorisation', 'valoriser', 'variété', 'veil', 'veille', 'veiller', 'venir', 'vente', 'ventiler', 'verre', 'versement', 'verser', 'version', 'vi', 'victime', 'vide', 'vie', 'vieilless', 'vigilance', 'vigueur', 'vii', 'viii', 'ville', 'vin', 'vingtaine', 'violence', 'virage', 'virologique', 'vis', 'vise', 'viser', 'visibilité', 'vision', 'visite', 'vital', 'viticole', 'viticulture', 'vivant', 'vocation', 'voie', 'voir', 'vol', 'volet', 'volontaire', 'volontariat', 'volonté', 'volume', 'vote', 'voter', 'vouloir', 'vph', 'vue', 'vulnérable', 'véhicule', 'vérification', 'véritable', 'vétérinaire', 'x', 'xi', 'z', 'zd', 'zda', 'zdp', 'zone', 'âge', 'âgé', 'écart', 'échange', 'échanger', 'échoir', 'échéance', 'école', 'économie', 'économier', 'économique', 'écrite', 'écriture', 'éditeur', 'éducatif', 'éducation', 'égal', 'égalité', 'élaborer', 'élargir', 'élargissement', 'électoral', 'électrique', 'électronique', 'élevage', 'élevé', 'éligible', 'éloignement', 'élu', 'élève', 'élément', 'émission', 'émotion', 'énoncer', 'épargne', 'épargner', 'épidémie', 'épidémiologique', 'épuisement', 'équilibre', 'équilibré', 'équipe', 'équipement', 'équiper', 'équitable', 'équitablement', 'équité', 'équivalent', 'établi', 'établir', 'établissement', 'étape', 'état', 'étendant', 'étendre', 'étranger', 'étude', 'étudiant', 'étudier', 'évaluation', 'évalue', 'évaluer', 'éventuel', 'éventuellement', 'éviction', 'éviter', 'évoluer', 'évolution', 'évènement', 'œuvre']\n"
     ]
    }
   ],
   "source": [
    "# Analyse des mots du corpus dans sa globalité\n",
    "words = pd.DataFrame(words)\n",
    "mots_uniques = []\n",
    "for c in words:\n",
    "    temp = list (words[c].unique())\n",
    "    for word in temp:\n",
    "        if type(word) is not float:\n",
    "            mots_uniques.append( str(word) )  #List of unique words\n",
    "        \n",
    "#On enlève les doublons\n",
    "mots_uniques = list(dict.fromkeys(mots_uniques))\n",
    "mots_uniques.sort()\n",
    "print( \"Nombre total de mots les plus utilisés : \", len(mots_uniques), '\\n' )\n",
    "print(\"Liste des mots les plus utilisés: \", mots_uniques)"
   ]
  },
  {
   "cell_type": "markdown",
   "id": "communist-blanket",
   "metadata": {},
   "source": [
    "# TF IDF\n",
    "Term frequency - inverse document frequency"
   ]
  },
  {
   "cell_type": "markdown",
   "id": "emotional-interference",
   "metadata": {},
   "source": [
    "## Calculs et analyse"
   ]
  },
  {
   "cell_type": "code",
   "execution_count": 34,
   "id": "listed-disorder",
   "metadata": {},
   "outputs": [
    {
     "name": "stdout",
     "output_type": "stream",
     "text": [
      "['compléter remettre parlement échéance période expérimentation évaluation porter contemporanéité crédit impôt sexdecie général impôt participation financier bénéficiaire prestation action social famille part coût induire application degré prestataire définir degré travail participer expérimentation part louable expérimenter dispositif permettre décalage moment dépense réaliser aide percevoir recourir service domicile vulnérable nécessaire mesurer éventuel induire négatif saad facturer prix participation financier légal prévoir apa pch convier mesurer expérimentation prix service conséquence charge ailleurs expérimentation prévoit contemporanéité apa pch organiser centre cesu or déjà conseil départemental pouvoir verser mécanisme tiers payer prise charge saad limiter avance trésorerie bénéficiaire convier vérifier expérimentation introduire nouveau acteur engendre surcoût service prestataire complexité supplémentaire', 'insérer dudit limiter possibilité organiser délégation soin cadre prise charge établissement santé établissement service social degré rédiger degré disposition action social famille règle tarification organisation prévoir action social famille applicable établissement service b redéfinir modalité qualification acte aide acte soin prise charge établissement service social permettre amplifier portée médico social question cler rigidité financier ouvrir possibilité expérimenter dérogation règle tarification établissement service social forme cloisonnement mettre cause pertinence accompagnement générer rupture parcours prévoit étendre dérogation point règle organisation établissement service social favoriser innovation organisationnel permettre expérimenter nouveau forme coopération acteur social sanitaire service parcours santé vie modalité qualification acte aide acte soin cadre accompagnement établissement service social médico social plfs similaire déposer rejeter motif sujet devoir traiter concertation grand âge autonomie piloter dominique libault or mars aborde expressément sujet justifier déposer nouveau']\n"
     ]
    }
   ],
   "source": [
    "import sklearn\n",
    "import pickle\n",
    "#Mise sous forme 'corpus' (une liste de tous les textes)\n",
    "corpus = []\n",
    "for amdt1 in amdts_cleaned:\n",
    "    temp = ' '.join(amdt1)\n",
    "    corpus.append(temp)\n",
    "    temp = ''\n",
    "    \n",
    "#Vectorization - Term Frequency in Global Corpus\n",
    "from sklearn.feature_extraction.text import CountVectorizer\n",
    "vectorizer = CountVectorizer()\n",
    "tf = vectorizer.fit_transform(corpus)\n",
    "\n",
    "#Sauvegarde dans un fichier csv\n",
    "with open(\"data_csv/corpus.txt\", \"wb\") as fp:   #Pickling\n",
    "    pickle.dump(corpus, fp)\n",
    "\n",
    "print(corpus[2:4])"
   ]
  },
  {
   "cell_type": "code",
   "execution_count": 35,
   "id": "intended-authentication",
   "metadata": {},
   "outputs": [
    {
     "name": "stdout",
     "output_type": "stream",
     "text": [
      "['aa', 'aah', 'aasctel', 'ab', 'abaisse', 'abaissement', 'abaisser', 'abandon', 'abandonne', 'abandonner']\n"
     ]
    }
   ],
   "source": [
    "#Features: l'ensemble des mots dans le corpus (après nettoyage)\n",
    "feature_names = vectorizer.get_feature_names()\n",
    "print(feature_names[:10])"
   ]
  },
  {
   "cell_type": "code",
   "execution_count": 36,
   "id": "prostate-economy",
   "metadata": {},
   "outputs": [
    {
     "name": "stdout",
     "output_type": "stream",
     "text": [
      "Matrice de densité: poids de chaque mot dans chacun des amendements                                     aa  aah  aasctel   ab  abaisse  \\\n",
      "AMANR5L15PO420120B2296P0D1N000001  0.0  0.0      0.0  0.0      0.0   \n",
      "AMANR5L15PO420120B2296P0D1N000002  0.0  0.0      0.0  0.0      0.0   \n",
      "AMANR5L15PO420120B2296P0D1N000005  0.0  0.0      0.0  0.0      0.0   \n",
      "AMANR5L15PO420120B2296P0D1N000008  0.0  0.0      0.0  0.0      0.0   \n",
      "AMANR5L15PO420120B2296P0D1N000010  0.0  0.0      0.0  0.0      0.0   \n",
      "\n",
      "                                   abaissement  abaisser  abandon  abandonne  \\\n",
      "AMANR5L15PO420120B2296P0D1N000001          0.0       0.0      0.0        0.0   \n",
      "AMANR5L15PO420120B2296P0D1N000002          0.0       0.0      0.0        0.0   \n",
      "AMANR5L15PO420120B2296P0D1N000005          0.0       0.0      0.0        0.0   \n",
      "AMANR5L15PO420120B2296P0D1N000008          0.0       0.0      0.0        0.0   \n",
      "AMANR5L15PO420120B2296P0D1N000010          0.0       0.0      0.0        0.0   \n",
      "\n",
      "                                   abandonner  ...  évènementiel  événement  \\\n",
      "AMANR5L15PO420120B2296P0D1N000001         0.0  ...           0.0        0.0   \n",
      "AMANR5L15PO420120B2296P0D1N000002         0.0  ...           0.0        0.0   \n",
      "AMANR5L15PO420120B2296P0D1N000005         0.0  ...           0.0        0.0   \n",
      "AMANR5L15PO420120B2296P0D1N000008         0.0  ...           0.0        0.0   \n",
      "AMANR5L15PO420120B2296P0D1N000010         0.0  ...           0.0        0.0   \n",
      "\n",
      "                                   événementiel  êtrepar  île  œdème  \\\n",
      "AMANR5L15PO420120B2296P0D1N000001           0.0      0.0  0.0    0.0   \n",
      "AMANR5L15PO420120B2296P0D1N000002           0.0      0.0  0.0    0.0   \n",
      "AMANR5L15PO420120B2296P0D1N000005           0.0      0.0  0.0    0.0   \n",
      "AMANR5L15PO420120B2296P0D1N000008           0.0      0.0  0.0    0.0   \n",
      "AMANR5L15PO420120B2296P0D1N000010           0.0      0.0  0.0    0.0   \n",
      "\n",
      "                                   œnologie  œuf  œuvre  œuvrer  \n",
      "AMANR5L15PO420120B2296P0D1N000001       0.0  0.0    0.0     0.0  \n",
      "AMANR5L15PO420120B2296P0D1N000002       0.0  0.0    0.0     0.0  \n",
      "AMANR5L15PO420120B2296P0D1N000005       0.0  0.0    0.0     0.0  \n",
      "AMANR5L15PO420120B2296P0D1N000008       0.0  0.0    0.0     0.0  \n",
      "AMANR5L15PO420120B2296P0D1N000010       0.0  0.0    0.0     0.0  \n",
      "\n",
      "[5 rows x 9061 columns] \n",
      " \n",
      "\n"
     ]
    }
   ],
   "source": [
    "#IDF - Inverse Document Frequencies\n",
    "import numpy as np\n",
    "from sklearn.feature_extraction.text import TfidfVectorizer\n",
    "\n",
    "#Initialize and fit TfidfVectorizer\n",
    "vectorizer = TfidfVectorizer(norm=None)\n",
    "tf_idf_scores = vectorizer.fit_transform(corpus)\n",
    "\n",
    "#Résultats sous forme matricielle\n",
    "df_tf_idf = pd.DataFrame(tf_idf_scores.todense())\n",
    "df_tf_idf.columns =  feature_names\n",
    "df_tf_idf.index = corpus_index\n",
    "print(\"Matrice de densité: poids de chaque mot dans chacun des amendements\", df_tf_idf.head(), \"\\n \\n\")\n",
    "\n",
    "#Sauvegarde dans un fichier csv\n",
    "#df_tf_idf.to_csv('data_csv/matrice_de_densite_par_rapport_au_corpus.csv'.format(nb = N))"
   ]
  },
  {
   "cell_type": "markdown",
   "id": "strong-emergency",
   "metadata": {},
   "source": [
    "## Enregistrement des mots les plus importants pour chaque amendement par rapport au reste du corpus"
   ]
  },
  {
   "cell_type": "code",
   "execution_count": 39,
   "id": "satellite-marsh",
   "metadata": {},
   "outputs": [
    {
     "name": "stdout",
     "output_type": "stream",
     "text": [
      "                                        0        1          2            3    \\\n",
      "AMANR5L15PO420120B2296P0D1N000001  sécurité     vise    insérer      prévoir   \n",
      "AMANR5L15PO420120B2296P0D1N000002   pouvoir    santé       vise      insérer   \n",
      "AMANR5L15PO420120B2296P0D1N000005    social  pouvoir  permettre      prévoir   \n",
      "AMANR5L15PO420120B2296P0D1N000008    devoir  insérer    rédiger      prévoir   \n",
      "AMANR5L15PO420120B2296P0D1N000010      vise    faire    rédiger  financement   \n",
      "\n",
      "                                          4            5            6    \\\n",
      "AMANR5L15PO420120B2296P0D1N000001   compléter         état    organisme   \n",
      "AMANR5L15PO420120B2296P0D1N000002      charge       mettre  disposition   \n",
      "AMANR5L15PO420120B2296P0D1N000005  dispositif    compléter      général   \n",
      "AMANR5L15PO420120B2296P0D1N000008      mettre  disposition    sanitaire   \n",
      "AMANR5L15PO420120B2296P0D1N000010   compléter  conséquence           an   \n",
      "\n",
      "                                       7            8          9    ...   499  \\\n",
      "AMANR5L15PO420120B2296P0D1N000001   mettre  conséquence         an  ...  None   \n",
      "AMANR5L15PO420120B2296P0D1N000002  dernier        cadre   ensemble  ...  None   \n",
      "AMANR5L15PO420120B2296P0D1N000005  nouveau  conséquence      prise  ...  None   \n",
      "AMANR5L15PO420120B2296P0D1N000008  prévoit           or  financier  ...  None   \n",
      "AMANR5L15PO420120B2296P0D1N000010    place       france         or  ...  None   \n",
      "\n",
      "                                    500   501   502   503   504   505   506  \\\n",
      "AMANR5L15PO420120B2296P0D1N000001  None  None  None  None  None  None  None   \n",
      "AMANR5L15PO420120B2296P0D1N000002  None  None  None  None  None  None  None   \n",
      "AMANR5L15PO420120B2296P0D1N000005  None  None  None  None  None  None  None   \n",
      "AMANR5L15PO420120B2296P0D1N000008  None  None  None  None  None  None  None   \n",
      "AMANR5L15PO420120B2296P0D1N000010  None  None  None  None  None  None  None   \n",
      "\n",
      "                                    507   508  \n",
      "AMANR5L15PO420120B2296P0D1N000001  None  None  \n",
      "AMANR5L15PO420120B2296P0D1N000002  None  None  \n",
      "AMANR5L15PO420120B2296P0D1N000005  None  None  \n",
      "AMANR5L15PO420120B2296P0D1N000008  None  None  \n",
      "AMANR5L15PO420120B2296P0D1N000010  None  None  \n",
      "\n",
      "[5 rows x 509 columns]\n"
     ]
    }
   ],
   "source": [
    "#On analyse pour chaque amendement les X mots les plus importants (par rapport au reste du corpus)\n",
    "outstanding_words = []\n",
    "for i in range(len(df_tf_idf)): #On parcourt les amendements\n",
    "    mots = []\n",
    "    poids = []\n",
    "    mots_sorted = []\n",
    "    for mot in df_tf_idf :\n",
    "        if df_tf_idf[mot].iloc[i] > 0 :\n",
    "            mots.append(str(mot)) # (mot, poids)\n",
    "            poids.append(df_tf_idf[mot].iloc[i]) # (mot, poids)\n",
    "    mots_sorted = [x for _,x in sorted(zip(poids,mots))]\n",
    "    #print(mots_sorted)\n",
    "    outstanding_words.append(mots_sorted)       \n",
    "     \n",
    "del(df)\n",
    "df = pd.DataFrame(outstanding_words)\n",
    "df.index = corpus_index\n",
    "print(df.head())  \n",
    "\n",
    "#Sauvegarde dans un fichier csv\n",
    "df.to_csv('data_csv/mots_importants_specifiques_a_chaque_amdt.csv')"
   ]
  },
  {
   "cell_type": "markdown",
   "id": "eligible-burst",
   "metadata": {},
   "source": [
    "## Comparatif: mots spécifiques VS mots relatifs"
   ]
  },
  {
   "cell_type": "code",
   "execution_count": 1,
   "id": "religious-latex",
   "metadata": {},
   "outputs": [
    {
     "ename": "NameError",
     "evalue": "name 'df' is not defined",
     "output_type": "error",
     "traceback": [
      "\u001b[0;31m---------------------------------------------------------------------------\u001b[0m",
      "\u001b[0;31mNameError\u001b[0m                                 Traceback (most recent call last)",
      "\u001b[0;32m<ipython-input-1-70f85d52bbb4>\u001b[0m in \u001b[0;36m<module>\u001b[0;34m\u001b[0m\n\u001b[1;32m      1\u001b[0m \u001b[0mN\u001b[0m \u001b[0;34m=\u001b[0m \u001b[0;36m4\u001b[0m\u001b[0;34m\u001b[0m\u001b[0;34m\u001b[0m\u001b[0m\n\u001b[1;32m      2\u001b[0m \u001b[0mdf2\u001b[0m \u001b[0;34m=\u001b[0m \u001b[0;34m[\u001b[0m\u001b[0;34m]\u001b[0m\u001b[0;34m\u001b[0m\u001b[0;34m\u001b[0m\u001b[0m\n\u001b[0;32m----> 3\u001b[0;31m \u001b[0;32mfor\u001b[0m \u001b[0mi\u001b[0m \u001b[0;32min\u001b[0m \u001b[0mrange\u001b[0m\u001b[0;34m(\u001b[0m\u001b[0mlen\u001b[0m\u001b[0;34m(\u001b[0m\u001b[0mdf\u001b[0m\u001b[0;34m)\u001b[0m\u001b[0;34m)\u001b[0m\u001b[0;34m:\u001b[0m\u001b[0;34m\u001b[0m\u001b[0;34m\u001b[0m\u001b[0m\n\u001b[0m\u001b[1;32m      4\u001b[0m     \u001b[0mmots_spec\u001b[0m \u001b[0;34m=\u001b[0m \u001b[0;34m[\u001b[0m\u001b[0;34m]\u001b[0m\u001b[0;34m\u001b[0m\u001b[0;34m\u001b[0m\u001b[0m\n\u001b[1;32m      5\u001b[0m     \u001b[0mmots_rel\u001b[0m \u001b[0;34m=\u001b[0m \u001b[0;34m[\u001b[0m\u001b[0;34m]\u001b[0m\u001b[0;34m\u001b[0m\u001b[0;34m\u001b[0m\u001b[0m\n",
      "\u001b[0;31mNameError\u001b[0m: name 'df' is not defined"
     ]
    }
   ],
   "source": [
    "N = 4\n",
    "df2 = []\n",
    "for i in range(len(df)):\n",
    "    mots_spec = []\n",
    "    mots_rel = []\n",
    "    for j in range(N):\n",
    "        if freq.iloc[i][j] != None :\n",
    "            mots_spec.append( freq.iloc[i][j][0] )\n",
    "            mots_rel.append( df.iloc[i][j] )\n",
    "    df2.append( mots_spec + mots_rel ) # N mots relatifs\n",
    "\n",
    "#Mise en forme     \n",
    "df2 = pd.DataFrame(df2)\n",
    "spec_index = ['Mot Fréquent{i}'.format(i = j+1) for j in range(N)]\n",
    "rel_index = ['Mot Important{i}'.format(i = j+1) for j in range(N)]\n",
    "df2.columns = [spec_index + rel_index]\n",
    "df2.index = corpus_index  \n",
    "print(\"{nb} mots spécifiques et {nb} mots relatifs : \".format(nb = N), df2.head(), \"\\n\")\n",
    "\n",
    "#Pour plus de lisibilité, on regroupe les cas similaires\n",
    "final = df2.value_counts()\n",
    "print(final.head())\n",
    "\n",
    "#Sauvegarde dans un fichier csv\n",
    "final.to_csv('data_csv/comparatif_{nb}_mots_specifiques_et_relatifs_pour_chaque_amdts.csv'.format(nb = N))"
   ]
  },
  {
   "cell_type": "code",
   "execution_count": null,
   "id": "better-following",
   "metadata": {},
   "outputs": [],
   "source": [
    "#Toutes les données sont exportées en CSV dans le folder data_csv"
   ]
  },
  {
   "cell_type": "code",
   "execution_count": 41,
   "id": "documentary-bloom",
   "metadata": {},
   "outputs": [
    {
     "name": "stdout",
     "output_type": "stream",
     "text": [
      "4797\n",
      "2885\n"
     ]
    }
   ],
   "source": [
    "print(len(df2))\n",
    "print(len(final))"
   ]
  },
  {
   "cell_type": "code",
   "execution_count": null,
   "id": "israeli-gallery",
   "metadata": {},
   "outputs": [],
   "source": []
  }
 ],
 "metadata": {
  "kernelspec": {
   "display_name": "openfiscaenv",
   "language": "python",
   "name": "openfiscaenv"
  },
  "language_info": {
   "codemirror_mode": {
    "name": "ipython",
    "version": 3
   },
   "file_extension": ".py",
   "mimetype": "text/x-python",
   "name": "python",
   "nbconvert_exporter": "python",
   "pygments_lexer": "ipython3",
   "version": "3.7.9"
  }
 },
 "nbformat": 4,
 "nbformat_minor": 5
}
