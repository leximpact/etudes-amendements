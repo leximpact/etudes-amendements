{
 "cells": [
  {
   "cell_type": "markdown",
   "metadata": {},
   "source": [
    "# Études des amendements pour LexImpact"
   ]
  },
  {
   "cell_type": "markdown",
   "metadata": {},
   "source": [
    "Diverses études des amendements et projets de lois de l'Assemblée, pour le projet [LexImpact](https://leximpact.an.fr/)\n",
    "\n",
    "Les données extraites par ces scripts sont généralement mises dans le [dépôt Git des données extraites de l'Assemblée](https://github.com/leximpact/donnees-extraites-assemblee).\n"
   ]
  },
  {
   "cell_type": "markdown",
   "metadata": {},
   "source": [
    "## Utilisation"
   ]
  },
  {
   "cell_type": "markdown",
   "metadata": {},
   "source": [
    "### Extraction des textes des amendements sous forme de fichier CSV\n",
    "\n",
    "```bash\n",
    "npx babel-node --extensions \".ts\" --max-old-space-size=4096 src/scripts/extraire_textes_amendements_plfss_2020-2021.ts ../../tricoteuses/assemblee-data/ > ../donnees-extraites-assemblee/textes_amendements_plfss_2020-2021.csv\n",
    "```\n",
    "\n",
    "### Extraction des références aux articles de lois faites par les amendements sous forme de fichier CSV\n",
    "\n",
    "Note : Ces script utilisent la bibliothèque [metslesliens](https://www.npmjs.com/package/metslesliens) pour extraire des amendements les références qu'ils font aux articles de lois (et à leurs alinéas).\n",
    "\n",
    "#### Pour les amendements des PLFSS 2020 et 2021 :\n",
    "\n",
    "```bash\n",
    "npx babel-node --extensions \".ts\" --max-old-space-size=4096 src/scripts/extraire_references_amendements_plfss_2020-2021.ts ../../tricoteuses/assemblee-data/ > ../donnees-extraites-assemblee/references_amendements_plfss_2020-2021.csv\n",
    "```\n",
    "\n",
    "#### Pour les amendements de tous les textes passés en Commission des affaires sociales :\n",
    "\n",
    "```bash\n",
    "npx babel-node --extensions \".ts\" --max-old-space-size=4096 src/scripts/extraire_references_amendements_affaires_sociales.ts ../../tricoteuses/assemblee-data/ > ../donnees-extraites-assemblee/references_amendements_affaires_sociales.csv\n",
    "```"
   ]
  },
  {
   "cell_type": "code",
   "execution_count": null,
   "metadata": {},
   "outputs": [],
   "source": []
  }
 ],
 "metadata": {
  "kernelspec": {
   "display_name": "Python 3",
   "language": "python",
   "name": "python3"
  }
 },
 "nbformat": 4,
 "nbformat_minor": 4
}
