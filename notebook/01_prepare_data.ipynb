{
 "cells": [
  {
   "cell_type": "code",
   "execution_count": null,
   "id": "bacterial-neighbor",
   "metadata": {},
   "outputs": [],
   "source": [
    "#default_exp prepare_data"
   ]
  },
  {
   "cell_type": "markdown",
   "id": "focused-range",
   "metadata": {},
   "source": [
    "# Etude des sujets des amendements PLFSS\n",
    "\n",
    "## Préparation des données"
   ]
  },
  {
   "cell_type": "code",
   "execution_count": null,
   "id": "external-munich",
   "metadata": {},
   "outputs": [],
   "source": [
    "#!python -m pip install --upgrade pip"
   ]
  },
  {
   "cell_type": "code",
   "execution_count": null,
   "id": "desirable-niagara",
   "metadata": {},
   "outputs": [],
   "source": [
    "#!pip install -q --upgrade pandas  spacy  more_itertools"
   ]
  },
  {
   "cell_type": "code",
   "execution_count": null,
   "id": "induced-marketplace",
   "metadata": {},
   "outputs": [],
   "source": [
    "# Put these at the top of every notebook, to get automatic reloading and inline plotting\n",
    "%reload_ext autoreload\n",
    "%autoreload 2\n",
    "from IPython.core.interactiveshell import InteractiveShell\n",
    "InteractiveShell.ast_node_interactivity = \"all\""
   ]
  },
  {
   "cell_type": "code",
   "execution_count": null,
   "id": "fluid-clothing",
   "metadata": {},
   "outputs": [],
   "source": [
    "#!python -m spacy download fr_core_news_sm > /dev/null"
   ]
  },
  {
   "cell_type": "code",
   "execution_count": null,
   "id": "nearby-continuity",
   "metadata": {},
   "outputs": [
    {
     "data": {
      "text/html": [
       "<div>\n",
       "<style scoped>\n",
       "    .dataframe tbody tr th:only-of-type {\n",
       "        vertical-align: middle;\n",
       "    }\n",
       "\n",
       "    .dataframe tbody tr th {\n",
       "        vertical-align: top;\n",
       "    }\n",
       "\n",
       "    .dataframe thead th {\n",
       "        text-align: right;\n",
       "    }\n",
       "</style>\n",
       "<table border=\"1\" class=\"dataframe\">\n",
       "  <thead>\n",
       "    <tr style=\"text-align: right;\">\n",
       "      <th></th>\n",
       "      <th>texteLegislatifUid</th>\n",
       "      <th>uid</th>\n",
       "      <th>avantAApres</th>\n",
       "      <th>dispositif</th>\n",
       "      <th>exposeSommaire</th>\n",
       "    </tr>\n",
       "  </thead>\n",
       "  <tbody>\n",
       "    <tr>\n",
       "      <th>0</th>\n",
       "      <td>PRJLANR5L15B2296</td>\n",
       "      <td>AMANR5L15PO420120B2296P0D1N000001</td>\n",
       "      <td>A</td>\n",
       "      <td>I. – Après l’alinéa 13, insérer l’alinéa suiv...</td>\n",
       "      <td>La mise en place d’un accord d’intéressement d...</td>\n",
       "    </tr>\n",
       "  </tbody>\n",
       "</table>\n",
       "</div>"
      ],
      "text/plain": [
       "  texteLegislatifUid                                uid avantAApres  \\\n",
       "0   PRJLANR5L15B2296  AMANR5L15PO420120B2296P0D1N000001           A   \n",
       "\n",
       "                                          dispositif  \\\n",
       "0   I. – Après l’alinéa 13, insérer l’alinéa suiv...   \n",
       "\n",
       "                                      exposeSommaire  \n",
       "0  La mise en place d’un accord d’intéressement d...  "
      ]
     },
     "execution_count": null,
     "metadata": {},
     "output_type": "execute_result"
    }
   ],
   "source": [
    "# Importing modules\n",
    "import pandas as pd\n",
    "#amdt = pd.read_csv('../../../donnees-extraites-assemblee/textes_amendements_nouveaux_articles_plfss_2020-2021.csv')\n",
    "amdt = pd.read_csv('https://github.com/leximpact/donnees-extraites-assemblee/raw/main/textes_amendements_nouveaux_articles_plfss_2020-2021.csv')\n",
    "amdt.head(1)"
   ]
  },
  {
   "cell_type": "code",
   "execution_count": null,
   "id": "secondary-theology",
   "metadata": {},
   "outputs": [],
   "source": [
    "# FOR DEBUG\n",
    "# Keep a random sample\n",
    "amdt = amdt.sample(n=100,replace=False, random_state=1)"
   ]
  },
  {
   "cell_type": "code",
   "execution_count": null,
   "id": "advised-counter",
   "metadata": {},
   "outputs": [
    {
     "data": {
      "text/plain": [
       "100"
      ]
     },
     "execution_count": null,
     "metadata": {},
     "output_type": "execute_result"
    }
   ],
   "source": [
    "len(amdt)"
   ]
  },
  {
   "cell_type": "code",
   "execution_count": null,
   "id": "antique-tonight",
   "metadata": {},
   "outputs": [],
   "source": [
    "#amdt = amdt.drop(columns=['texteLegislatifUid', 'avantAApres'], axis=1)"
   ]
  },
  {
   "cell_type": "code",
   "execution_count": null,
   "id": "incoming-steal",
   "metadata": {},
   "outputs": [],
   "source": [
    "amdt['texte'] = amdt['dispositif'] + amdt['exposeSommaire']"
   ]
  },
  {
   "cell_type": "markdown",
   "id": "dynamic-growth",
   "metadata": {},
   "source": [
    "## Nettoyage"
   ]
  },
  {
   "cell_type": "markdown",
   "id": "detailed-russia",
   "metadata": {},
   "source": [
    "### Retrait des mots de liaison (_stopword_) et de la ponctuation"
   ]
  },
  {
   "cell_type": "code",
   "execution_count": null,
   "id": "naughty-persian",
   "metadata": {},
   "outputs": [
    {
     "name": "stdout",
     "output_type": "stream",
     "text": [
      "Bonjour Madame Marianne et Monsieur Coq,\n",
      " Comment allez-vous ?\n"
     ]
    }
   ],
   "source": [
    "test = \"Bonjour Madame Marianne et Monsieur Coq,\\n Comment allez-vous ?\"\n",
    "print(test)"
   ]
  },
  {
   "cell_type": "code",
   "execution_count": null,
   "id": "unknown-mention",
   "metadata": {},
   "outputs": [],
   "source": [
    "import spacy\n",
    "#from spacy.lang.fr.stop_words import STOP_WORDS as fr_stop\n",
    "nlp = spacy.load(\"fr_core_news_sm\")"
   ]
  },
  {
   "cell_type": "code",
   "execution_count": null,
   "id": "thick-verse",
   "metadata": {},
   "outputs": [
    {
     "data": {
      "text/plain": [
       "['Bonjour', 'Madame', 'Marianne', 'Monsieur', 'Coq', 'allez', '-vous']"
      ]
     },
     "execution_count": null,
     "metadata": {},
     "output_type": "execute_result"
    }
   ],
   "source": [
    "\n",
    "def return_token(sentence):\n",
    "    # Tokeniser la phrase\n",
    "    doc = nlp(sentence)\n",
    "    # Retourner le texte de chaque token\n",
    "    #print(doc[4].pos_)\n",
    "    # Retire la ponctuation et les retours à la ligne\n",
    "    return [X.text for X in doc if X.is_punct is False | X.is_space is False | X.is_stop is False ]\n",
    "test_token = return_token(test)\n",
    "test_token"
   ]
  },
  {
   "cell_type": "code",
   "execution_count": null,
   "id": "growing-columbus",
   "metadata": {},
   "outputs": [],
   "source": [
    "data_words = []\n",
    "\n",
    "def str_token(text):\n",
    "    global data_words\n",
    "    tokens = return_token(text)\n",
    "    data_words += tokens\n",
    "    return \" \".join(tokens)\n",
    "\n",
    "amdt['txt_sans_stopword'] = amdt['texte'].apply(str_token)"
   ]
  },
  {
   "cell_type": "code",
   "execution_count": null,
   "id": "stunning-shark",
   "metadata": {},
   "outputs": [
    {
     "data": {
      "text/plain": [
       "10756"
      ]
     },
     "execution_count": null,
     "metadata": {},
     "output_type": "execute_result"
    }
   ],
   "source": [
    "len(data_words)"
   ]
  },
  {
   "cell_type": "code",
   "execution_count": null,
   "id": "harmful-exclusive",
   "metadata": {},
   "outputs": [],
   "source": [
    "import pickle\n",
    "pickle.dump( data_words, open( \"./data/amdt_data_words.pickle\", \"wb\" ) )\n",
    "amdt['txt_sans_stopword'].to_csv('./data/amdt_sans_stopword.csv.gz', compression='gzip')"
   ]
  },
  {
   "cell_type": "code",
   "execution_count": null,
   "id": "attempted-sweet",
   "metadata": {},
   "outputs": [],
   "source": []
  },
  {
   "cell_type": "markdown",
   "id": "pretty-emerald",
   "metadata": {},
   "source": [
    "# WIP : Les entites les plus cités\n",
    "Spacy permet d'extraire les nom de personne, de lieu, les dates, cela pourrait servir..."
   ]
  },
  {
   "cell_type": "code",
   "execution_count": null,
   "id": "younger-scholar",
   "metadata": {},
   "outputs": [
    {
     "name": "stdout",
     "output_type": "stream",
     "text": [
      "Bonjour Madame Marianne 0 23 PER\n",
      "Monsieur Coq 27 39 PER\n"
     ]
    }
   ],
   "source": [
    "doc = nlp(test)\n",
    "\n",
    "for ent in doc.ents:\n",
    "    print(ent.text, ent.start_char, ent.end_char, ent.label_)"
   ]
  },
  {
   "cell_type": "code",
   "execution_count": null,
   "id": "unnecessary-estonia",
   "metadata": {},
   "outputs": [],
   "source": []
  }
 ],
 "metadata": {
  "kernelspec": {
   "display_name": "Python 3",
   "language": "python",
   "name": "python3"
  }
 },
 "nbformat": 4,
 "nbformat_minor": 5
}
