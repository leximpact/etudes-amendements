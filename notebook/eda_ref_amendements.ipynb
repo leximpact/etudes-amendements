{
 "cells": [
  {
   "cell_type": "code",
   "execution_count": null,
   "id": "through-station",
   "metadata": {},
   "outputs": [],
   "source": [
    "import pandas as pd"
   ]
  },
  {
   "cell_type": "code",
   "execution_count": null,
   "id": "frequent-latest",
   "metadata": {},
   "outputs": [],
   "source": [
    "#hide\n",
    "# Put these at the top of every notebook, to get automatic reloading and inline plotting\n",
    "%reload_ext autoreload\n",
    "%autoreload 2\n",
    "%matplotlib inline\n",
    "from IPython.core.interactiveshell import InteractiveShell\n",
    "InteractiveShell.ast_node_interactivity = \"all\""
   ]
  },
  {
   "cell_type": "code",
   "execution_count": null,
   "id": "integral-signal",
   "metadata": {},
   "outputs": [
    {
     "data": {
      "text/plain": [
       "Index(['alinea', 'alinea1', 'alinea2', 'article', 'book', 'chapter',\n",
       "       'code-part', 'law', 'lawType', 'paragraph', 'section', 'section1',\n",
       "       'sentence', 'text', 'title'],\n",
       "      dtype='object')"
      ]
     },
     "execution_count": null,
     "metadata": {},
     "output_type": "execute_result"
    },
    {
     "data": {
      "text/html": [
       "<div>\n",
       "<style scoped>\n",
       "    .dataframe tbody tr th:only-of-type {\n",
       "        vertical-align: middle;\n",
       "    }\n",
       "\n",
       "    .dataframe tbody tr th {\n",
       "        vertical-align: top;\n",
       "    }\n",
       "\n",
       "    .dataframe thead th {\n",
       "        text-align: right;\n",
       "    }\n",
       "</style>\n",
       "<table border=\"1\" class=\"dataframe\">\n",
       "  <thead>\n",
       "    <tr style=\"text-align: right;\">\n",
       "      <th></th>\n",
       "      <th>alinea</th>\n",
       "      <th>alinea1</th>\n",
       "      <th>alinea2</th>\n",
       "      <th>article</th>\n",
       "      <th>book</th>\n",
       "      <th>chapter</th>\n",
       "      <th>code-part</th>\n",
       "      <th>law</th>\n",
       "      <th>lawType</th>\n",
       "      <th>paragraph</th>\n",
       "      <th>section</th>\n",
       "      <th>section1</th>\n",
       "      <th>sentence</th>\n",
       "      <th>text</th>\n",
       "      <th>title</th>\n",
       "    </tr>\n",
       "  </thead>\n",
       "  <tbody>\n",
       "    <tr>\n",
       "      <th>0</th>\n",
       "      <td>V order: 5</td>\n",
       "      <td>NaN</td>\n",
       "      <td>NaN</td>\n",
       "      <td>NaN</td>\n",
       "      <td>NaN</td>\n",
       "      <td>NaN</td>\n",
       "      <td>NaN</td>\n",
       "      <td>NaN</td>\n",
       "      <td>NaN</td>\n",
       "      <td>NaN</td>\n",
       "      <td>NaN</td>\n",
       "      <td>NaN</td>\n",
       "      <td>NaN</td>\n",
       "      <td>au V</td>\n",
       "      <td>NaN</td>\n",
       "    </tr>\n",
       "    <tr>\n",
       "      <th>1</th>\n",
       "      <td>NaN</td>\n",
       "      <td>NaN</td>\n",
       "      <td>NaN</td>\n",
       "      <td>575</td>\n",
       "      <td>NaN</td>\n",
       "      <td>NaN</td>\n",
       "      <td>NaN</td>\n",
       "      <td>code général des impôts</td>\n",
       "      <td>code</td>\n",
       "      <td>NaN</td>\n",
       "      <td>NaN</td>\n",
       "      <td>NaN</td>\n",
       "      <td>NaN</td>\n",
       "      <td>aux articles 575 et 575 A du code général des ...</td>\n",
       "      <td>NaN</td>\n",
       "    </tr>\n",
       "    <tr>\n",
       "      <th>2</th>\n",
       "      <td>NaN</td>\n",
       "      <td>NaN</td>\n",
       "      <td>NaN</td>\n",
       "      <td>575 A</td>\n",
       "      <td>NaN</td>\n",
       "      <td>NaN</td>\n",
       "      <td>NaN</td>\n",
       "      <td>code général des impôts</td>\n",
       "      <td>code</td>\n",
       "      <td>NaN</td>\n",
       "      <td>NaN</td>\n",
       "      <td>NaN</td>\n",
       "      <td>NaN</td>\n",
       "      <td>aux articles 575 et 575 A du code général des ...</td>\n",
       "      <td>NaN</td>\n",
       "    </tr>\n",
       "  </tbody>\n",
       "</table>\n",
       "</div>"
      ],
      "text/plain": [
       "       alinea alinea1 alinea2 article book chapter code-part  \\\n",
       "0  V order: 5     NaN     NaN     NaN  NaN     NaN       NaN   \n",
       "1         NaN     NaN     NaN     575  NaN     NaN       NaN   \n",
       "2         NaN     NaN     NaN   575 A  NaN     NaN       NaN   \n",
       "\n",
       "                       law lawType  paragraph section  section1 sentence  \\\n",
       "0                      NaN     NaN        NaN     NaN       NaN      NaN   \n",
       "1  code général des impôts    code        NaN     NaN       NaN      NaN   \n",
       "2  code général des impôts    code        NaN     NaN       NaN      NaN   \n",
       "\n",
       "                                                text title  \n",
       "0                                               au V   NaN  \n",
       "1  aux articles 575 et 575 A du code général des ...   NaN  \n",
       "2  aux articles 575 et 575 A du code général des ...   NaN  "
      ]
     },
     "execution_count": null,
     "metadata": {},
     "output_type": "execute_result"
    }
   ],
   "source": [
    "df = pd.read_csv(\"https://github.com/leximpact/donnees-extraites-assemblee/raw/main/references_amendements_plfss_2020-2021.csv\")\n",
    "df.columns\n",
    "df.head(3)"
   ]
  },
  {
   "cell_type": "code",
   "execution_count": null,
   "id": "authorized-collector",
   "metadata": {},
   "outputs": [
    {
     "name": "stdout",
     "output_type": "stream",
     "text": [
      "Distinct values in alinea : 72\n",
      "Distinct values in alinea1 : 19\n",
      "Distinct values in alinea2 : 7\n",
      "Distinct values in article : 140\n",
      "Distinct values in book : 19\n",
      "Distinct values in chapter : 13\n",
      "Distinct values in code-part : 5\n",
      "Distinct values in law : 55\n",
      "Distinct values in lawType : 6\n",
      "Distinct values in paragraph : 3\n",
      "Distinct values in section : 17\n",
      "Distinct values in section1 : 2\n",
      "Distinct values in sentence : 8\n",
      "Distinct values in text : 759\n",
      "Distinct values in title : 18\n",
      "\n",
      "Column with too many distinct values :\n",
      " ['alinea', 'article', 'law', 'text']\n"
     ]
    },
    {
     "data": {
      "text/plain": [
       "'\\nDisplay distinct values\\n'"
      ]
     },
     "execution_count": null,
     "metadata": {},
     "output_type": "execute_result"
    },
    {
     "name": "stdout",
     "output_type": "stream",
     "text": [
      "Distinct values in alinea1\n"
     ]
    },
    {
     "data": {
      "text/plain": [
       "1                112\n",
       "2                 71\n",
       "b order: b        49\n",
       "3                 48\n",
       "a order: a        41\n",
       "4° order: 4       20\n",
       "1° order: 1       11\n",
       "indirect: -1       8\n",
       "c order: c         7\n",
       "C order: 100       7\n",
       "4                  6\n",
       "2° order: 2        4\n",
       "5                  4\n",
       "7                  3\n",
       "f order: f         2\n",
       "D order: 500       2\n",
       "12° order: 12      2\n",
       "3° order: 3        1\n",
       "d order: d         1\n",
       "Name: alinea1, dtype: int64"
      ]
     },
     "execution_count": null,
     "metadata": {},
     "output_type": "execute_result"
    },
    {
     "name": "stdout",
     "output_type": "stream",
     "text": [
      "Distinct values in alinea2\n"
     ]
    },
    {
     "data": {
      "text/plain": [
       "2                 5\n",
       "3                 2\n",
       "1                 2\n",
       "b order: b        1\n",
       "7                 1\n",
       "a bis order: a    1\n",
       "c order: c        1\n",
       "Name: alinea2, dtype: int64"
      ]
     },
     "execution_count": null,
     "metadata": {},
     "output_type": "execute_result"
    },
    {
     "name": "stdout",
     "output_type": "stream",
     "text": [
      "Distinct values in book\n"
     ]
    },
    {
     "data": {
      "text/plain": [
       "IV                         22\n",
       "II                         21\n",
       "Ier                        21\n",
       "indirect: (relative: 0)    18\n",
       "III                        16\n",
       "indirect: 1                15\n",
       "VII                        12\n",
       "1                           9\n",
       "VIII                        6\n",
       "2                           5\n",
       "I                           4\n",
       "8                           3\n",
       "VI                          3\n",
       "7                           2\n",
       "1er                         2\n",
       "IX                          2\n",
       "V                           1\n",
       "4                           1\n",
       "5                           1\n",
       "Name: book, dtype: int64"
      ]
     },
     "execution_count": null,
     "metadata": {},
     "output_type": "execute_result"
    },
    {
     "name": "stdout",
     "output_type": "stream",
     "text": [
      "Distinct values in chapter\n"
     ]
    },
    {
     "data": {
      "text/plain": [
       "II                         33\n",
       "V                          26\n",
       "Ier                        24\n",
       "IV                         14\n",
       "III                        11\n",
       "indirect: (relative: 0)     8\n",
       "2                           5\n",
       "VI                          5\n",
       "5                           4\n",
       "7                           3\n",
       "1er                         2\n",
       "4                           2\n",
       "3                           1\n",
       "Name: chapter, dtype: int64"
      ]
     },
     "execution_count": null,
     "metadata": {},
     "output_type": "execute_result"
    },
    {
     "name": "stdout",
     "output_type": "stream",
     "text": [
      "Distinct values in code-part\n"
     ]
    },
    {
     "data": {
      "text/plain": [
       "indirect: 1    26\n",
       "order: 6       18\n",
       "order: 2       12\n",
       "order: 5        4\n",
       "order: 3        4\n",
       "Name: code-part, dtype: int64"
      ]
     },
     "execution_count": null,
     "metadata": {},
     "output_type": "execute_result"
    },
    {
     "name": "stdout",
     "output_type": "stream",
     "text": [
      "Distinct values in lawType\n"
     ]
    },
    {
     "data": {
      "text/plain": [
       "code            3982\n",
       "loi              348\n",
       "constitution      34\n",
       "arrêté             8\n",
       "décret             6\n",
       "ordonnance         3\n",
       "Name: lawType, dtype: int64"
      ]
     },
     "execution_count": null,
     "metadata": {},
     "output_type": "execute_result"
    },
    {
     "name": "stdout",
     "output_type": "stream",
     "text": [
      "Distinct values in paragraph\n"
     ]
    },
    {
     "data": {
      "text/plain": [
       "1.0    2\n",
       "2.0    2\n",
       "8.0    1\n",
       "Name: paragraph, dtype: int64"
      ]
     },
     "execution_count": null,
     "metadata": {},
     "output_type": "execute_result"
    },
    {
     "name": "stdout",
     "output_type": "stream",
     "text": [
      "Distinct values in section\n"
     ]
    },
    {
     "data": {
      "text/plain": [
       "5                          21\n",
       "1                          12\n",
       "2                           9\n",
       "3                           9\n",
       "IV                          4\n",
       "13                          3\n",
       "4                           2\n",
       "III                         2\n",
       "VI                          2\n",
       "indirect: (relative: 0)     2\n",
       "7                           2\n",
       "15                          1\n",
       "14                          1\n",
       "V                           1\n",
       "8                           1\n",
       "order: 3                    1\n",
       "XX                          1\n",
       "Name: section, dtype: int64"
      ]
     },
     "execution_count": null,
     "metadata": {},
     "output_type": "execute_result"
    },
    {
     "name": "stdout",
     "output_type": "stream",
     "text": [
      "Distinct values in section1\n"
     ]
    },
    {
     "data": {
      "text/plain": [
       "4.0    3\n",
       "1.0    3\n",
       "Name: section1, dtype: int64"
      ]
     },
     "execution_count": null,
     "metadata": {},
     "output_type": "execute_result"
    },
    {
     "name": "stdout",
     "output_type": "stream",
     "text": [
      "Distinct values in sentence\n"
     ]
    },
    {
     "data": {
      "text/plain": [
       "1                          465\n",
       "2                          301\n",
       "indirect: -1                78\n",
       "3                           54\n",
       "indirect: (relative: 0)     16\n",
       "4                            5\n",
       "indirect: 1                  2\n",
       "5                            1\n",
       "Name: sentence, dtype: int64"
      ]
     },
     "execution_count": null,
     "metadata": {},
     "output_type": "execute_result"
    },
    {
     "name": "stdout",
     "output_type": "stream",
     "text": [
      "Distinct values in title\n"
     ]
    },
    {
     "data": {
      "text/plain": [
       "III                           34\n",
       "II                            30\n",
       "Ier                           25\n",
       "VI                            11\n",
       "IV                            11\n",
       "indirect: (relative: 0)       10\n",
       "I                              7\n",
       "II indirect: (relative: 0)     4\n",
       "4                              4\n",
       "6                              3\n",
       "V                              3\n",
       "3                              3\n",
       "1                              2\n",
       "7                              1\n",
       "1er                            1\n",
       "2                              1\n",
       "5                              1\n",
       "9                              1\n",
       "Name: title, dtype: int64"
      ]
     },
     "execution_count": null,
     "metadata": {},
     "output_type": "execute_result"
    }
   ],
   "source": [
    "columns = df.columns\n",
    "to_be_removed = []\n",
    "for column in columns:\n",
    "    nb_unique_values = eval('df[\"' + column + '\"].nunique()')\n",
    "    print(\"Distinct values in\", column, \":\", nb_unique_values)\n",
    "    if nb_unique_values > 50:\n",
    "        to_be_removed.append(column)\n",
    "print(\"\\nColumn with too many distinct values :\\n\", to_be_removed)\n",
    "'''\n",
    "Display distinct values\n",
    "'''\n",
    "columns_redux = [item for item in columns if item not in to_be_removed ]\n",
    "for column in columns_redux:\n",
    "    print(\"Distinct values in\", column)\n",
    "    eval('df[\"' + column + '\"].value_counts()')"
   ]
  },
  {
   "cell_type": "code",
   "execution_count": null,
   "id": "yellow-aviation",
   "metadata": {},
   "outputs": [
    {
     "data": {
      "text/plain": [
       "code général des impôts                                                1358\n",
       "code de la sécurité sociale                                            1309\n",
       "indirect: (relative: 0)                                                 661\n",
       "code de la santé publique                                               357\n",
       "code rural et de la pêche maritime                                      181\n",
       "code du travail                                                         152\n",
       "code de l’action sociale et des familles                                146\n",
       "Constitution                                                             34\n",
       "code des assurances                                                      19\n",
       "code pénal                                                               18\n",
       "code de la mutualité                                                     14\n",
       "code rural                                                               14\n",
       "code des transports                                                      10\n",
       "code général des collectivités territoriales                              9\n",
       "code des pensions militaires d’invalidité et des victimes de guerre       7\n",
       "code de commerce                                                          7\n",
       "du 2019-12-24                                                             6\n",
       "code monétaire et financier                                               6\n",
       "2019-1446 du 2019-12-24                                                   6\n",
       "code de l’entrée et du séjour des étrangers et du droit d’asile           4\n",
       "code de procédure pénale                                                  4\n",
       "code du sport                                                             4\n",
       "code des communes                                                         4\n",
       "code de la propriété intellectuelle                                       3\n",
       "livre des procédures fiscales                                             3\n",
       "78-17 du 1978-01-06                                                       3\n",
       "2012-1404 du 2012-12-17                                                   3\n",
       "du 1992-03-26                                                             3\n",
       "code civil                                                                2\n",
       "code des pensions civiles et militaires de retraite                       2\n",
       "code de l’organisation judiciaire                                         2\n",
       "code de l’Action Sociale et des Familles                                  2\n",
       "2013-1203 du 2013-12-23                                                   2\n",
       "du 1978-01-06                                                             2\n",
       "2015-1702 du 2015-12-21                                                   2\n",
       "98-1194 du 1998-12-23                                                     2\n",
       "du 1901-07-01                                                             2\n",
       "du 2017-03-16                                                             1\n",
       "du 2006-09-15                                                             1\n",
       "du 2002-10-28                                                             1\n",
       "du 2020-07-09                                                             1\n",
       "2003-1311 du 2003-12-30                                                   1\n",
       "du 2018-02-22                                                             1\n",
       "du 2009-12-23                                                             1\n",
       "code de la défense                                                        1\n",
       "2006-1640 du 2006-12-21                                                   1\n",
       "code des procédures civiles d’exécution                                   1\n",
       "Code de la santé publique                                                 1\n",
       "2018-1203 du 2018-12-22                                                   1\n",
       "code du tourisme                                                          1\n",
       "du 2020-08-07                                                             1\n",
       "code de l’environnement                                                   1\n",
       "indirect: -1                                                              1\n",
       "2014-1554 du 2014-12-22                                                   1\n",
       "code du service national                                                  1\n",
       "Name: law, dtype: int64"
      ]
     },
     "execution_count": null,
     "metadata": {},
     "output_type": "execute_result"
    }
   ],
   "source": [
    "df.law.value_counts()"
   ]
  },
  {
   "cell_type": "code",
   "execution_count": null,
   "id": "signed-edmonton",
   "metadata": {},
   "outputs": [],
   "source": []
  }
 ],
 "metadata": {
  "kernelspec": {
   "display_name": "leximpact",
   "language": "python",
   "name": "leximpact"
  }
 },
 "nbformat": 4,
 "nbformat_minor": 5
}
